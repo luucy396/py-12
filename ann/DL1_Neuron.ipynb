{
  "nbformat": 4,
  "nbformat_minor": 0,
  "metadata": {
    "colab": {
      "name": "DL1_Neuron.ipynb",
      "version": "0.3.2",
      "provenance": [],
      "collapsed_sections": [],
      "include_colab_link": true
    },
    "kernelspec": {
      "display_name": "Python 3",
      "language": "python",
      "name": "python3"
    }
  },
  "cells": [
    {
      "cell_type": "markdown",
      "metadata": {
        "id": "view-in-github",
        "colab_type": "text"
      },
      "source": [
        "<a href=\"https://colab.research.google.com/github/sangeunlim/py-12/blob/master/ann/DL1_Neuron.ipynb\" target=\"_parent\"><img src=\"https://colab.research.google.com/assets/colab-badge.svg\" alt=\"Open In Colab\"/></a>"
      ]
    },
    {
      "metadata": {
        "id": "TY1InxY7ZksQ",
        "colab_type": "text"
      },
      "cell_type": "markdown",
      "source": [
        "[link:DeepLearningFastStart](https://github.com/alfredessa/DeepLearningFastStart/blob/master/DL-Neuron.ipynb)"
      ]
    },
    {
      "metadata": {
        "id": "9_P39a1nZksT",
        "colab_type": "code",
        "outputId": "2ac360e2-1a4c-48e1-94cf-b9a175def559",
        "colab": {
          "base_uri": "https://localhost:8080/",
          "height": 209
        }
      },
      "cell_type": "code",
      "source": [
        "from IPython.core.display import HTML, Image\n",
        "css_file = 'style.css'\n",
        "HTML(open(css_file, 'r').read())"
      ],
      "execution_count": 1,
      "outputs": [
        {
          "output_type": "error",
          "ename": "FileNotFoundError",
          "evalue": "ignored",
          "traceback": [
            "\u001b[0;31m---------------------------------------------------------------------------\u001b[0m",
            "\u001b[0;31mFileNotFoundError\u001b[0m                         Traceback (most recent call last)",
            "\u001b[0;32m<ipython-input-1-0941ee35ef03>\u001b[0m in \u001b[0;36m<module>\u001b[0;34m()\u001b[0m\n\u001b[1;32m      1\u001b[0m \u001b[0;32mfrom\u001b[0m \u001b[0mIPython\u001b[0m\u001b[0;34m.\u001b[0m\u001b[0mcore\u001b[0m\u001b[0;34m.\u001b[0m\u001b[0mdisplay\u001b[0m \u001b[0;32mimport\u001b[0m \u001b[0mHTML\u001b[0m\u001b[0;34m,\u001b[0m \u001b[0mImage\u001b[0m\u001b[0;34m\u001b[0m\u001b[0;34m\u001b[0m\u001b[0m\n\u001b[1;32m      2\u001b[0m \u001b[0mcss_file\u001b[0m \u001b[0;34m=\u001b[0m \u001b[0;34m'style.css'\u001b[0m\u001b[0;34m\u001b[0m\u001b[0;34m\u001b[0m\u001b[0m\n\u001b[0;32m----> 3\u001b[0;31m \u001b[0mHTML\u001b[0m\u001b[0;34m(\u001b[0m\u001b[0mopen\u001b[0m\u001b[0;34m(\u001b[0m\u001b[0mcss_file\u001b[0m\u001b[0;34m,\u001b[0m \u001b[0;34m'r'\u001b[0m\u001b[0;34m)\u001b[0m\u001b[0;34m.\u001b[0m\u001b[0mread\u001b[0m\u001b[0;34m(\u001b[0m\u001b[0;34m)\u001b[0m\u001b[0;34m)\u001b[0m\u001b[0;34m\u001b[0m\u001b[0;34m\u001b[0m\u001b[0m\n\u001b[0m",
            "\u001b[0;31mFileNotFoundError\u001b[0m: [Errno 2] No such file or directory: 'style.css'"
          ]
        }
      ]
    },
    {
      "metadata": {
        "id": "wcsgCtvBmrYh",
        "colab_type": "toc"
      },
      "cell_type": "markdown",
      "source": [
        ">[Deep Learning Fast Start](#scrollTo=rpOz6FctZksc)\n",
        "\n",
        ">>[The Neuron](#scrollTo=rpOz6FctZksc)\n",
        "\n",
        ">[Neuron: Learning Objectives](#scrollTo=AdYUbt7NZksh)\n",
        "\n",
        ">[What is a Neuron?](#scrollTo=VyrTxpNgZksr)\n",
        "\n",
        ">[Neuron Structure](#scrollTo=E7F0cR8wZksv)\n",
        "\n",
        ">[Neuron's Two Step Computation](#scrollTo=x2OLc0TjZktA)\n",
        "\n",
        ">[Neuron Computation (Step 1)](#scrollTo=fQXjX_SGZktb)\n",
        "\n",
        ">[Neuron Computation Example (Step 1)](#scrollTo=QsFRvAmzZktO)\n",
        "\n",
        ">[Code for Neuron Computation (Step 1): 선형합](#scrollTo=Vz7wIWsvZktq)\n",
        "\n",
        ">>>[Using For Loop](#scrollTo=DfYosU--Zktr)\n",
        "\n",
        ">>>[Using List Comprehension](#scrollTo=3CRFr95xZkt9)\n",
        "\n",
        ">>>[Using Numpy Dot Product](#scrollTo=WbQEmj4RZkuH)\n",
        "\n",
        ">[Neuron Computation (Step 2): 비선형 활동](#scrollTo=bsM3Lj8kZkuS)\n",
        "\n",
        ">[Activation Function Examples](#scrollTo=OLNNuCKaZkuX)\n",
        "\n",
        ">[Computation Example (Step 2)](#scrollTo=lq_CD75oZkuf)\n",
        "\n",
        ">[Code for Neuron Activation (Step 2)](#scrollTo=UnDed5j5Zkuj)\n",
        "\n",
        ">>>[스텝 함수 (Heaviside function)](#scrollTo=S8d3xeTXZkuk)\n",
        "\n",
        ">>>[ReLU 함수 (Rectified Linear Unit function)](#scrollTo=-JvsHNIKZkuq)\n",
        "\n",
        ">>>[Sigmoid 함수](#scrollTo=0ewW3Bf2Zkuu)\n",
        "\n",
        ">[Data Structures for Neuron Computation](#scrollTo=dFL_PpKcZku0)\n",
        "\n",
        ">[Neuron Class](#scrollTo=IrCEDxj0ZkvF)\n",
        "\n",
        ">>>[Define Activation Functions](#scrollTo=XsuyR0uVZkvM)\n",
        "\n",
        ">>>[Define Neuron Class](#scrollTo=-6iSXoGXZkvS)\n",
        "\n",
        ">>>[Create Neuron Object and Compute](#scrollTo=xKkWvT0WZkvX)\n",
        "\n",
        ">>>[선형합(transfer)](#scrollTo=Cyjcmq68Zkv0)\n",
        "\n",
        ">>>[Activating neuron](#scrollTo=Ai5ejhUYZkv8)\n",
        "\n",
        ">>>[뉴런의 기본 활동 윈리가 이해됩니까?](#scrollTo=PIqhE_UaZkwP)\n",
        "\n",
        ">>>[[도전 과제]  100 개의 입력에 대한 뉴런의 출력을 세 가지 방식으로 구하시오.](#scrollTo=BSoP0vwBZkwR)\n",
        "\n",
        ">[Great! Welcome to the World of Perceptron.](#scrollTo=LzTllMcCZkw1)\n",
        "\n"
      ]
    },
    {
      "metadata": {
        "id": "rpOz6FctZksc",
        "colab_type": "text"
      },
      "cell_type": "markdown",
      "source": [
        "# Deep Learning Fast Start\n",
        "\n",
        "## The Neuron\n"
      ]
    },
    {
      "metadata": {
        "id": "DeeVhB5QZksf",
        "colab_type": "text"
      },
      "cell_type": "markdown",
      "source": [
        "<a rel=\"license\" href=\"http://creativecommons.org/licenses/by/4.0/\"><img alt=\"Creative Commons License\" style=\"border-width:0\" src=\"https://i.creativecommons.org/l/by/4.0/88x31.png\" /></a><br /><span xmlns:dct=\"http://purl.org/dc/terms/\" property=\"dct:title\">Deep Learning Fast Start</span> by <a xmlns:cc=\"http://creativecommons.org/ns#\" href=\"http://alfredessa.com\" property=\"cc:attributionName\" rel=\"cc:attributionURL\">Alfred Essa</a> is licensed under a <a rel=\"license\" href=\"http://creativecommons.org/licenses/by/4.0/\">Creative Commons Attribution 4.0 International License</a>."
      ]
    },
    {
      "metadata": {
        "id": "AdYUbt7NZksh",
        "colab_type": "text"
      },
      "cell_type": "markdown",
      "source": [
        "# 1. Neuron: Learning Objectives"
      ]
    },
    {
      "metadata": {
        "id": "MD0zQwXBZksi",
        "colab_type": "text"
      },
      "cell_type": "markdown",
      "source": [
        "**1:** Understand the basic *concept* of an artificial neuron or perceptron\n",
        "\n",
        "> [perceptron(퍼셉트론 개념)](http://blog.naver.com/samsjang/220948258166)"
      ]
    },
    {
      "metadata": {
        "id": "eyLHInX3Zksj",
        "colab_type": "text"
      },
      "cell_type": "markdown",
      "source": [
        "**2:** Describe a neuron's two-step *computation* process\n",
        "> 뉴런은 입력값에 두 단계로 계산을 수행하여서 출력값으로 변환한다."
      ]
    },
    {
      "metadata": {
        "id": "Nn8Qfcg5Zksl",
        "colab_type": "text"
      },
      "cell_type": "markdown",
      "source": [
        "**3:** Recognize the *parameters* of a neuron\n",
        "> 뉴런의 파라미터는 가중치(weight)와 바이어스(bias)로 구성된다."
      ]
    },
    {
      "metadata": {
        "id": "zoEd4LDTZkso",
        "colab_type": "text"
      },
      "cell_type": "markdown",
      "source": [
        "**4:** Understand how a single neuron can implement linear or logistic regression"
      ]
    },
    {
      "metadata": {
        "id": "i6VuAU5IZksp",
        "colab_type": "text"
      },
      "cell_type": "markdown",
      "source": [
        "**5:** Write code, in the form of crude *Python class*, which implements a neuron's computation\n"
      ]
    },
    {
      "metadata": {
        "id": "VyrTxpNgZksr",
        "colab_type": "text"
      },
      "cell_type": "markdown",
      "source": [
        "# 2.  What is a Neuron?"
      ]
    },
    {
      "metadata": {
        "id": "_dVxU2PrZkst",
        "colab_type": "text"
      },
      "cell_type": "markdown",
      "source": [
        "> **Definition**: A neuron is the *atomic computational unit* of an **artificial neural network** (ANN)."
      ]
    },
    {
      "metadata": {
        "id": "E7F0cR8wZksv",
        "colab_type": "text"
      },
      "cell_type": "markdown",
      "source": [
        " # 3. Neuron Structure"
      ]
    },
    {
      "metadata": {
        "id": "y8WyZEwYZksw",
        "colab_type": "text"
      },
      "cell_type": "markdown",
      "source": [
        "<img src=\"https://github.com/alfredessa/DeepLearningFastStart/raw/2642623f099ad676de05b0936700130387149432/images/bioneuron.png\" style=\"width: 50%; height: 50%\" />"
      ]
    },
    {
      "metadata": {
        "id": "_P0UFnYfZksy",
        "colab_type": "text"
      },
      "cell_type": "markdown",
      "source": [
        "- In a biological neuron input signals come in through dendrites\n",
        "> dendrites: 가지돌기"
      ]
    },
    {
      "metadata": {
        "id": "7Vs90FC_Zks0",
        "colab_type": "text"
      },
      "cell_type": "markdown",
      "source": [
        "- The signals are processed in the nucleus"
      ]
    },
    {
      "metadata": {
        "id": "d_U4c3yTZks1",
        "colab_type": "text"
      },
      "cell_type": "markdown",
      "source": [
        "- The output signal is transmitted to other neurons through the axon\n",
        ">axon: 축삭돌기"
      ]
    },
    {
      "metadata": {
        "id": "5peNuHXZZks4",
        "colab_type": "text"
      },
      "cell_type": "markdown",
      "source": [
        "- 생물학적인 뉴런은 덴드라이트들(dendrites)로부터 받은 입력 신호(이온 흐름)를 처리한 후 일정 기준이 만족되면 액손(axon)을 통해 다른 뉴런에게 신호(정보)를 전달한다. \n",
        "> McCulloch-Pitts neuron (MCP neuron)"
      ]
    },
    {
      "metadata": {
        "id": "Wi7rfdCtZks5",
        "colab_type": "text"
      },
      "cell_type": "markdown",
      "source": [
        "- 생물학적인 뉴런의 정보 처리 구조를 수학적으로 도식화하면 다음과 같다.\n",
        "> 퍼셉트론(perceptron) 학습 규칙"
      ]
    },
    {
      "metadata": {
        "id": "r3KNudlUZks7",
        "colab_type": "text"
      },
      "cell_type": "markdown",
      "source": [
        "<img src=\"https://github.com/alfredessa/DeepLearningFastStart/raw/2642623f099ad676de05b0936700130387149432/images/function.png\" style=\"width: 50%; height: 50%\" />"
      ]
    },
    {
      "metadata": {
        "id": "YW-dg0HZZks9",
        "colab_type": "text"
      },
      "cell_type": "markdown",
      "source": [
        "- A neuron can be viewed as a mathematical function"
      ]
    },
    {
      "metadata": {
        "id": "sgZO6JudZks-",
        "colab_type": "text"
      },
      "cell_type": "markdown",
      "source": [
        "- A neuron accepts a set of inputs, performs a computation on that input, and returns an output\n",
        "\n",
        "- 뉴런은 주위의 다른 뉴런들로부터 여러 입력을 받아 내부(핵)에서 처리한 후 일정 조건이 되면 다른 뉴런에게 처리된 결과를 전송한다. "
      ]
    },
    {
      "metadata": {
        "id": "x2OLc0TjZktA",
        "colab_type": "text"
      },
      "cell_type": "markdown",
      "source": [
        "# 4. Neuron's Two Step Computation"
      ]
    },
    {
      "metadata": {
        "id": "mEomYBgPZktC",
        "colab_type": "text"
      },
      "cell_type": "markdown",
      "source": [
        "<img src=\"https://github.com/alfredessa/DeepLearningFastStart/raw/2642623f099ad676de05b0936700130387149432/images/twostep.png\" style=\"width: 60%; height: 60%\" />"
      ]
    },
    {
      "metadata": {
        "id": "jIZNDTuMZktE",
        "colab_type": "text"
      },
      "cell_type": "markdown",
      "source": [
        "- A neuron performs its computation in two-steps (뉴런 내에서의 처리는 두 단계로 구성된다.)"
      ]
    },
    {
      "metadata": {
        "id": "oZANiJ93ZktF",
        "colab_type": "text"
      },
      "cell_type": "markdown",
      "source": [
        "- During step 1 a linear function operates on the inputs on the inputs: $x_{1}..x_{n}$ and produces an output $z$. --> 선형 합 (transfer)"
      ]
    },
    {
      "metadata": {
        "id": "6C0eUAVSZktH",
        "colab_type": "text"
      },
      "cell_type": "markdown",
      "source": [
        "- During step 2 a non-linear function, called the activation function, performs a computation on the input $z$ to produce the final output $y$.  --> 비선형 활동(activation)"
      ]
    },
    {
      "metadata": {
        "id": "9qRmBpE-ZktJ",
        "colab_type": "text"
      },
      "cell_type": "markdown",
      "source": [
        "<img src=\"https://github.com/alfredessa/DeepLearningFastStart/raw/2642623f099ad676de05b0936700130387149432/images/twostep2.png\" style=\"width: 60%; height: 60%\" />"
      ]
    },
    {
      "metadata": {
        "id": "Q94FuTjWZktL",
        "colab_type": "text"
      },
      "cell_type": "markdown",
      "source": [
        "- We will represent the first function, sometimes called the transfer function, with the symbol $\\Sigma$. -> 선형합(transfer)"
      ]
    },
    {
      "metadata": {
        "id": "Di8YnrqOZktM",
        "colab_type": "text"
      },
      "cell_type": "markdown",
      "source": [
        "- We will represent the second function, called the activation function, with the symbol $\\phi$ -> 비선형 활동(activation)"
      ]
    },
    {
      "metadata": {
        "id": "fQXjX_SGZktb",
        "colab_type": "text"
      },
      "cell_type": "markdown",
      "source": [
        "# 5. Neuron Computation (Step 1)"
      ]
    },
    {
      "metadata": {
        "id": "Aj5x6sqRZktc",
        "colab_type": "text"
      },
      "cell_type": "markdown",
      "source": [
        "<img src=\"https://github.com/alfredessa/DeepLearningFastStart/raw/2642623f099ad676de05b0936700130387149432/images/transferfunction.png\" style=\"width: 75%; height: 75%\">"
      ]
    },
    {
      "metadata": {
        "id": "UsP7TDYCZktf",
        "colab_type": "text"
      },
      "cell_type": "markdown",
      "source": [
        "- Each neuron accepts $n$ inputs."
      ]
    },
    {
      "metadata": {
        "id": "jUT0Kiv9Zktl",
        "colab_type": "text"
      },
      "cell_type": "markdown",
      "source": [
        "- A \"weight\" is associated with each input: $x_{n} \\mapsto w_{n}$\n",
        "> 가중치는 각각의 입력에 할당된다."
      ]
    },
    {
      "metadata": {
        "id": "89FbKaKMZktn",
        "colab_type": "text"
      },
      "cell_type": "markdown",
      "source": [
        "- Then a \"bias\" term $b$ is added to the weighted sum of inputs.\n",
        "> 가중치가 뱐영된 입력합에 바이어스(상수값)이 더해진다."
      ]
    },
    {
      "metadata": {
        "id": "QsFRvAmzZktO",
        "colab_type": "text"
      },
      "cell_type": "markdown",
      "source": [
        "# 6. Neuron Computation Example (Step 1)"
      ]
    },
    {
      "metadata": {
        "id": "ZhKE7zvOZktQ",
        "colab_type": "text"
      },
      "cell_type": "markdown",
      "source": [
        "<img src=\"https://github.com/alfredessa/DeepLearningFastStart/raw/2642623f099ad676de05b0936700130387149432/images/transferexample.png\" style=\"width: 60%; height: 60%\" >"
      ]
    },
    {
      "metadata": {
        "id": "7swnVdYsZktS",
        "colab_type": "text"
      },
      "cell_type": "markdown",
      "source": [
        "- We have three inputs for this neuron, with values: $[2.3,4.5,1.3]$"
      ]
    },
    {
      "metadata": {
        "id": "kKYDpYYzZktV",
        "colab_type": "text"
      },
      "cell_type": "markdown",
      "source": [
        "- A \"weight\" is associated with each input: $[3.2, -1.9, 2.5]$. We also have a value for the bias: $-1$"
      ]
    },
    {
      "metadata": {
        "id": "Q3F1bY_WZktY",
        "colab_type": "text"
      },
      "cell_type": "markdown",
      "source": [
        "- 각 입력값은 가중치(weight)를 곱한 후 합산한 후, 상수값(bias)가 더해져서 처리된다."
      ]
    },
    {
      "metadata": {
        "id": "9Jz9BwVcZktZ",
        "colab_type": "text"
      },
      "cell_type": "markdown",
      "source": [
        "- The weighted sum plus the bias is $z = 1.06$"
      ]
    },
    {
      "metadata": {
        "id": "Vz7wIWsvZktq",
        "colab_type": "text"
      },
      "cell_type": "markdown",
      "source": [
        "# 7. Code for Neuron Computation (Step 1): 선형합\n",
        "> 세 가지 방법으로 뉴런을 정의\n",
        "\n",
        "> 선형합(transfer) 기능 설계"
      ]
    },
    {
      "metadata": {
        "id": "DfYosU--Zktr",
        "colab_type": "text"
      },
      "cell_type": "markdown",
      "source": [
        "### Using For Loop"
      ]
    },
    {
      "metadata": {
        "id": "2raU0mnvZktu",
        "colab_type": "code",
        "colab": {}
      },
      "cell_type": "code",
      "source": [
        "inputs = [2.3,4.5,1.3]\n",
        "weights = [3.2,-1.9,2.5]\n",
        "bias = -1"
      ],
      "execution_count": 0,
      "outputs": []
    },
    {
      "metadata": {
        "id": "GlqJfSkoZktz",
        "colab_type": "code",
        "colab": {}
      },
      "cell_type": "code",
      "source": [
        "def neuron1(x,w,b):\n",
        "    z=0\n",
        "    for x_,w_ in zip(x,w):\n",
        "        z += x_ * w_\n",
        "    z+=b\n",
        "    return z"
      ],
      "execution_count": 0,
      "outputs": []
    },
    {
      "metadata": {
        "id": "d2WNMNA0Zkt1",
        "colab_type": "code",
        "outputId": "b4f8c5b8-298b-499d-aab1-f4e0032c42dc",
        "colab": {
          "base_uri": "https://localhost:8080/",
          "height": 35
        }
      },
      "cell_type": "code",
      "source": [
        "neuron1(inputs,weights,bias)"
      ],
      "execution_count": 4,
      "outputs": [
        {
          "output_type": "execute_result",
          "data": {
            "text/plain": [
              "1.0600000000000005"
            ]
          },
          "metadata": {
            "tags": []
          },
          "execution_count": 4
        }
      ]
    },
    {
      "metadata": {
        "id": "3CRFr95xZkt9",
        "colab_type": "text"
      },
      "cell_type": "markdown",
      "source": [
        "### Using List Comprehension"
      ]
    },
    {
      "metadata": {
        "id": "nQKyRVjMZkt-",
        "colab_type": "code",
        "colab": {}
      },
      "cell_type": "code",
      "source": [
        "def neuron2(x,w,b):\n",
        "    z = sum([x_*w_ for x_,w_ in zip(x,w)]) + b \n",
        "    return z"
      ],
      "execution_count": 0,
      "outputs": []
    },
    {
      "metadata": {
        "id": "Ohe8CdHEZkuB",
        "colab_type": "code",
        "outputId": "5457cc1b-b131-4ab4-c490-6d6c989e88a9",
        "colab": {
          "base_uri": "https://localhost:8080/",
          "height": 35
        }
      },
      "cell_type": "code",
      "source": [
        "neuron2(inputs,weights,bias)"
      ],
      "execution_count": 6,
      "outputs": [
        {
          "output_type": "execute_result",
          "data": {
            "text/plain": [
              "1.0600000000000005"
            ]
          },
          "metadata": {
            "tags": []
          },
          "execution_count": 6
        }
      ]
    },
    {
      "metadata": {
        "id": "WbQEmj4RZkuH",
        "colab_type": "text"
      },
      "cell_type": "markdown",
      "source": [
        "### Using Numpy Dot Product"
      ]
    },
    {
      "metadata": {
        "id": "nR78Zjs7ZkuI",
        "colab_type": "code",
        "colab": {}
      },
      "cell_type": "code",
      "source": [
        "import numpy as np\n",
        "def neuron3(x,w,b):\n",
        "    z = np.dot(w,x) + b\n",
        "    return z"
      ],
      "execution_count": 0,
      "outputs": []
    },
    {
      "metadata": {
        "id": "rTmkCv0ZZkuM",
        "colab_type": "code",
        "outputId": "41d26dd2-da7e-46d3-cb59-121a709ad49a",
        "colab": {
          "base_uri": "https://localhost:8080/",
          "height": 35
        }
      },
      "cell_type": "code",
      "source": [
        "neuron3(inputs,weights,bias)"
      ],
      "execution_count": 8,
      "outputs": [
        {
          "output_type": "execute_result",
          "data": {
            "text/plain": [
              "1.0600000000000005"
            ]
          },
          "metadata": {
            "tags": []
          },
          "execution_count": 8
        }
      ]
    },
    {
      "metadata": {
        "id": "bsM3Lj8kZkuS",
        "colab_type": "text"
      },
      "cell_type": "markdown",
      "source": [
        "# 8. Neuron Computation (Step 2): 비선형 활동"
      ]
    },
    {
      "metadata": {
        "id": "jeyHUhY2ZkuV",
        "colab_type": "text"
      },
      "cell_type": "markdown",
      "source": [
        "<img src=\"https://github.com/alfredessa/DeepLearningFastStart/raw/2642623f099ad676de05b0936700130387149432/images/twostep2.png\" style=\"width: 60%; height: 60%\">|"
      ]
    },
    {
      "metadata": {
        "id": "OLNNuCKaZkuX",
        "colab_type": "text"
      },
      "cell_type": "markdown",
      "source": [
        "# 9. Activation Function Examples "
      ]
    },
    {
      "metadata": {
        "id": "Rtv4_dRTZkua",
        "colab_type": "text"
      },
      "cell_type": "markdown",
      "source": [
        "<img src=\"https://github.com/alfredessa/DeepLearningFastStart/raw/2642623f099ad676de05b0936700130387149432/images/stepfunction.png\" style=\"width: 60%; height: 60%\">|"
      ]
    },
    {
      "metadata": {
        "id": "swJBNyWsZkub",
        "colab_type": "text"
      },
      "cell_type": "markdown",
      "source": [
        "<img src=\"https://github.com/alfredessa/DeepLearningFastStart/raw/2642623f099ad676de05b0936700130387149432/images/relufunction.png\" style=\"width: 60%; height: 60%\">|"
      ]
    },
    {
      "metadata": {
        "id": "iMNWNJpoZkud",
        "colab_type": "text"
      },
      "cell_type": "markdown",
      "source": [
        "<img src=\"https://github.com/alfredessa/DeepLearningFastStart/raw/2642623f099ad676de05b0936700130387149432/images/sigmoidfunction.png\" style=\"width: 60%; height: 60%\">"
      ]
    },
    {
      "metadata": {
        "id": "lq_CD75oZkuf",
        "colab_type": "text"
      },
      "cell_type": "markdown",
      "source": [
        "# Computation Example (Step 2)"
      ]
    },
    {
      "metadata": {
        "id": "BM5iQz4kZkuh",
        "colab_type": "text"
      },
      "cell_type": "markdown",
      "source": [
        "<img src=\"https://github.com/alfredessa/DeepLearningFastStart/raw/2642623f099ad676de05b0936700130387149432/images/activationexample.png\" style=\"width: 60%; height: 60%\">"
      ]
    },
    {
      "metadata": {
        "id": "UnDed5j5Zkuj",
        "colab_type": "text"
      },
      "cell_type": "markdown",
      "source": [
        "# Code for Neuron Activation (Step 2)\n",
        "> 세 가지 함수로 뉴런의 활동을 정의"
      ]
    },
    {
      "metadata": {
        "id": "S8d3xeTXZkuk",
        "colab_type": "text"
      },
      "cell_type": "markdown",
      "source": [
        "### 스텝 함수 (Heaviside function)\n",
        "> 0 or 1"
      ]
    },
    {
      "metadata": {
        "id": "tKaNJPFBZkul",
        "colab_type": "code",
        "colab": {}
      },
      "cell_type": "code",
      "source": [
        "def heaviside(z):\n",
        "    if z<0:\n",
        "        return 0\n",
        "    else:\n",
        "        return 1\n",
        "#     return np.heaviside(z, 0)  # threshold = 0"
      ],
      "execution_count": 0,
      "outputs": []
    },
    {
      "metadata": {
        "id": "-JvsHNIKZkuq",
        "colab_type": "text"
      },
      "cell_type": "markdown",
      "source": [
        "### ReLU 함수 (Rectified Linear Unit function)\n",
        "> 0 or positive number"
      ]
    },
    {
      "metadata": {
        "id": "DNysExlYZkur",
        "colab_type": "code",
        "colab": {}
      },
      "cell_type": "code",
      "source": [
        "def relu(z):\n",
        "    return np.maximum(0,z)"
      ],
      "execution_count": 0,
      "outputs": []
    },
    {
      "metadata": {
        "id": "0ewW3Bf2Zkuu",
        "colab_type": "text"
      },
      "cell_type": "markdown",
      "source": [
        "### Sigmoid 함수\n",
        "\n",
        "> $-\\infty \\lt z \\lt \\infty$ 범위를 0 ~ 1 범위로 근사."
      ]
    },
    {
      "metadata": {
        "id": "LjbzBNyAZkuv",
        "colab_type": "code",
        "colab": {}
      },
      "cell_type": "code",
      "source": [
        "def sigmoid(z):\n",
        "        return 1.0/(1.0+np.exp(-z))"
      ],
      "execution_count": 0,
      "outputs": []
    },
    {
      "metadata": {
        "id": "Fp4_Fifdh0ON",
        "colab_type": "text"
      },
      "cell_type": "markdown",
      "source": [
        "<img src=\"https://t1.daumcdn.net/cfile/tistory/275BAD4F577B669920\" style=\"width: 60%; height: 60%\">\n",
        "\n",
        "> https://t1.daumcdn.net/cfile/tistory/275BAD4F577B669920"
      ]
    },
    {
      "metadata": {
        "id": "rr0gqPBJZkuy",
        "colab_type": "text"
      },
      "cell_type": "markdown",
      "source": [
        "***"
      ]
    },
    {
      "metadata": {
        "id": "dFL_PpKcZku0",
        "colab_type": "text"
      },
      "cell_type": "markdown",
      "source": [
        "# 10. Data Structures for Neuron Computation"
      ]
    },
    {
      "metadata": {
        "id": "mdPygNZAZku0",
        "colab_type": "text"
      },
      "cell_type": "markdown",
      "source": [
        "- We represent the input $\\mathbf{x}$ as a column vector. $\\mathbf{x} =\\begin{bmatrix}\n",
        "    x_1\\\\\n",
        "    x_2\\\\\n",
        "    \\vdots \\\\\n",
        "    x_n\n",
        "\\end{bmatrix}$"
      ]
    },
    {
      "metadata": {
        "id": "HNJtQhbcZku4",
        "colab_type": "text"
      },
      "cell_type": "markdown",
      "source": [
        "- We represent the weights $\\mathbf{w}$ as a column vector but take it's transform to obtain a row vector $\\mathbf{w}^\\top = \\begin{bmatrix}\n",
        "    w_1\\\n",
        "    w_2\\\n",
        "    \\dots \\\n",
        "    w_n\n",
        "    \\end{bmatrix}$"
      ]
    },
    {
      "metadata": {
        "id": "cDq8XbUmZku4",
        "colab_type": "text"
      },
      "cell_type": "markdown",
      "source": [
        "- We represent the bias $\\mathbf{b}$ as a scalar $b$."
      ]
    },
    {
      "metadata": {
        "id": "0TGTJL2XZku6",
        "colab_type": "text"
      },
      "cell_type": "markdown",
      "source": [
        "- The result of the transfer function computation:  $z = \\mathbf{w}^\\top \\mathbf{x} + b$"
      ]
    },
    {
      "metadata": {
        "id": "_K9rEmbxZkvC",
        "colab_type": "text"
      },
      "cell_type": "markdown",
      "source": [
        "- The result of the activation function computation: $a$ = $\\phi(z)$"
      ]
    },
    {
      "metadata": {
        "id": "-7ZwsfSvZkvE",
        "colab_type": "text"
      },
      "cell_type": "markdown",
      "source": [
        "$$ z = \\begin{bmatrix}\n",
        "    x_1\\\\\n",
        "    x_2\\\\\n",
        "    \\vdots \\\\\n",
        "    x_n\n",
        "\\end{bmatrix} \n",
        "\\begin{bmatrix}\n",
        "    w_1\\\n",
        "    w_2\\\n",
        "    \\dots \\\n",
        "    w_n\n",
        "    \\end{bmatrix} + b$$"
      ]
    },
    {
      "metadata": {
        "id": "UF0hbx4GZkvF",
        "colab_type": "text"
      },
      "cell_type": "markdown",
      "source": [
        "$$z = \\mathbf{w}^\\top \\mathbf{x} + b$$"
      ]
    },
    {
      "metadata": {
        "id": "IrCEDxj0ZkvF",
        "colab_type": "text"
      },
      "cell_type": "markdown",
      "source": [
        "# 11. Neuron Class "
      ]
    },
    {
      "metadata": {
        "id": "hK2SzhxmZkvI",
        "colab_type": "code",
        "colab": {}
      },
      "cell_type": "code",
      "source": [
        "import numpy as np"
      ],
      "execution_count": 0,
      "outputs": []
    },
    {
      "metadata": {
        "id": "XsuyR0uVZkvM",
        "colab_type": "text"
      },
      "cell_type": "markdown",
      "source": [
        "### Define Activation Functions"
      ]
    },
    {
      "metadata": {
        "id": "DfpVE0iaZkvO",
        "colab_type": "code",
        "colab": {}
      },
      "cell_type": "code",
      "source": [
        "def relu(z):\n",
        "    return np.maximum(0,z)\n",
        "\n",
        "def sigmoid(z):\n",
        "    return 1.0/(1.0+np.exp(-z))\n",
        "    \n",
        "def heaviside(z):\n",
        "#     if z<0:\n",
        "#         return 0\n",
        "#     else:\n",
        "#         return 1\n",
        "    return np.heaviside(z,0) # threshold = 0"
      ],
      "execution_count": 0,
      "outputs": []
    },
    {
      "metadata": {
        "id": "-6iSXoGXZkvS",
        "colab_type": "text"
      },
      "cell_type": "markdown",
      "source": [
        "### Define Neuron Class"
      ]
    },
    {
      "metadata": {
        "id": "OAhT0_1UZkvU",
        "colab_type": "code",
        "colab": {}
      },
      "cell_type": "code",
      "source": [
        "class Neuron(object):\n",
        "    \n",
        "    # size = size or number of inputs\n",
        "    def __init__(self,size):\n",
        "        self.weights = np.random.randn(size)\n",
        "        self.bias = np.random.randn()\n",
        "        \n",
        "    # computes z = weighted sum + bias\n",
        "    def y_hat(self,x,phi):\n",
        "        z = np.dot(self.weights,x) + self.bias  # transfer\n",
        "        a = phi(z) # activation\n",
        "        return(a)  # output\n",
        "    \n",
        "    \n",
        "    # updates weights and biases\n",
        "    def update_params(self,weights,bias):\n",
        "        self.weights = np.array([weights])\n",
        "        self.bias = np.array([bias])"
      ],
      "execution_count": 0,
      "outputs": []
    },
    {
      "metadata": {
        "id": "xKkWvT0WZkvX",
        "colab_type": "text"
      },
      "cell_type": "markdown",
      "source": [
        "### Create Neuron Object and Compute"
      ]
    },
    {
      "metadata": {
        "id": "viHAJJHKZkvY",
        "colab_type": "code",
        "colab": {}
      },
      "cell_type": "code",
      "source": [
        "# Set a seed for random number generation\n",
        "np.random.seed(0)"
      ],
      "execution_count": 0,
      "outputs": []
    },
    {
      "metadata": {
        "id": "O-1Aw8A9Zkvc",
        "colab_type": "code",
        "outputId": "0abde2e8-7bee-4ce4-f5b4-3c4179d5499b",
        "colab": {
          "base_uri": "https://localhost:8080/",
          "height": 35
        }
      },
      "cell_type": "code",
      "source": [
        "N1 = Neuron(3)  # input size = 3\n",
        "N1"
      ],
      "execution_count": 16,
      "outputs": [
        {
          "output_type": "execute_result",
          "data": {
            "text/plain": [
              "<__main__.Neuron at 0x7fe40ca6c908>"
            ]
          },
          "metadata": {
            "tags": []
          },
          "execution_count": 16
        }
      ]
    },
    {
      "metadata": {
        "id": "fNKEbY_CZkvh",
        "colab_type": "code",
        "outputId": "fb67cf3a-cb8d-44be-ee9e-4edea175cb57",
        "colab": {
          "base_uri": "https://localhost:8080/",
          "height": 35
        }
      },
      "cell_type": "code",
      "source": [
        "N1.weights,N1.bias"
      ],
      "execution_count": 17,
      "outputs": [
        {
          "output_type": "execute_result",
          "data": {
            "text/plain": [
              "(array([1.76405235, 0.40015721, 0.97873798]), 2.240893199201458)"
            ]
          },
          "metadata": {
            "tags": []
          },
          "execution_count": 17
        }
      ]
    },
    {
      "metadata": {
        "id": "9957LcJpjMMk",
        "colab_type": "text"
      },
      "cell_type": "markdown",
      "source": [
        "\n",
        "\n",
        "---\n",
        "\n"
      ]
    },
    {
      "metadata": {
        "id": "PEWmPVIujTWT",
        "colab_type": "text"
      },
      "cell_type": "markdown",
      "source": [
        "### Neuron \n",
        "> Make another neuron with different parameters"
      ]
    },
    {
      "metadata": {
        "id": "CBCud9rVZkvo",
        "colab_type": "code",
        "colab": {}
      },
      "cell_type": "code",
      "source": [
        "# Set new weights and bias\n",
        "# Make another neuron with different parameters\n",
        "weights = [3.2,-1.9,2.5]\n",
        "bias = -1"
      ],
      "execution_count": 0,
      "outputs": []
    },
    {
      "metadata": {
        "id": "JoWNYJ9BZkvr",
        "colab_type": "code",
        "colab": {}
      },
      "cell_type": "code",
      "source": [
        "N1.update_params(weights,bias)"
      ],
      "execution_count": 0,
      "outputs": []
    },
    {
      "metadata": {
        "id": "6NRUUZOcZkvu",
        "colab_type": "code",
        "outputId": "f9f5e244-beb7-4d01-bb19-068a17dd8c51",
        "colab": {
          "base_uri": "https://localhost:8080/",
          "height": 35
        }
      },
      "cell_type": "code",
      "source": [
        "N1.weights,N1.bias"
      ],
      "execution_count": 20,
      "outputs": [
        {
          "output_type": "execute_result",
          "data": {
            "text/plain": [
              "(array([[ 3.2, -1.9,  2.5]]), array([-1]))"
            ]
          },
          "metadata": {
            "tags": []
          },
          "execution_count": 20
        }
      ]
    },
    {
      "metadata": {
        "id": "Cyjcmq68Zkv0",
        "colab_type": "text"
      },
      "cell_type": "markdown",
      "source": [
        "### 선형합(transfer)"
      ]
    },
    {
      "metadata": {
        "id": "WiyUMTg0Zkv1",
        "colab_type": "code",
        "colab": {}
      },
      "cell_type": "code",
      "source": [
        "# input\n",
        "x = [2.3,4.5,1.3]  # 입력"
      ],
      "execution_count": 0,
      "outputs": []
    },
    {
      "metadata": {
        "id": "RrwVbOIQZkv4",
        "colab_type": "code",
        "outputId": "26518b9f-a0b0-4cfb-99c3-d0cfd12dfd80",
        "colab": {
          "base_uri": "https://localhost:8080/",
          "height": 35
        }
      },
      "cell_type": "code",
      "source": [
        "np.dot(N1.weights,x) + N1.bias"
      ],
      "execution_count": 22,
      "outputs": [
        {
          "output_type": "execute_result",
          "data": {
            "text/plain": [
              "array([1.06])"
            ]
          },
          "metadata": {
            "tags": []
          },
          "execution_count": 22
        }
      ]
    },
    {
      "metadata": {
        "id": "Ai5ejhUYZkv8",
        "colab_type": "text"
      },
      "cell_type": "markdown",
      "source": [
        "### Activating neuron"
      ]
    },
    {
      "metadata": {
        "id": "5FifQ8KTZkv9",
        "colab_type": "code",
        "outputId": "708fcaf8-6e9f-4e04-f503-e386687168f4",
        "colab": {
          "base_uri": "https://localhost:8080/",
          "height": 35
        }
      },
      "cell_type": "code",
      "source": [
        "N1.y_hat(x,heaviside)"
      ],
      "execution_count": 23,
      "outputs": [
        {
          "output_type": "execute_result",
          "data": {
            "text/plain": [
              "array([1.])"
            ]
          },
          "metadata": {
            "tags": []
          },
          "execution_count": 23
        }
      ]
    },
    {
      "metadata": {
        "id": "rqnIoEt_ZkwE",
        "colab_type": "code",
        "outputId": "5f2123d1-c04e-4b9d-8cf0-3af970cddc86",
        "colab": {
          "base_uri": "https://localhost:8080/",
          "height": 35
        }
      },
      "cell_type": "code",
      "source": [
        "N1.y_hat(x,relu)"
      ],
      "execution_count": 24,
      "outputs": [
        {
          "output_type": "execute_result",
          "data": {
            "text/plain": [
              "array([1.06])"
            ]
          },
          "metadata": {
            "tags": []
          },
          "execution_count": 24
        }
      ]
    },
    {
      "metadata": {
        "id": "VaVTG9FjZkwK",
        "colab_type": "code",
        "outputId": "4f7c2d4e-0464-4fe9-ff90-5ba35d5d2c18",
        "colab": {
          "base_uri": "https://localhost:8080/",
          "height": 35
        }
      },
      "cell_type": "code",
      "source": [
        "N1.y_hat(x,sigmoid)"
      ],
      "execution_count": 25,
      "outputs": [
        {
          "output_type": "execute_result",
          "data": {
            "text/plain": [
              "array([0.74269055])"
            ]
          },
          "metadata": {
            "tags": []
          },
          "execution_count": 25
        }
      ]
    },
    {
      "metadata": {
        "id": "PIqhE_UaZkwP",
        "colab_type": "text"
      },
      "cell_type": "markdown",
      "source": [
        "### 뉴런의 기본 활동 윈리가 이해됩니까?"
      ]
    },
    {
      "metadata": {
        "id": "toMBrnokZkwP",
        "colab_type": "text"
      },
      "cell_type": "markdown",
      "source": [
        "***"
      ]
    },
    {
      "metadata": {
        "id": "BSoP0vwBZkwR",
        "colab_type": "text"
      },
      "cell_type": "markdown",
      "source": [
        "### [도전 과제]  100 개의 입력에 대한 뉴런의 출력을 세 가지 방식으로 구하시오.\n",
        "\n",
        "> 세 가지 활동 함수 이용 : heaviside(), relu(), sigmoid()"
      ]
    },
    {
      "metadata": {
        "id": "n6kb4XDkZkwS",
        "colab_type": "code",
        "colab": {}
      },
      "cell_type": "code",
      "source": [
        "# Set a seed for random number generation\n",
        "np.random.seed(0)"
      ],
      "execution_count": 0,
      "outputs": []
    },
    {
      "metadata": {
        "id": "mLwNwhi2ZkwX",
        "colab_type": "code",
        "colab": {}
      },
      "cell_type": "code",
      "source": [
        "N100 = Neuron(100)"
      ],
      "execution_count": 0,
      "outputs": []
    },
    {
      "metadata": {
        "id": "5NzpOWXnZkwb",
        "colab_type": "code",
        "outputId": "bebdd761-b153-4b18-9f9a-5b6b2c267639",
        "colab": {
          "base_uri": "https://localhost:8080/",
          "height": 399
        }
      },
      "cell_type": "code",
      "source": [
        "N100.weights,N100.bias"
      ],
      "execution_count": 28,
      "outputs": [
        {
          "output_type": "execute_result",
          "data": {
            "text/plain": [
              "(array([ 1.76405235,  0.40015721,  0.97873798,  2.2408932 ,  1.86755799,\n",
              "        -0.97727788,  0.95008842, -0.15135721, -0.10321885,  0.4105985 ,\n",
              "         0.14404357,  1.45427351,  0.76103773,  0.12167502,  0.44386323,\n",
              "         0.33367433,  1.49407907, -0.20515826,  0.3130677 , -0.85409574,\n",
              "        -2.55298982,  0.6536186 ,  0.8644362 , -0.74216502,  2.26975462,\n",
              "        -1.45436567,  0.04575852, -0.18718385,  1.53277921,  1.46935877,\n",
              "         0.15494743,  0.37816252, -0.88778575, -1.98079647, -0.34791215,\n",
              "         0.15634897,  1.23029068,  1.20237985, -0.38732682, -0.30230275,\n",
              "        -1.04855297, -1.42001794, -1.70627019,  1.9507754 , -0.50965218,\n",
              "        -0.4380743 , -1.25279536,  0.77749036, -1.61389785, -0.21274028,\n",
              "        -0.89546656,  0.3869025 , -0.51080514, -1.18063218, -0.02818223,\n",
              "         0.42833187,  0.06651722,  0.3024719 , -0.63432209, -0.36274117,\n",
              "        -0.67246045, -0.35955316, -0.81314628, -1.7262826 ,  0.17742614,\n",
              "        -0.40178094, -1.63019835,  0.46278226, -0.90729836,  0.0519454 ,\n",
              "         0.72909056,  0.12898291,  1.13940068, -1.23482582,  0.40234164,\n",
              "        -0.68481009, -0.87079715, -0.57884966, -0.31155253,  0.05616534,\n",
              "        -1.16514984,  0.90082649,  0.46566244, -1.53624369,  1.48825219,\n",
              "         1.89588918,  1.17877957, -0.17992484, -1.07075262,  1.05445173,\n",
              "        -0.40317695,  1.22244507,  0.20827498,  0.97663904,  0.3563664 ,\n",
              "         0.70657317,  0.01050002,  1.78587049,  0.12691209,  0.40198936]),\n",
              " 1.8831506970562544)"
            ]
          },
          "metadata": {
            "tags": []
          },
          "execution_count": 28
        }
      ]
    },
    {
      "metadata": {
        "id": "Ng6sIvKDZkwj",
        "colab_type": "code",
        "colab": {}
      },
      "cell_type": "code",
      "source": [
        "# input(입력)\n",
        "x100 = np.random.randn(100)\n",
        "# x100.shape"
      ],
      "execution_count": 0,
      "outputs": []
    },
    {
      "metadata": {
        "id": "pgmd2wRSZkwm",
        "colab_type": "code",
        "outputId": "092acf6c-8a36-46c8-e88f-32aab6d2940b",
        "colab": {
          "base_uri": "https://localhost:8080/",
          "height": 35
        }
      },
      "cell_type": "code",
      "source": [
        "# transfer: weighted linear sum + bias\n",
        "np.dot(N100.weights,x100) + N100.bias"
      ],
      "execution_count": 30,
      "outputs": [
        {
          "output_type": "execute_result",
          "data": {
            "text/plain": [
              "10.886612705858221"
            ]
          },
          "metadata": {
            "tags": []
          },
          "execution_count": 30
        }
      ]
    },
    {
      "metadata": {
        "id": "RT52J9UuZkwq",
        "colab_type": "code",
        "outputId": "e2c8c7a6-3287-4ee2-8861-c41007099a90",
        "colab": {
          "base_uri": "https://localhost:8080/",
          "height": 35
        }
      },
      "cell_type": "code",
      "source": [
        "N100.y_hat(x100,heaviside)"
      ],
      "execution_count": 31,
      "outputs": [
        {
          "output_type": "execute_result",
          "data": {
            "text/plain": [
              "1.0"
            ]
          },
          "metadata": {
            "tags": []
          },
          "execution_count": 31
        }
      ]
    },
    {
      "metadata": {
        "id": "h1RuA8wHZkwu",
        "colab_type": "code",
        "outputId": "25445f46-eb5d-4dd2-879d-92974d0caccc",
        "colab": {
          "base_uri": "https://localhost:8080/",
          "height": 35
        }
      },
      "cell_type": "code",
      "source": [
        "N100.y_hat(x100,relu)"
      ],
      "execution_count": 32,
      "outputs": [
        {
          "output_type": "execute_result",
          "data": {
            "text/plain": [
              "10.886612705858221"
            ]
          },
          "metadata": {
            "tags": []
          },
          "execution_count": 32
        }
      ]
    },
    {
      "metadata": {
        "id": "B3AjLPSlZkwx",
        "colab_type": "code",
        "outputId": "b88185ae-990a-4d60-f203-936fedabf4a1",
        "colab": {
          "base_uri": "https://localhost:8080/",
          "height": 35
        }
      },
      "cell_type": "code",
      "source": [
        "N100.y_hat(x100,sigmoid)"
      ],
      "execution_count": 33,
      "outputs": [
        {
          "output_type": "execute_result",
          "data": {
            "text/plain": [
              "0.9999812933486968"
            ]
          },
          "metadata": {
            "tags": []
          },
          "execution_count": 33
        }
      ]
    },
    {
      "metadata": {
        "id": "mgpGEb1IZkw0",
        "colab_type": "text"
      },
      "cell_type": "markdown",
      "source": [
        "***"
      ]
    },
    {
      "metadata": {
        "id": "LzTllMcCZkw1",
        "colab_type": "text"
      },
      "cell_type": "markdown",
      "source": [
        "# Great! Welcome to the World of Perceptron."
      ]
    },
    {
      "metadata": {
        "id": "8PjFWaVcZkw2",
        "colab_type": "code",
        "colab": {}
      },
      "cell_type": "code",
      "source": [
        ""
      ],
      "execution_count": 0,
      "outputs": []
    }
  ]
}