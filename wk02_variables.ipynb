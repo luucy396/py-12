{
  "nbformat": 4,
  "nbformat_minor": 0,
  "metadata": {
    "colab": {
      "name": "wk02_variables_py12.ipynb의 사본",
      "version": "0.3.2",
      "provenance": [],
      "include_colab_link": true
    },
    "kernelspec": {
      "name": "python3",
      "display_name": "Python 3"
    }
  },
  "cells": [
    {
      "cell_type": "markdown",
      "metadata": {
        "id": "view-in-github",
        "colab_type": "text"
      },
      "source": [
        "[View in Colaboratory](https://colab.research.google.com/github/sangeunlim/py-12/blob/master/wk02_variables.ipynb)"
      ]
    },
    {
      "metadata": {
        "id": "frIcUW1W70gJ",
        "colab_type": "toc"
      },
      "cell_type": "markdown",
      "source": [
        ">>[변수 (variables)](#updateTitle=true&folderId=1kidX7dn63r38TclWOAZ2XUl9BD8nbBdp&scrollTo=Mbv4qlqUqaB7)\n",
        "\n",
        ">>[동적변수 ()](#updateTitle=true&folderId=1kidX7dn63r38TclWOAZ2XUl9BD8nbBdp&scrollTo=xvZRMuwmzlKi)\n",
        "\n",
        ">>[문자열](#updateTitle=true&folderId=1kidX7dn63r38TclWOAZ2XUl9BD8nbBdp&scrollTo=fBuDM0zczsCq)\n",
        "\n",
        ">>[여러 행 문자열(\"\"\"~~\"\"\")](#updateTitle=true&folderId=1kidX7dn63r38TclWOAZ2XUl9BD8nbBdp&scrollTo=CI1KBCUUzwJK)\n",
        "\n",
        ">>[여러 행 수식](#updateTitle=true&folderId=1kidX7dn63r38TclWOAZ2XUl9BD8nbBdp&scrollTo=dn4kd--o0SSK)\n",
        "\n",
        ">>[숫자와 문자열 처리](#updateTitle=true&folderId=1kidX7dn63r38TclWOAZ2XUl9BD8nbBdp&scrollTo=QECU45mV0fRC)\n",
        "\n",
        ">>[변수 type](#updateTitle=true&folderId=1kidX7dn63r38TclWOAZ2XUl9BD8nbBdp&scrollTo=_JuqgKF_0Hx6)\n",
        "\n",
        ">>[문자열을 숫자로 변환 : int(), float()](#updateTitle=true&folderId=1kidX7dn63r38TclWOAZ2XUl9BD8nbBdp&scrollTo=J7r6hDAOwt3i)\n",
        "\n",
        ">>[예약어 (keywords)](#updateTitle=true&folderId=1kidX7dn63r38TclWOAZ2XUl9BD8nbBdp&scrollTo=59yzjFRrxdzK)\n",
        "\n",
        ">>>[예약어는 변수 이름으로 사용할 수 없다 (오류)](#updateTitle=true&folderId=1kidX7dn63r38TclWOAZ2XUl9BD8nbBdp&scrollTo=zkM56Noy1WJ6)\n",
        "\n",
        ">>>[_예약어는 변수 이름 가능](#updateTitle=true&folderId=1kidX7dn63r38TclWOAZ2XUl9BD8nbBdp&scrollTo=zkM56Noy1WJ6)\n",
        "\n",
        ">>[User input](#updateTitle=true&folderId=1kidX7dn63r38TclWOAZ2XUl9BD8nbBdp&scrollTo=cWiPORdm1hJa)\n",
        "\n",
        ">>[Code block & Indentation](#updateTitle=true&folderId=1kidX7dn63r38TclWOAZ2XUl9BD8nbBdp&scrollTo=S53ReA5i12Ha)\n",
        "\n",
        ">>[Indentation error](#updateTitle=true&folderId=1kidX7dn63r38TclWOAZ2XUl9BD8nbBdp&scrollTo=7mCuN5Zt2RRq)\n",
        "\n",
        ">>[도전 코딩 1. BMI](#updateTitle=true&folderId=1kidX7dn63r38TclWOAZ2XUl9BD8nbBdp&scrollTo=VyDYM1TD3aGy)\n",
        "\n",
        ">>[도전 코딩 2. Fat burning](#updateTitle=true&folderId=1kidX7dn63r38TclWOAZ2XUl9BD8nbBdp&scrollTo=eXnq8bbR460C)\n",
        "\n"
      ]
    },
    {
      "metadata": {
        "id": "Mbv4qlqUqaB7",
        "colab_type": "text"
      },
      "cell_type": "markdown",
      "source": [
        "##변수 (variables)"
      ]
    },
    {
      "metadata": {
        "id": "igR1FdSWp6MA",
        "colab_type": "code",
        "colab": {
          "base_uri": "https://localhost:8080/",
          "height": 35
        },
        "outputId": "57101a2d-51dc-4681-c8db-3470d5932508"
      },
      "cell_type": "code",
      "source": [
        "5-5+1+9"
      ],
      "execution_count": 0,
      "outputs": [
        {
          "output_type": "execute_result",
          "data": {
            "text/plain": [
              "10"
            ]
          },
          "metadata": {
            "tags": []
          },
          "execution_count": 1
        }
      ]
    },
    {
      "metadata": {
        "id": "IANdEEH2qyBI",
        "colab_type": "code",
        "colab": {
          "base_uri": "https://localhost:8080/",
          "height": 35
        },
        "outputId": "3a1a8d69-03e7-4714-e3c9-051108793487"
      },
      "cell_type": "code",
      "source": [
        "5/5/3 + 9"
      ],
      "execution_count": 0,
      "outputs": [
        {
          "output_type": "execute_result",
          "data": {
            "text/plain": [
              "9.333333333333334"
            ]
          },
          "metadata": {
            "tags": []
          },
          "execution_count": 2
        }
      ]
    },
    {
      "metadata": {
        "id": "cRTCkYcEq5zE",
        "colab_type": "code",
        "colab": {
          "base_uri": "https://localhost:8080/",
          "height": 35
        },
        "outputId": "b8cf4a2c-72f1-49b1-ddb5-6fda742fdf54"
      },
      "cell_type": "code",
      "source": [
        "5/(5/3) + 9"
      ],
      "execution_count": 0,
      "outputs": [
        {
          "output_type": "execute_result",
          "data": {
            "text/plain": [
              "12.0"
            ]
          },
          "metadata": {
            "tags": []
          },
          "execution_count": 4
        }
      ]
    },
    {
      "metadata": {
        "id": "U160uAt4rLpP",
        "colab_type": "code",
        "colab": {
          "base_uri": "https://localhost:8080/",
          "height": 35
        },
        "outputId": "cd4f0910-412c-416b-b834-0555785586e2"
      },
      "cell_type": "code",
      "source": [
        "5/5*1+9"
      ],
      "execution_count": 0,
      "outputs": [
        {
          "output_type": "execute_result",
          "data": {
            "text/plain": [
              "10.0"
            ]
          },
          "metadata": {
            "tags": []
          },
          "execution_count": 5
        }
      ]
    },
    {
      "metadata": {
        "id": "FuCBnKbercyJ",
        "colab_type": "code",
        "colab": {
          "base_uri": "https://localhost:8080/",
          "height": 35
        },
        "outputId": "487029bb-83a6-4524-e8b0-fa72a7115ef9"
      },
      "cell_type": "code",
      "source": [
        "5/5*(1+9)"
      ],
      "execution_count": 0,
      "outputs": [
        {
          "output_type": "execute_result",
          "data": {
            "text/plain": [
              "10.0"
            ]
          },
          "metadata": {
            "tags": []
          },
          "execution_count": 6
        }
      ]
    },
    {
      "metadata": {
        "id": "xvZRMuwmzlKi",
        "colab_type": "text"
      },
      "cell_type": "markdown",
      "source": [
        "## 동적변수 (dynamic typing)"
      ]
    },
    {
      "metadata": {
        "id": "pjdF2D2hrgiv",
        "colab_type": "code",
        "colab": {}
      },
      "cell_type": "code",
      "source": [
        "some_var = 100"
      ],
      "execution_count": 0,
      "outputs": []
    },
    {
      "metadata": {
        "id": "XDXkQrpfsWyz",
        "colab_type": "code",
        "colab": {}
      },
      "cell_type": "code",
      "source": [
        "some_var=\"강남스타일\""
      ],
      "execution_count": 0,
      "outputs": []
    },
    {
      "metadata": {
        "id": "ulmybBmksdCB",
        "colab_type": "code",
        "colab": {
          "base_uri": "https://localhost:8080/",
          "height": 35
        },
        "outputId": "d0644003-0309-4a36-fc9e-8707b04a6bbb"
      },
      "cell_type": "code",
      "source": [
        "some_var"
      ],
      "execution_count": 0,
      "outputs": [
        {
          "output_type": "execute_result",
          "data": {
            "text/plain": [
              "'강남스타일'"
            ]
          },
          "metadata": {
            "tags": []
          },
          "execution_count": 9
        }
      ]
    },
    {
      "metadata": {
        "id": "fBuDM0zczsCq",
        "colab_type": "text"
      },
      "cell_type": "markdown",
      "source": [
        "## 문자열"
      ]
    },
    {
      "metadata": {
        "id": "NAZz9zyqsg1N",
        "colab_type": "code",
        "colab": {}
      },
      "cell_type": "code",
      "source": [
        "psy=\" 오빤 강남스타일 \""
      ],
      "execution_count": 0,
      "outputs": []
    },
    {
      "metadata": {
        "id": "A3sw1ldEs2sz",
        "colab_type": "code",
        "colab": {
          "base_uri": "https://localhost:8080/",
          "height": 35
        },
        "outputId": "e8ac86df-931d-4d3e-90cd-35e1e5077da2"
      },
      "cell_type": "code",
      "source": [
        "psy=\" 오빤 강남스타일 \"\n",
        "psy=psy+\" 오, 강남스타일\"\n",
        "psy"
      ],
      "execution_count": 0,
      "outputs": [
        {
          "output_type": "execute_result",
          "data": {
            "text/plain": [
              "' 오빤 강남스타일  오, 강남스타일'"
            ]
          },
          "metadata": {
            "tags": []
          },
          "execution_count": 13
        }
      ]
    },
    {
      "metadata": {
        "id": "YkRdvkxrtDM7",
        "colab_type": "code",
        "colab": {
          "base_uri": "https://localhost:8080/",
          "height": 35
        },
        "outputId": "e840ac5d-4939-4ae2-cb55-a94ec4dffe41"
      },
      "cell_type": "code",
      "source": [
        "psy2=\"아름다워 사랑스러워 \"\n",
        "psy2+= \"그래 너, 그래 바로 너\"\n",
        "psy2"
      ],
      "execution_count": 0,
      "outputs": [
        {
          "output_type": "execute_result",
          "data": {
            "text/plain": [
              "'아름다워 사랑스러워 그래 너, 그래 바로 너'"
            ]
          },
          "metadata": {
            "tags": []
          },
          "execution_count": 33
        }
      ]
    },
    {
      "metadata": {
        "id": "CI1KBCUUzwJK",
        "colab_type": "text"
      },
      "cell_type": "markdown",
      "source": [
        "## 여러 행 문자열(\"\"\"~~\"\"\")"
      ]
    },
    {
      "metadata": {
        "id": "XmJQlEcKtqPA",
        "colab_type": "code",
        "colab": {
          "base_uri": "https://localhost:8080/",
          "height": 35
        },
        "outputId": "534c7159-c864-4dd8-d7d2-c71890bd5754"
      },
      "cell_type": "code",
      "source": [
        "psy = \"\"\" 낮에는 따사로운 인간적인 여자\n",
        "커피 한잔의 여유를 아는 품격있는 여자\n",
        "밤이 오면 심장이 뜨거워지는 여자 그런 반전 있는 여자\"\"\"\n",
        "psy"
      ],
      "execution_count": 0,
      "outputs": [
        {
          "output_type": "execute_result",
          "data": {
            "text/plain": [
              "' 낮에는 따사로운 인간적인 여자\\n커피 한잔의 여유를 아는 품격있는 여자\\n밤이 오면 심장이 뜨거워지는 여자 그런 반전 있는 여자'"
            ]
          },
          "metadata": {
            "tags": []
          },
          "execution_count": 17
        }
      ]
    },
    {
      "metadata": {
        "id": "WHpbKvMHt4VS",
        "colab_type": "code",
        "colab": {
          "base_uri": "https://localhost:8080/",
          "height": 71
        },
        "outputId": "50f90f29-6b09-4e33-c560-c65a513e6aab"
      },
      "cell_type": "code",
      "source": [
        "print(psy)"
      ],
      "execution_count": 0,
      "outputs": [
        {
          "output_type": "stream",
          "text": [
            " 낮에는 따사로운 인간적인 여자\n",
            "커피 한잔의 여유를 아는 품격있는 여자\n",
            "밤이 오면 심장이 뜨거워지는 여자 그런 반전 있는 여자\n"
          ],
          "name": "stdout"
        }
      ]
    },
    {
      "metadata": {
        "id": "dn4kd--o0SSK",
        "colab_type": "text"
      },
      "cell_type": "markdown",
      "source": [
        "## 여러 행 수식"
      ]
    },
    {
      "metadata": {
        "id": "eVVUsSdY0UxS",
        "colab_type": "code",
        "colab": {
          "base_uri": "https://localhost:8080/",
          "height": 35
        },
        "outputId": "3a68f754-bae8-4640-8e0f-2632554fd674"
      },
      "cell_type": "code",
      "source": [
        "sum= 10+20+30+40\n",
        "sum"
      ],
      "execution_count": 0,
      "outputs": [
        {
          "output_type": "execute_result",
          "data": {
            "text/plain": [
              "100"
            ]
          },
          "metadata": {
            "tags": []
          },
          "execution_count": 34
        }
      ]
    },
    {
      "metadata": {
        "id": "ey9xWMJ9t6Xv",
        "colab_type": "code",
        "colab": {
          "base_uri": "https://localhost:8080/",
          "height": 35
        },
        "outputId": "a0ad3cb6-0761-45a9-dfab-0a6674b7925c"
      },
      "cell_type": "code",
      "source": [
        "sum= 10+20+\\\n",
        "+30+40\n",
        "sum"
      ],
      "execution_count": 0,
      "outputs": [
        {
          "output_type": "execute_result",
          "data": {
            "text/plain": [
              "100"
            ]
          },
          "metadata": {
            "tags": []
          },
          "execution_count": 19
        }
      ]
    },
    {
      "metadata": {
        "id": "QECU45mV0fRC",
        "colab_type": "text"
      },
      "cell_type": "markdown",
      "source": [
        "## 숫자와 문자열 처리"
      ]
    },
    {
      "metadata": {
        "id": "97acHSFMuMTO",
        "colab_type": "code",
        "colab": {
          "base_uri": "https://localhost:8080/",
          "height": 208
        },
        "outputId": "026340ca-cdda-4121-d052-cd3e228301ed"
      },
      "cell_type": "code",
      "source": [
        "day=3\n",
        "date = day + \" 일\"\n",
        "print(date)"
      ],
      "execution_count": 0,
      "outputs": [
        {
          "output_type": "error",
          "ename": "TypeError",
          "evalue": "ignored",
          "traceback": [
            "\u001b[0;31m---------------------------------------------------------------------------\u001b[0m",
            "\u001b[0;31mTypeError\u001b[0m                                 Traceback (most recent call last)",
            "\u001b[0;32m<ipython-input-20-32c30f04a60b>\u001b[0m in \u001b[0;36m<module>\u001b[0;34m()\u001b[0m\n\u001b[1;32m      1\u001b[0m \u001b[0mday\u001b[0m\u001b[0;34m=\u001b[0m\u001b[0;36m3\u001b[0m\u001b[0;34m\u001b[0m\u001b[0m\n\u001b[0;32m----> 2\u001b[0;31m \u001b[0mdate\u001b[0m \u001b[0;34m=\u001b[0m \u001b[0mday\u001b[0m \u001b[0;34m+\u001b[0m \u001b[0;34m\" 일\"\u001b[0m\u001b[0;34m\u001b[0m\u001b[0m\n\u001b[0m\u001b[1;32m      3\u001b[0m \u001b[0mprint\u001b[0m\u001b[0;34m(\u001b[0m\u001b[0mdate\u001b[0m\u001b[0;34m)\u001b[0m\u001b[0;34m\u001b[0m\u001b[0m\n",
            "\u001b[0;31mTypeError\u001b[0m: unsupported operand type(s) for +: 'int' and 'str'"
          ]
        }
      ]
    },
    {
      "metadata": {
        "id": "mdurCCPtuXVT",
        "colab_type": "code",
        "colab": {
          "base_uri": "https://localhost:8080/",
          "height": 35
        },
        "outputId": "712bac98-4127-4a6e-ae8c-69c5c4fc27f0"
      },
      "cell_type": "code",
      "source": [
        "date = str(day) +\" 일\"\n",
        "print(date)"
      ],
      "execution_count": 0,
      "outputs": [
        {
          "output_type": "stream",
          "text": [
            "3 일\n"
          ],
          "name": "stdout"
        }
      ]
    },
    {
      "metadata": {
        "id": "K21B9ANJuix6",
        "colab_type": "code",
        "colab": {
          "base_uri": "https://localhost:8080/",
          "height": 35
        },
        "outputId": "faf3e4a9-4d37-428d-c731-a2ff470b5a13"
      },
      "cell_type": "code",
      "source": [
        "day=3\n",
        "str_day=str(day)\n",
        "date = str_day +\" 일\"\n",
        "print(date)"
      ],
      "execution_count": 0,
      "outputs": [
        {
          "output_type": "stream",
          "text": [
            "3 일\n"
          ],
          "name": "stdout"
        }
      ]
    },
    {
      "metadata": {
        "id": "_JuqgKF_0Hx6",
        "colab_type": "text"
      },
      "cell_type": "markdown",
      "source": [
        "## 변수 type"
      ]
    },
    {
      "metadata": {
        "id": "e-VnzHfPu2Ub",
        "colab_type": "code",
        "colab": {
          "base_uri": "https://localhost:8080/",
          "height": 35
        },
        "outputId": "7d6d5247-0c6b-4f1c-cbdf-3679d5f08872"
      },
      "cell_type": "code",
      "source": [
        "type(day)\n"
      ],
      "execution_count": 0,
      "outputs": [
        {
          "output_type": "execute_result",
          "data": {
            "text/plain": [
              "int"
            ]
          },
          "metadata": {
            "tags": []
          },
          "execution_count": 23
        }
      ]
    },
    {
      "metadata": {
        "id": "At0W2UvkvSjr",
        "colab_type": "code",
        "colab": {
          "base_uri": "https://localhost:8080/",
          "height": 35
        },
        "outputId": "b157c0d9-6368-455a-b279-ded752110e0c"
      },
      "cell_type": "code",
      "source": [
        "type(day),type(str_day),type(date)"
      ],
      "execution_count": 0,
      "outputs": [
        {
          "output_type": "execute_result",
          "data": {
            "text/plain": [
              "(int, str, str)"
            ]
          },
          "metadata": {
            "tags": []
          },
          "execution_count": 25
        }
      ]
    },
    {
      "metadata": {
        "id": "3XSgUVXZviwj",
        "colab_type": "code",
        "colab": {
          "base_uri": "https://localhost:8080/",
          "height": 1421
        },
        "outputId": "774d35d8-60b1-470d-e0fd-62b402db6a9c"
      },
      "cell_type": "code",
      "source": [
        "dir()"
      ],
      "execution_count": 0,
      "outputs": [
        {
          "output_type": "execute_result",
          "data": {
            "text/plain": [
              "['In',\n",
              " 'Out',\n",
              " '_',\n",
              " '_1',\n",
              " '_11',\n",
              " '_12',\n",
              " '_13',\n",
              " '_15',\n",
              " '_17',\n",
              " '_19',\n",
              " '_2',\n",
              " '_23',\n",
              " '_24',\n",
              " '_25',\n",
              " '_3',\n",
              " '_4',\n",
              " '_5',\n",
              " '_6',\n",
              " '_9',\n",
              " '_TensorFlowImportHook',\n",
              " '__',\n",
              " '___',\n",
              " '__builtin__',\n",
              " '__builtins__',\n",
              " '__doc__',\n",
              " '__loader__',\n",
              " '__name__',\n",
              " '__package__',\n",
              " '__spec__',\n",
              " '_dh',\n",
              " '_i',\n",
              " '_i1',\n",
              " '_i10',\n",
              " '_i11',\n",
              " '_i12',\n",
              " '_i13',\n",
              " '_i14',\n",
              " '_i15',\n",
              " '_i16',\n",
              " '_i17',\n",
              " '_i18',\n",
              " '_i19',\n",
              " '_i2',\n",
              " '_i20',\n",
              " '_i21',\n",
              " '_i22',\n",
              " '_i23',\n",
              " '_i24',\n",
              " '_i25',\n",
              " '_i26',\n",
              " '_i3',\n",
              " '_i4',\n",
              " '_i5',\n",
              " '_i6',\n",
              " '_i7',\n",
              " '_i8',\n",
              " '_i9',\n",
              " '_ih',\n",
              " '_ii',\n",
              " '_iii',\n",
              " '_oh',\n",
              " '_sh',\n",
              " 'date',\n",
              " 'datetime',\n",
              " 'day',\n",
              " 'exit',\n",
              " 'get_ipython',\n",
              " 'imp',\n",
              " 'logging',\n",
              " 'os',\n",
              " 'psy',\n",
              " 'psy2',\n",
              " 'quit',\n",
              " 'register_hook',\n",
              " 'some_var',\n",
              " 'str_day',\n",
              " 'sum',\n",
              " 'sys']"
            ]
          },
          "metadata": {
            "tags": []
          },
          "execution_count": 26
        }
      ]
    },
    {
      "metadata": {
        "id": "jA_5onliwL4C",
        "colab_type": "text"
      },
      "cell_type": "markdown",
      "source": [
        "python data types\n",
        "\n",
        "*  String\n",
        "*  Number\n",
        "*   Boolean\n",
        "*   List\n",
        "*   Tuple\n",
        "*   Dictionary \n",
        "\n",
        "\n"
      ]
    },
    {
      "metadata": {
        "id": "J7r6hDAOwt3i",
        "colab_type": "text"
      },
      "cell_type": "markdown",
      "source": [
        "## 문자열을 숫자로 변환 : int(), float()"
      ]
    },
    {
      "metadata": {
        "id": "Xjun3kbnvX8X",
        "colab_type": "code",
        "colab": {}
      },
      "cell_type": "code",
      "source": [
        "num=int(\"31\")\n",
        "pi=float('3.141592')"
      ],
      "execution_count": 0,
      "outputs": []
    },
    {
      "metadata": {
        "id": "BwbJZj1Aws4b",
        "colab_type": "code",
        "colab": {
          "base_uri": "https://localhost:8080/",
          "height": 35
        },
        "outputId": "dbef98b4-b97a-4388-a2b0-2c50582e41fd"
      },
      "cell_type": "code",
      "source": [
        "num"
      ],
      "execution_count": 0,
      "outputs": [
        {
          "output_type": "execute_result",
          "data": {
            "text/plain": [
              "31"
            ]
          },
          "metadata": {
            "tags": []
          },
          "execution_count": 28
        }
      ]
    },
    {
      "metadata": {
        "id": "RTzRWZogwzfb",
        "colab_type": "code",
        "colab": {
          "base_uri": "https://localhost:8080/",
          "height": 35
        },
        "outputId": "6aaba7ae-bbe2-4eef-bbdd-73cee0d52b9b"
      },
      "cell_type": "code",
      "source": [
        "pi,type(pi)"
      ],
      "execution_count": 0,
      "outputs": [
        {
          "output_type": "execute_result",
          "data": {
            "text/plain": [
              "(3.141592, float)"
            ]
          },
          "metadata": {
            "tags": []
          },
          "execution_count": 29
        }
      ]
    },
    {
      "metadata": {
        "id": "Y8HqUCHnxLsp",
        "colab_type": "code",
        "colab": {
          "base_uri": "https://localhost:8080/",
          "height": 35
        },
        "outputId": "c281f4c3-19da-4907-9589-5650d11dc045"
      },
      "cell_type": "code",
      "source": [
        "print(\"num = {}, pi = {}\".format(num,pi))"
      ],
      "execution_count": 0,
      "outputs": [
        {
          "output_type": "stream",
          "text": [
            "num = 31, pi = 3.141592\n"
          ],
          "name": "stdout"
        }
      ]
    },
    {
      "metadata": {
        "id": "59yzjFRrxdzK",
        "colab_type": "text"
      },
      "cell_type": "markdown",
      "source": [
        "## 예약어 (keywords)"
      ]
    },
    {
      "metadata": {
        "id": "z6lAj5uFxcCI",
        "colab_type": "code",
        "colab": {
          "base_uri": "https://localhost:8080/",
          "height": 35
        },
        "outputId": "4115e26d-bbf0-4189-a0bb-21ab1f208067"
      },
      "cell_type": "code",
      "source": [
        "import keyword\n",
        "\n",
        "#파이썬의 예약어 수\n",
        "\n",
        "len(keyword.kwlist)"
      ],
      "execution_count": 0,
      "outputs": [
        {
          "output_type": "execute_result",
          "data": {
            "text/plain": [
              "33"
            ]
          },
          "metadata": {
            "tags": []
          },
          "execution_count": 53
        }
      ]
    },
    {
      "metadata": {
        "id": "-WH43Xvf00KO",
        "colab_type": "code",
        "colab": {
          "base_uri": "https://localhost:8080/",
          "height": 611
        },
        "outputId": "f70a13ea-ecbb-42ef-d6a0-b0ebccebfb92"
      },
      "cell_type": "code",
      "source": [
        "# 예약어 목록\n",
        "keyword.kwlist"
      ],
      "execution_count": 0,
      "outputs": [
        {
          "output_type": "execute_result",
          "data": {
            "text/plain": [
              "['False',\n",
              " 'None',\n",
              " 'True',\n",
              " 'and',\n",
              " 'as',\n",
              " 'assert',\n",
              " 'break',\n",
              " 'class',\n",
              " 'continue',\n",
              " 'def',\n",
              " 'del',\n",
              " 'elif',\n",
              " 'else',\n",
              " 'except',\n",
              " 'finally',\n",
              " 'for',\n",
              " 'from',\n",
              " 'global',\n",
              " 'if',\n",
              " 'import',\n",
              " 'in',\n",
              " 'is',\n",
              " 'lambda',\n",
              " 'nonlocal',\n",
              " 'not',\n",
              " 'or',\n",
              " 'pass',\n",
              " 'raise',\n",
              " 'return',\n",
              " 'try',\n",
              " 'while',\n",
              " 'with',\n",
              " 'yield']"
            ]
          },
          "metadata": {
            "tags": []
          },
          "execution_count": 36
        }
      ]
    },
    {
      "metadata": {
        "id": "GIY6W-hS07lE",
        "colab_type": "code",
        "colab": {
          "base_uri": "https://localhost:8080/",
          "height": 136
        },
        "outputId": "bf432ab6-8dd0-4af9-c749-510a0c479b15"
      },
      "cell_type": "code",
      "source": [
        "as= \"inje\""
      ],
      "execution_count": 0,
      "outputs": [
        {
          "output_type": "error",
          "ename": "SyntaxError",
          "evalue": "ignored",
          "traceback": [
            "\u001b[0;36m  File \u001b[0;32m\"<ipython-input-38-5e767c752835>\"\u001b[0;36m, line \u001b[0;32m1\u001b[0m\n\u001b[0;31m    as= \"inje\"\u001b[0m\n\u001b[0m     ^\u001b[0m\n\u001b[0;31mSyntaxError\u001b[0m\u001b[0;31m:\u001b[0m invalid syntax\n"
          ]
        }
      ]
    },
    {
      "metadata": {
        "id": "Gukw0exW1LiJ",
        "colab_type": "code",
        "colab": {
          "base_uri": "https://localhost:8080/",
          "height": 35
        },
        "outputId": "f349ba4b-6f17-4b20-bf80-a48261ba3e6d"
      },
      "cell_type": "code",
      "source": [
        "_as = \"inje\"\n",
        "_as"
      ],
      "execution_count": 0,
      "outputs": [
        {
          "output_type": "execute_result",
          "data": {
            "text/plain": [
              "'inje'"
            ]
          },
          "metadata": {
            "tags": []
          },
          "execution_count": 39
        }
      ]
    },
    {
      "metadata": {
        "id": "zkM56Noy1WJ6",
        "colab_type": "text"
      },
      "cell_type": "markdown",
      "source": [
        "###예약어는 변수 이름으로 사용할 수 없다 (오류)\n",
        "\n",
        "\n",
        "### > _예약어는 변수 이름 가능\n",
        "\n"
      ]
    },
    {
      "metadata": {
        "id": "cWiPORdm1hJa",
        "colab_type": "text"
      },
      "cell_type": "markdown",
      "source": [
        "## User input"
      ]
    },
    {
      "metadata": {
        "id": "8BSGmTgR1Tna",
        "colab_type": "code",
        "colab": {
          "base_uri": "https://localhost:8080/",
          "height": 35
        },
        "outputId": "2dd23aae-b334-49f9-b53e-e53cde21b826"
      },
      "cell_type": "code",
      "source": [
        "name = input(\"Please write down your name here!\")"
      ],
      "execution_count": 0,
      "outputs": [
        {
          "output_type": "stream",
          "text": [
            "Please write down your name here! sangeun\n"
          ],
          "name": "stdout"
        }
      ]
    },
    {
      "metadata": {
        "id": "I-WDrcDo1u4n",
        "colab_type": "code",
        "colab": {
          "base_uri": "https://localhost:8080/",
          "height": 35
        },
        "outputId": "d7263225-3070-4efc-be99-4f2d1a5ef619"
      },
      "cell_type": "code",
      "source": [
        "name"
      ],
      "execution_count": 0,
      "outputs": [
        {
          "output_type": "execute_result",
          "data": {
            "text/plain": [
              "' sangeun'"
            ]
          },
          "metadata": {
            "tags": []
          },
          "execution_count": 41
        }
      ]
    },
    {
      "metadata": {
        "id": "S53ReA5i12Ha",
        "colab_type": "text"
      },
      "cell_type": "markdown",
      "source": [
        "## Code block & Indentation"
      ]
    },
    {
      "metadata": {
        "id": "Jxu6cPRU10DE",
        "colab_type": "code",
        "colab": {
          "base_uri": "https://localhost:8080/",
          "height": 71
        },
        "outputId": "05a90b27-e6a8-4173-c59c-20768c316f12"
      },
      "cell_type": "code",
      "source": [
        "if(10>3):\n",
        "  print('inside if block')\n",
        "  print('still inside if block')\n",
        "  \n",
        "print('outside if block!')"
      ],
      "execution_count": 0,
      "outputs": [
        {
          "output_type": "stream",
          "text": [
            "inside if block\n",
            "still inside if block\n",
            "outside if block!\n"
          ],
          "name": "stdout"
        }
      ]
    },
    {
      "metadata": {
        "id": "7mCuN5Zt2RRq",
        "colab_type": "text"
      },
      "cell_type": "markdown",
      "source": [
        "##Indentation error"
      ]
    },
    {
      "metadata": {
        "id": "TIYC1H_b2fJi",
        "colab_type": "code",
        "colab": {}
      },
      "cell_type": "code",
      "source": [
        "if(10>3):\n",
        "  print('inside if block')\n",
        "    print('still inside if block')\n",
        "  \n",
        "print('outside if block!')"
      ],
      "execution_count": 0,
      "outputs": []
    },
    {
      "metadata": {
        "id": "VyDYM1TD3aGy",
        "colab_type": "text"
      },
      "cell_type": "markdown",
      "source": [
        "## 도전 코딩 1. BMI"
      ]
    },
    {
      "metadata": {
        "id": "I6_lcY3E3pxS",
        "colab_type": "code",
        "colab": {
          "base_uri": "https://localhost:8080/",
          "height": 71
        },
        "outputId": "ea229a50-f290-4fd0-a6e1-b4a1ebe5760e"
      },
      "cell_type": "code",
      "source": [
        "height = float(input(\"Your height in meters :\"))\n",
        "weight = int(input(\"Your weight in kilograms :\"))\n",
        "bmi = round(weight/ (height*height), 1)\n",
        "bmi"
      ],
      "execution_count": 0,
      "outputs": [
        {
          "output_type": "stream",
          "text": [
            "Your height in meters :1.58\n",
            "Your weight in kilograms :50\n"
          ],
          "name": "stdout"
        },
        {
          "output_type": "execute_result",
          "data": {
            "text/plain": [
              "20.0"
            ]
          },
          "metadata": {
            "tags": []
          },
          "execution_count": 46
        }
      ]
    },
    {
      "metadata": {
        "id": "eXnq8bbR460C",
        "colab_type": "text"
      },
      "cell_type": "markdown",
      "source": [
        "## 도전 코딩 2. Fat burning"
      ]
    },
    {
      "metadata": {
        "id": "cNk6g9794qjL",
        "colab_type": "code",
        "colab": {}
      },
      "cell_type": "code",
      "source": [
        "# 조깅에서 1kg 지방을 태우는 데 몇 시간 걸리는지를 계산\n",
        "cal_per_1kg_fat = 7200 # 지방 1kg 연소에 필요한 열량\n",
        "\n",
        "cal_per_1min_jog = 7.76 # 조깅 1 분에 의한 소비 칼로리"
      ],
      "execution_count": 0,
      "outputs": []
    },
    {
      "metadata": {
        "id": "25xtECRg6GcK",
        "colab_type": "code",
        "colab": {
          "base_uri": "https://localhost:8080/",
          "height": 53
        },
        "outputId": "f8a0f7ff-f06e-49e2-d7d3-87b18afb419f"
      },
      "cell_type": "code",
      "source": [
        "# 조깅에서 1kg 체중 감소하는데 몇 분이 필요할까?\n",
        "min_to_lose1kg = cal_per_1kg_fat/cal_per_1min_jog\n",
        "\n",
        "hours_to_lose1kg = min_to_lose1kg/60 # 분을 시간으로 환산\n",
        "\n",
        "print(round(hours_to_lose1kg, 1)) # 변수의 내용을 표시\n",
        "print(str(round(hours_to_lose1kg, 1))+ \"시간\")\n"
      ],
      "execution_count": 0,
      "outputs": [
        {
          "output_type": "stream",
          "text": [
            "15.5\n",
            "15.5시간\n"
          ],
          "name": "stdout"
        }
      ]
    },
    {
      "metadata": {
        "id": "r1hFznPJ6Xi9",
        "colab_type": "code",
        "colab": {
          "base_uri": "https://localhost:8080/",
          "height": 35
        },
        "outputId": "932313b0-9a70-4663-f166-1a24dd61ae6a"
      },
      "cell_type": "code",
      "source": [
        "print(\"{} 시간\".format(round(hours_to_lose1kg, 1)))"
      ],
      "execution_count": 0,
      "outputs": [
        {
          "output_type": "stream",
          "text": [
            "15.5 시간\n"
          ],
          "name": "stdout"
        }
      ]
    },
    {
      "metadata": {
        "id": "8vzaAuRf6_-h",
        "colab_type": "code",
        "colab": {}
      },
      "cell_type": "code",
      "source": [
        ""
      ],
      "execution_count": 0,
      "outputs": []
    }
  ]
}