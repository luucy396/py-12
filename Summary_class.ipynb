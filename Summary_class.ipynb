{
  "nbformat": 4,
  "nbformat_minor": 0,
  "metadata": {
    "colab": {
      "name": "Summary_class.ipynb의 사본",
      "version": "0.3.2",
      "provenance": [],
      "collapsed_sections": [],
      "include_colab_link": true
    },
    "kernelspec": {
      "name": "python2",
      "display_name": "Python 2"
    }
  },
  "cells": [
    {
      "cell_type": "markdown",
      "metadata": {
        "id": "view-in-github",
        "colab_type": "text"
      },
      "source": [
        "<a href=\"https://colab.research.google.com/github/sangeunlim/py-12/blob/master/Summary_class.ipynb\" target=\"_parent\"><img src=\"https://colab.research.google.com/assets/colab-badge.svg\" alt=\"Open In Colab\"/></a>"
      ]
    },
    {
      "metadata": {
        "id": "gvHLSHyDdDw3",
        "colab_type": "toc"
      },
      "cell_type": "markdown",
      "source": [
        ">>[클래스(class)](#scrollTo=zfaLPwEl-Z8P)\n",
        "\n",
        ">>>[파이썬 클래스는 class 키워드를 사용하여 자신만의 데이터타입을 만들 수 있음](#scrollTo=zfaLPwEl-Z8P)\n",
        "\n",
        ">>[예외처리(exception)](#scrollTo=X88tFplRSzt6)\n",
        "\n",
        ">>[with 구문](#scrollTo=HV6_zxVSTGLx)\n",
        "\n",
        ">>>[일반적으로 파일 또는 세션을 사용하는 순서](#scrollTo=HV6_zxVSTGLx)\n",
        "\n",
        ">>>[open() => read() 또는 write() => close()](#scrollTo=HV6_zxVSTGLx)\n",
        "\n"
      ]
    },
    {
      "metadata": {
        "id": "zfaLPwEl-Z8P",
        "colab_type": "text"
      },
      "cell_type": "markdown",
      "source": [
        "## 클래스(class)\n",
        "\n",
        "### 파이썬 클래스는 class 키워드를 사용하여 자신만의 데이터타입을 만들 수 있음"
      ]
    },
    {
      "metadata": {
        "id": "U6QRgZuYpzGR",
        "colab_type": "code",
        "colab": {}
      },
      "cell_type": "code",
      "source": [
        "class Person:\n",
        "  \n",
        "  # 클래스 메소드의 첫번째 인수는 자신의 인스턴스를 나타내는 self\n",
        "  \n",
        "  def __init__(self, name):    # 생성자\n",
        "    self.name = name\n",
        "    print(self.name + \" is initialized\")\n",
        "    \n",
        "  def work(self, company):\n",
        "    print(self.name + \" is working in \" + company)   #메소드\n",
        "    \n",
        "  def sleep(self):\n",
        "    print(self.name + \" is sleeping\")"
      ],
      "execution_count": 0,
      "outputs": []
    },
    {
      "metadata": {
        "id": "GYM8UGDKA61X",
        "colab_type": "code",
        "colab": {
          "base_uri": "https://localhost:8080/",
          "height": 35
        },
        "outputId": "3af883d0-3b8b-4cb9-8636-877f994f77f3"
      },
      "cell_type": "code",
      "source": [
        "# Person instance 2개 생성\n",
        "obj = Person(\"PARK\")"
      ],
      "execution_count": 2,
      "outputs": [
        {
          "output_type": "stream",
          "text": [
            "PARK is initialized\n"
          ],
          "name": "stdout"
        }
      ]
    },
    {
      "metadata": {
        "id": "I6CzY3OdBFQP",
        "colab_type": "code",
        "colab": {
          "base_uri": "https://localhost:8080/",
          "height": 52
        },
        "outputId": "ac52ab96-6e79-459a-eace-d1e719d1f3b8"
      },
      "cell_type": "code",
      "source": [
        "# method call\n",
        "obj.work(\"ABCDEF\")\n",
        "obj.sleep()"
      ],
      "execution_count": 3,
      "outputs": [
        {
          "output_type": "stream",
          "text": [
            "PARK is working in ABCDEF\n",
            "PARK is sleeping\n"
          ],
          "name": "stdout"
        }
      ]
    },
    {
      "metadata": {
        "id": "tWYqjN4tBOqW",
        "colab_type": "code",
        "colab": {
          "base_uri": "https://localhost:8080/",
          "height": 35
        },
        "outputId": "ae93fbae-c189-4a9a-d6d9-7665cec8dea9"
      },
      "cell_type": "code",
      "source": [
        "# 속성에 직접 접근, 기본적으로 public\n",
        "print(\"current person object is \", obj.name)"
      ],
      "execution_count": 4,
      "outputs": [
        {
          "output_type": "stream",
          "text": [
            "('current person object is ', 'PARK')\n"
          ],
          "name": "stdout"
        }
      ]
    },
    {
      "metadata": {
        "id": "D95tU6zaBcXZ",
        "colab_type": "code",
        "colab": {}
      },
      "cell_type": "code",
      "source": [
        " class Person:\n",
        "    \n",
        "    count = 0          # class variable\n",
        "\n",
        "    def __init__(self, name):\n",
        "      self.name = name\n",
        "      Person.count +=1    # class 변수 count 증가\n",
        "      print(self.name + \" is initialized\")\n",
        "      \n",
        "    def work(self, company):\n",
        "      print(self.name + \" is working in \" + company)\n",
        "      \n",
        "    def sleep(self):\n",
        "      print(self.name + \" is sleeping\")\n",
        "      \n",
        "    @classmethod            # 해당 메소드가 클래스 메소드임을 표시\n",
        "    def getCount(cls):      # class method\n",
        "      return cls.count      # self 대신 cls라는 클래스를 의미하는 파라미터를 인수로 전달받음"
      ],
      "execution_count": 0,
      "outputs": []
    },
    {
      "metadata": {
        "id": "UTSs3D2LD7su",
        "colab_type": "code",
        "colab": {
          "base_uri": "https://localhost:8080/",
          "height": 52
        },
        "outputId": "85692928-778a-4019-dd3b-d6821d922127"
      },
      "cell_type": "code",
      "source": [
        "obj1 = Person(\"PARK\")\n",
        "obj2 = Person(\"KIM\")"
      ],
      "execution_count": 6,
      "outputs": [
        {
          "output_type": "stream",
          "text": [
            "PARK is initialized\n",
            "KIM is initialized\n"
          ],
          "name": "stdout"
        }
      ]
    },
    {
      "metadata": {
        "id": "u2laI1rcEO-Z",
        "colab_type": "code",
        "colab": {
          "base_uri": "https://localhost:8080/",
          "height": 52
        },
        "outputId": "9914f566-06bd-40e9-9e53-8c63b086b474"
      },
      "cell_type": "code",
      "source": [
        "obj1.work(\"ABCDEF\")\n",
        "\n",
        "obj2.sleep()"
      ],
      "execution_count": 7,
      "outputs": [
        {
          "output_type": "stream",
          "text": [
            "PARK is working in ABCDEF\n",
            "KIM is sleeping\n"
          ],
          "name": "stdout"
        }
      ]
    },
    {
      "metadata": {
        "id": "0KxHjNHUEbig",
        "colab_type": "code",
        "colab": {
          "base_uri": "https://localhost:8080/",
          "height": 35
        },
        "outputId": "d0ee81fc-d79a-4a49-93c5-f67a0da6b1cc"
      },
      "cell_type": "code",
      "source": [
        "print(\"current person object is \", obj1.name, \", \", obj2.name)"
      ],
      "execution_count": 8,
      "outputs": [
        {
          "output_type": "stream",
          "text": [
            "('current person object is ', 'PARK', ', ', 'KIM')\n"
          ],
          "name": "stdout"
        }
      ]
    },
    {
      "metadata": {
        "id": "sss1YxzYFTiK",
        "colab_type": "code",
        "colab": {
          "base_uri": "https://localhost:8080/",
          "height": 35
        },
        "outputId": "7dd09357-e511-4f7a-80a2-c3ff604fd9cf"
      },
      "cell_type": "code",
      "source": [
        "# class method 호출\n",
        "print(\"Person count ==\", Person.getCount())"
      ],
      "execution_count": 9,
      "outputs": [
        {
          "output_type": "stream",
          "text": [
            "('Person count ==', 2)\n"
          ],
          "name": "stdout"
        }
      ]
    },
    {
      "metadata": {
        "id": "LQSnsa9FFryP",
        "colab_type": "code",
        "colab": {
          "base_uri": "https://localhost:8080/",
          "height": 35
        },
        "outputId": "24f3d16a-fc85-437b-9d42-f2f094314790"
      },
      "cell_type": "code",
      "source": [
        "# class variable direct access\n",
        "print(Person.count)"
      ],
      "execution_count": 10,
      "outputs": [
        {
          "output_type": "stream",
          "text": [
            "2\n"
          ],
          "name": "stdout"
        }
      ]
    },
    {
      "metadata": {
        "id": "FW8-RLY1Fv_P",
        "colab_type": "code",
        "colab": {}
      },
      "cell_type": "code",
      "source": [
        "# 기본적으로 모든 멤버가 public이기 때문에 외부에서 직접 접근이 가능함\n",
        "\n",
        "class PrivateMemberTest:\n",
        "  \n",
        "  def __init__(self, name1, name2):\n",
        "    \n",
        "    self.name1 = name1\n",
        "    self.__name2 = name2    # private member variable\n",
        "    print(\"initializedwith \" + name1 + \" ,\" + name2)\n",
        "    \n",
        "  def getNames(self):\n",
        "    self.__printNames()\n",
        "    return self.name1, self.__name2\n",
        "  \n",
        "  def __printNames(self):    # private member method\n",
        "    print(self.name1, self.__name2)"
      ],
      "execution_count": 0,
      "outputs": []
    },
    {
      "metadata": {
        "id": "z1J21yghISXZ",
        "colab_type": "code",
        "colab": {
          "base_uri": "https://localhost:8080/",
          "height": 294
        },
        "outputId": "e3784eeb-00ea-4771-e806-e8ca7785a773"
      },
      "cell_type": "code",
      "source": [
        "# 인스턴스 생성\n",
        "obj = PrivateMemberTest(\"PARK\", \"KIM\")\n",
        "\n",
        "print(obj.name1)\n",
        "print(obj.getNames())\n",
        "print(obj.__printNames())     # error 발생\n",
        "print(obj.__name2)            # errpr 발생"
      ],
      "execution_count": 12,
      "outputs": [
        {
          "output_type": "stream",
          "text": [
            "initializedwith PARK ,KIM\n",
            "PARK\n",
            "('PARK', 'KIM')\n",
            "('PARK', 'KIM')\n"
          ],
          "name": "stdout"
        },
        {
          "output_type": "error",
          "ename": "AttributeError",
          "evalue": "ignored",
          "traceback": [
            "\u001b[0;31m\u001b[0m",
            "\u001b[0;31mAttributeError\u001b[0mTraceback (most recent call last)",
            "\u001b[0;32m<ipython-input-12-59d16933a796>\u001b[0m in \u001b[0;36m<module>\u001b[0;34m()\u001b[0m\n\u001b[1;32m      3\u001b[0m \u001b[0;32mprint\u001b[0m\u001b[0;34m(\u001b[0m\u001b[0mobj\u001b[0m\u001b[0;34m.\u001b[0m\u001b[0mname1\u001b[0m\u001b[0;34m)\u001b[0m\u001b[0;34m\u001b[0m\u001b[0m\n\u001b[1;32m      4\u001b[0m \u001b[0;32mprint\u001b[0m\u001b[0;34m(\u001b[0m\u001b[0mobj\u001b[0m\u001b[0;34m.\u001b[0m\u001b[0mgetNames\u001b[0m\u001b[0;34m(\u001b[0m\u001b[0;34m)\u001b[0m\u001b[0;34m)\u001b[0m\u001b[0;34m\u001b[0m\u001b[0m\n\u001b[0;32m----> 5\u001b[0;31m \u001b[0;32mprint\u001b[0m\u001b[0;34m(\u001b[0m\u001b[0mobj\u001b[0m\u001b[0;34m.\u001b[0m\u001b[0m__printNames\u001b[0m\u001b[0;34m(\u001b[0m\u001b[0;34m)\u001b[0m\u001b[0;34m)\u001b[0m     \u001b[0;31m# error 발생\u001b[0m\u001b[0;34m\u001b[0m\u001b[0m\n\u001b[0m\u001b[1;32m      6\u001b[0m \u001b[0;32mprint\u001b[0m\u001b[0;34m(\u001b[0m\u001b[0mobj\u001b[0m\u001b[0;34m.\u001b[0m\u001b[0m__name2\u001b[0m\u001b[0;34m)\u001b[0m            \u001b[0;31m# errpr 발생\u001b[0m\u001b[0;34m\u001b[0m\u001b[0m\n",
            "\u001b[0;31mAttributeError\u001b[0m: PrivateMemberTest instance has no attribute '__printNames'"
          ]
        }
      ]
    },
    {
      "metadata": {
        "id": "xymTiI6iJvMP",
        "colab_type": "code",
        "colab": {}
      },
      "cell_type": "code",
      "source": [
        "def print_name(name):\n",
        "  \n",
        "  print(\"[def] \", name)\n",
        "  \n",
        "class SameTest:\n",
        "  \n",
        "  def __init__(self):\n",
        "    # 아무것도 실행하지 않기 때문에 pass\n",
        "    pass\n",
        "  \n",
        "  # 외부 함수와 동일한 이름으로 method 정의\n",
        "  def print_name(self, name):\n",
        "    print(\"[SameTest] \", name)\n",
        "                             # 외부함수와 클래스 method name 이 같은 경우\n",
        "  def call_test(self):       # self 를 통해 method 호출\n",
        "                             # 붙이지 않으면 동일한 이름의 외부 함수가 호출됨\n",
        "    # 외부 함수 호출\n",
        "    print_name(\"KIM\")\n",
        "      \n",
        "    #클래스 내부 method 호출\n",
        "    self.print_name(\"KIM\")"
      ],
      "execution_count": 0,
      "outputs": []
    },
    {
      "metadata": {
        "id": "F1LmlJgqLt0v",
        "colab_type": "code",
        "colab": {
          "base_uri": "https://localhost:8080/",
          "height": 88
        },
        "outputId": "efb59007-d21d-4c5e-8df6-2bfc7382bf58"
      },
      "cell_type": "code",
      "source": [
        "# create SameTest object\n",
        "obj = SameTest()\n",
        "\n",
        "# call function print_name\n",
        "print_name(\"LEE\")\n",
        "\n",
        "# call method print_name\n",
        "obj.print_name(\"LEE\")\n",
        "\n",
        "# call method call_test\n",
        "obj.call_test()"
      ],
      "execution_count": 14,
      "outputs": [
        {
          "output_type": "stream",
          "text": [
            "('[def] ', 'LEE')\n",
            "('[SameTest] ', 'LEE')\n",
            "('[def] ', 'KIM')\n",
            "('[SameTest] ', 'KIM')\n"
          ],
          "name": "stdout"
        }
      ]
    },
    {
      "metadata": {
        "id": "X88tFplRSzt6",
        "colab_type": "text"
      },
      "cell_type": "markdown",
      "source": [
        "## 예외처리(exception)"
      ]
    },
    {
      "metadata": {
        "id": "9GDRb4OQL5eQ",
        "colab_type": "code",
        "colab": {}
      },
      "cell_type": "code",
      "source": [
        "def calc(list_data):\n",
        "  \n",
        "  sum = 0\n",
        "  \n",
        "  try:\n",
        "    sum = list_data[0] + list_data[1] + list_data[2]\n",
        "    \n",
        "    if sum < 0:\n",
        "      raise Exception(\"Sum is minus\")    # 사용자가 에러를 던지기 위해 raise 문 사용\n",
        "      \n",
        "  except IndexError as err:         # try 블록에서 에러가 발생 시 except 문으로 이동해 예외처리\n",
        "    print(str(err))\n",
        "  except Exception as err:\n",
        "    print(str(err))\n",
        "  finally:             # 항상 마지막으로 실행\n",
        "    print(sum)"
      ],
      "execution_count": 0,
      "outputs": []
    },
    {
      "metadata": {
        "id": "pazckQuQMDB7",
        "colab_type": "code",
        "colab": {
          "base_uri": "https://localhost:8080/",
          "height": 52
        },
        "outputId": "edeb8148-fdca-49ba-e074-188bc00c6744"
      },
      "cell_type": "code",
      "source": [
        "calc([1, 2])  # index error 발생"
      ],
      "execution_count": 16,
      "outputs": [
        {
          "output_type": "stream",
          "text": [
            "list index out of range\n",
            "0\n"
          ],
          "name": "stdout"
        }
      ]
    },
    {
      "metadata": {
        "id": "hXSOZjF8QCT2",
        "colab_type": "code",
        "colab": {
          "base_uri": "https://localhost:8080/",
          "height": 52
        },
        "outputId": "067a29fc-565a-4515-d861-6f61046c1dab"
      },
      "cell_type": "code",
      "source": [
        "calc([1, 2, -100])  # 인위적인 exception 발생"
      ],
      "execution_count": 17,
      "outputs": [
        {
          "output_type": "stream",
          "text": [
            "Sum is minus\n",
            "-97\n"
          ],
          "name": "stdout"
        }
      ]
    },
    {
      "metadata": {
        "id": "HV6_zxVSTGLx",
        "colab_type": "text"
      },
      "cell_type": "markdown",
      "source": [
        "## with 구문\n",
        "\n",
        "### 일반적으로 파일 또는 세션을 사용하는 순서\n",
        "### open() => read() 또는 write() => close()"
      ]
    },
    {
      "metadata": {
        "id": "g-UhyKGuQKvR",
        "colab_type": "code",
        "colab": {}
      },
      "cell_type": "code",
      "source": [
        "# 일반적인 방법\n",
        "\n",
        "f = open(\"./file_test\", 'w')"
      ],
      "execution_count": 0,
      "outputs": []
    },
    {
      "metadata": {
        "id": "BRwDeplzWTEC",
        "colab_type": "code",
        "colab": {}
      },
      "cell_type": "code",
      "source": [
        "f.write(\"Hello, Python !!!\")\n"
      ],
      "execution_count": 0,
      "outputs": []
    },
    {
      "metadata": {
        "id": "DWI0VCnxWU4R",
        "colab_type": "code",
        "colab": {}
      },
      "cell_type": "code",
      "source": [
        "f.close()"
      ],
      "execution_count": 0,
      "outputs": []
    },
    {
      "metadata": {
        "id": "nYBUuH9BTh2T",
        "colab_type": "code",
        "colab": {}
      },
      "cell_type": "code",
      "source": [
        "# with 구문을 사용한 방법\n",
        "# with 블록을 벗어나는 순간 파일 객체 f 가 자동으로 close 됨.\n",
        "\n",
        "with open(\"./file_test\", 'w') as f:\n",
        "  f.write(\"Hello, Python !!!\")"
      ],
      "execution_count": 0,
      "outputs": []
    },
    {
      "metadata": {
        "id": "Q37hcXiyT8zs",
        "colab_type": "code",
        "colab": {}
      },
      "cell_type": "code",
      "source": [
        ""
      ],
      "execution_count": 0,
      "outputs": []
    }
  ]
}