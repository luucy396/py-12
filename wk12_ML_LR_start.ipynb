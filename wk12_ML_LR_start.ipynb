{
  "nbformat": 4,
  "nbformat_minor": 0,
  "metadata": {
    "colab": {
      "name": "wk12_ML_LR_start.ipynb의 사본",
      "version": "0.3.2",
      "provenance": [],
      "collapsed_sections": [],
      "include_colab_link": true
    },
    "kernelspec": {
      "display_name": "Python 3",
      "language": "python",
      "name": "python3"
    }
  },
  "cells": [
    {
      "cell_type": "markdown",
      "metadata": {
        "id": "view-in-github",
        "colab_type": "text"
      },
      "source": [
        "<a href=\"https://colab.research.google.com/github/sangeunlim/py-12/blob/master/wk12_ML_LR_start.ipynb\" target=\"_parent\"><img src=\"https://colab.research.google.com/assets/colab-badge.svg\" alt=\"Open In Colab\"/></a>"
      ]
    },
    {
      "metadata": {
        "colab_type": "text",
        "id": "pbJOVKrdH9av"
      },
      "cell_type": "markdown",
      "source": [
        "## 파이썬과 기계학습\n",
        "\n",
        "> [Gooood blog](https://tensorflow.blog/)\n",
        "\n",
        "> [python-machine-learning-book-2nd-edition](https://github.com/rasbt/python-machine-learning-book-2nd-edition)"
      ]
    },
    {
      "metadata": {
        "colab_type": "toc",
        "id": "4LOSuBR4jmB1"
      },
      "cell_type": "markdown",
      "source": [
        ">>[파이썬과 기계학습](#scrollTo=pbJOVKrdH9av)\n",
        "\n",
        ">>[wk13: 선형회기 연습](#scrollTo=E3-FW7EijXTH)\n",
        "\n",
        ">>>[Price of RAM (Linear regression)](#scrollTo=S3f7UXkHH9dE)\n",
        "\n",
        ">>>[도전하기](#scrollTo=JCap6GRoH9dN)\n",
        "\n",
        ">>>[수능 점수 예측 (다변수 선형회기, Multivariate Linear regression)](#scrollTo=CfixdLUvH9dP)\n",
        "\n",
        ">>>>[[1] 25명 전체 데이터를 훈련 데이터로 지정한다.](#scrollTo=GAl1Yid1H9dS)\n",
        "\n",
        ">>[[wk11] Homework](#scrollTo=jpsinXMnH9dn)\n",
        "\n",
        ">>>>>[================== 마감: 2018.11.18(일). 24:00](#scrollTo=jpsinXMnH9dn)\n",
        "\n",
        ">>>>[lr_model vs. lr_model_20](#scrollTo=KuDm7wBbRgVQ)\n",
        "\n",
        ">>>>[테스트 데이터에 대한 예측 성능 평가](#scrollTo=xbZobZjvSCEt)\n",
        "\n",
        ">>[pandas의 데이터프레임을 이용한 수능 성적 회기 분석](#scrollTo=ciTzquUZc4jx)\n",
        "\n",
        ">>>[수능 데이터로 데이터프레임 구성 - pandas](#scrollTo=4boVk_xeTq7r)\n",
        "\n",
        ">>>>[다변수 선형회기 분석](#scrollTo=fzwJSRmjdN8-)\n",
        "\n",
        ">>[[wk13] Study](#scrollTo=WLjYsq74H9dr)\n",
        "\n"
      ]
    },
    {
      "metadata": {
        "colab_type": "text",
        "id": "E3-FW7EijXTH"
      },
      "cell_type": "markdown",
      "source": [
        "## wk13: 선형회기 연습\n",
        "\n",
        "> Linear regression of one variable and multivariate linear regression"
      ]
    },
    {
      "metadata": {
        "colab_type": "text",
        "id": "S3f7UXkHH9dE"
      },
      "cell_type": "markdown",
      "source": [
        "### 2. Price of RAM (Linear regression)\n",
        "\n",
        "> [ram_price.csv](https://github.com/Redwoods/Py/blob/master/py-basic/tips/ram_price.csv)"
      ]
    },
    {
      "metadata": {
        "colab_type": "text",
        "id": "TqV3hLA_H9dE"
      },
      "cell_type": "markdown",
      "source": [
        "아래는 로그 스케일로 그린 연도별 RAM 가격이다.\n",
        "\n",
        "선형 회기를 이용해서 RAM 가격 예측 모델을 만들어보자."
      ]
    },
    {
      "metadata": {
        "colab_type": "code",
        "id": "cZ6JoUfMH9dE",
        "colab": {}
      },
      "cell_type": "code",
      "source": [
        "import pandas as pd\n",
        "import numpy as np\n",
        "import matplotlib.pyplot as plt\n",
        "%matplotlib inline"
      ],
      "execution_count": 0,
      "outputs": []
    },
    {
      "metadata": {
        "id": "EKeNqLzmPju-",
        "colab_type": "code",
        "colab": {
          "resources": {
            "http://localhost:8080/nbextensions/google.colab/files.js": {
              "data": "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",
              "ok": true,
              "headers": [
                [
                  "content-type",
                  "application/javascript"
                ]
              ],
              "status": 200,
              "status_text": ""
            }
          },
          "base_uri": "https://localhost:8080/",
          "height": 94
        },
        "outputId": "193c5e95-a5b6-413f-c4b9-49663d45b9bc"
      },
      "cell_type": "code",
      "source": [
        "from google.colab import files\n",
        "\n",
        "uploaded = files.upload()\n",
        "\n",
        "for fn in uploaded.keys():\n",
        "  print('User uploaded file \"{name}\" with length {length} bytes'.format(\n",
        "      name=fn, length=len(uploaded[fn])))"
      ],
      "execution_count": 2,
      "outputs": [
        {
          "output_type": "display_data",
          "data": {
            "text/html": [
              "\n",
              "     <input type=\"file\" id=\"files-b730e938-b875-43df-99fe-10c60fb595e4\" name=\"files[]\" multiple disabled />\n",
              "     <output id=\"result-b730e938-b875-43df-99fe-10c60fb595e4\">\n",
              "      Upload widget is only available when the cell has been executed in the\n",
              "      current browser session. Please rerun this cell to enable.\n",
              "      </output>\n",
              "      <script src=\"/nbextensions/google.colab/files.js\"></script> "
            ],
            "text/plain": [
              "<IPython.core.display.HTML object>"
            ]
          },
          "metadata": {
            "tags": []
          }
        },
        {
          "output_type": "stream",
          "text": [
            "Saving ram_price.csv to ram_price.csv\n",
            "User uploaded file \"ram_price.csv\" with length 5822 bytes\n"
          ],
          "name": "stdout"
        }
      ]
    },
    {
      "metadata": {
        "colab_type": "code",
        "id": "x6_RCzSJH9dF",
        "outputId": "41b80786-cdad-4932-92a2-641f43da4d37",
        "colab": {
          "base_uri": "https://localhost:8080/",
          "height": 425
        }
      },
      "cell_type": "code",
      "source": [
        "ram_prices = pd.read_csv(\"ram_price.csv\")\n",
        "\n",
        "plt.figure(figsize=(9,6))\n",
        "plt.yticks(fontname = \"Arial\") # 한글 폰트가 지수에 음수를 표시하지 못하므로 ytick의 폰트를 바꾸어 줍니다.\n",
        "plt.semilogy(ram_prices.date, ram_prices.price)\n",
        "plt.xlabel(\"Year\")\n",
        "plt.ylabel(\"Price ($/Mbyte)\")"
      ],
      "execution_count": 3,
      "outputs": [
        {
          "output_type": "execute_result",
          "data": {
            "text/plain": [
              "Text(0,0.5,'Price ($/Mbyte)')"
            ]
          },
          "metadata": {
            "tags": []
          },
          "execution_count": 3
        },
        {
          "output_type": "stream",
          "text": [
            "/usr/local/lib/python3.6/dist-packages/matplotlib/font_manager.py:1320: UserWarning: findfont: Font family ['Arial'] not found. Falling back to DejaVu Sans\n",
            "  (prop.get_family(), self.defaultFamily[fontext]))\n"
          ],
          "name": "stderr"
        },
        {
          "output_type": "display_data",
          "data": {
            "image/png": "[encoded data removed]",
            "text/plain": [
              "<matplotlib.figure.Figure at 0x7fe0a7a3b160>"
            ]
          },
          "metadata": {
            "tags": []
          }
        }
      ]
    },
    {
      "metadata": {
        "colab_type": "code",
        "id": "SpNt1SE5H9dH",
        "outputId": "d5b0ee81-e046-4fee-fe1c-8805f3a20f58",
        "colab": {
          "base_uri": "https://localhost:8080/",
          "height": 215
        }
      },
      "cell_type": "code",
      "source": [
        "ram_prices.head(),ram_prices.tail()"
      ],
      "execution_count": 4,
      "outputs": [
        {
          "output_type": "execute_result",
          "data": {
            "text/plain": [
              "(   Unnamed: 0    date        price\n",
              " 0           0  1957.0  411041792.0\n",
              " 1           1  1959.0   67947725.0\n",
              " 2           2  1960.0    5242880.0\n",
              " 3           3  1965.0    2642412.0\n",
              " 4           4  1970.0     734003.0,      Unnamed: 0     date   price\n",
              " 328         328  2015.58  0.0045\n",
              " 329         329  2015.67  0.0043\n",
              " 330         330  2015.75  0.0042\n",
              " 331         331  2015.83  0.0038\n",
              " 332         332  2015.92  0.0037)"
            ]
          },
          "metadata": {
            "tags": []
          },
          "execution_count": 4
        }
      ]
    },
    {
      "metadata": {
        "colab_type": "text",
        "id": "rwmFG-n2H9dI"
      },
      "cell_type": "markdown",
      "source": [
        "* y축(가격)은 로그 스케일로 로그 스케일로 그리면 약간의 굴곡을 제외하고는 선형적으로 나타나서 예측이 쉬워진다.\n",
        "* 2000년 전까지의 데이터로 2000년 후의 데이터를 예측해보자. \n",
        "* 선형회귀(LinearRegression)를 수행한다. \n",
        "* 모델을 훈련시키고 예측을 수행한 후 로그 스케일로 되돌리기 위해 지수 함수를 사용한다."
      ]
    },
    {
      "metadata": {
        "colab_type": "code",
        "id": "Z7-ZMZX3H9dI",
        "colab": {}
      },
      "cell_type": "code",
      "source": [
        "# 머심러닝 방법 선택과 훈련/테스트 데이터 구성\n",
        "# LinearRegression\n",
        "from sklearn.linear_model import LinearRegression\n",
        "# 2000년 이전을 훈련 데이터로, 2000년 이후를 테스트 데이터로 만듭니다\n",
        "data_train = ram_prices[ram_prices.date < 2000]\n",
        "data_test = ram_prices[ram_prices.date >= 2000]"
      ],
      "execution_count": 0,
      "outputs": []
    },
    {
      "metadata": {
        "colab_type": "code",
        "id": "2jguHBmEb3vX",
        "outputId": "103910e5-32e1-49d4-f31a-be8d1efd57b0",
        "colab": {
          "base_uri": "https://localhost:8080/",
          "height": 35
        }
      },
      "cell_type": "code",
      "source": [
        "data_train.shape,data_test.shape"
      ],
      "execution_count": 6,
      "outputs": [
        {
          "output_type": "execute_result",
          "data": {
            "text/plain": [
              "((202, 3), (131, 3))"
            ]
          },
          "metadata": {
            "tags": []
          },
          "execution_count": 6
        }
      ]
    },
    {
      "metadata": {
        "colab_type": "code",
        "id": "KV2qdfZuH9dJ",
        "colab": {}
      },
      "cell_type": "code",
      "source": [
        "# 데이터 전처리\n",
        "# 가격 예측을 위해 날짜 특성만을 이용합니다\n",
        "X_train = data_train.date[:, np.newaxis] # 열벡터로 변환\n",
        "# 데이터와 타깃 사이의 관계를 간단하게 만들기 위해 로그 스케일로 바꿉니다\n",
        "y_train = np.log(data_train.price)"
      ],
      "execution_count": 0,
      "outputs": []
    },
    {
      "metadata": {
        "colab_type": "code",
        "id": "kbrBw1nob3vh",
        "outputId": "e67339e3-1d85-476e-af04-46a876926633",
        "colab": {
          "base_uri": "https://localhost:8080/",
          "height": 35
        }
      },
      "cell_type": "code",
      "source": [
        "X_train.shape,y_train.shape"
      ],
      "execution_count": 8,
      "outputs": [
        {
          "output_type": "execute_result",
          "data": {
            "text/plain": [
              "((202, 1), (202,))"
            ]
          },
          "metadata": {
            "tags": []
          },
          "execution_count": 8
        }
      ]
    },
    {
      "metadata": {
        "colab_type": "code",
        "id": "t40NeievH9dK",
        "colab": {}
      },
      "cell_type": "code",
      "source": [
        "# 선형 회기 모델 만들기\n",
        "linear_reg = LinearRegression().fit(X_train, y_train)"
      ],
      "execution_count": 0,
      "outputs": []
    },
    {
      "metadata": {
        "colab_type": "text",
        "id": "JCap6GRoH9dN"
      },
      "cell_type": "markdown",
      "source": [
        "### 도전하기 \n",
        "\n",
        "> RAM 가격 변동에 대한 선형 회기 모델의 정확도를 구하시오."
      ]
    },
    {
      "metadata": {
        "colab_type": "code",
        "id": "2C4xFyJIH9dN",
        "outputId": "4fc777fa-4cd6-4dd2-f0b3-0d38e6cf2a8f",
        "colab": {
          "base_uri": "https://localhost:8080/",
          "height": 35
        }
      },
      "cell_type": "code",
      "source": [
        "# RAM 가격 변동에 대한 선형 회기 모델의 정확도\n",
        "X_test = data_test.date[:, np.newaxis]  # test input\n",
        "y_test = np.log(data_test.price)  # test output, 로그 스케일\n",
        "\n",
        "print(\"테스트 세트의 정확도: {:.2f}\".format(linear_reg.score(X_test, y_test)))"
      ],
      "execution_count": 10,
      "outputs": [
        {
          "output_type": "stream",
          "text": [
            "테스트 세트의 정확도: 0.83\n"
          ],
          "name": "stdout"
        }
      ]
    },
    {
      "metadata": {
        "colab_type": "text",
        "id": "yD33olHSH9dP"
      },
      "cell_type": "markdown",
      "source": [
        "* 선형 모델은 직선으로 데이터를 근사하여 결과를 예측한다 \n",
        "* 모델이 가진 데이터 범위 밖에서도 외삽(extreapolation)을 이용해서 예측한다. "
      ]
    },
    {
      "metadata": {
        "colab_type": "text",
        "id": "CfixdLUvH9dP"
      },
      "cell_type": "markdown",
      "source": [
        "### 3. 수능 점수 예측 (다변수 선형회기, Multivariate Linear regression)\n",
        "\n",
        "> [data-01-test-score.csv](https://github.com/Redwoods/Py/blob/master/py-basic/tips/data-01-test-score.csv)"
      ]
    },
    {
      "metadata": {
        "colab_type": "text",
        "id": "rhs4VwBRH9dQ"
      },
      "cell_type": "markdown",
      "source": [
        "수험생 25명의 수능 세 개 영역의 점수를 이용해서 수능 점수를 예측하는 다변수 선형회기 모델을 만든다."
      ]
    },
    {
      "metadata": {
        "colab_type": "code",
        "id": "FAFshfuQH9dQ",
        "outputId": "4523b73c-fa4c-40c8-a56c-64e18e1768e1",
        "colab": {
          "base_uri": "https://localhost:8080/",
          "height": 467
        }
      },
      "cell_type": "code",
      "source": [
        "# data\n",
        "data = np.loadtxt('./data-01-test-score.csv', delimiter=',', dtype=np.float32)\n",
        "data"
      ],
      "execution_count": 11,
      "outputs": [
        {
          "output_type": "execute_result",
          "data": {
            "text/plain": [
              "array([[ 73.,  80.,  75., 152.],\n",
              "       [ 93.,  88.,  93., 185.],\n",
              "       [ 89.,  91.,  90., 180.],\n",
              "       [ 96.,  98., 100., 196.],\n",
              "       [ 73.,  66.,  70., 142.],\n",
              "       [ 53.,  46.,  55., 101.],\n",
              "       [ 69.,  74.,  77., 149.],\n",
              "       [ 47.,  56.,  60., 115.],\n",
              "       [ 87.,  79.,  90., 175.],\n",
              "       [ 79.,  70.,  88., 164.],\n",
              "       [ 69.,  70.,  73., 141.],\n",
              "       [ 70.,  65.,  74., 141.],\n",
              "       [ 93.,  95.,  91., 184.],\n",
              "       [ 79.,  80.,  73., 152.],\n",
              "       [ 70.,  73.,  78., 148.],\n",
              "       [ 93.,  89.,  96., 192.],\n",
              "       [ 78.,  75.,  68., 147.],\n",
              "       [ 81.,  90.,  93., 183.],\n",
              "       [ 88.,  92.,  86., 177.],\n",
              "       [ 78.,  83.,  77., 159.],\n",
              "       [ 82.,  86.,  90., 177.],\n",
              "       [ 86.,  82.,  89., 175.],\n",
              "       [ 78.,  83.,  85., 175.],\n",
              "       [ 76.,  83.,  71., 149.],\n",
              "       [ 96.,  93.,  95., 192.]], dtype=float32)"
            ]
          },
          "metadata": {
            "tags": []
          },
          "execution_count": 11
        }
      ]
    },
    {
      "metadata": {
        "colab_type": "code",
        "id": "Djmguwe9Ove-",
        "outputId": "f459ff8a-f371-4bec-83b2-cc56ccb4c70b",
        "colab": {
          "base_uri": "https://localhost:8080/",
          "height": 35
        }
      },
      "cell_type": "code",
      "source": [
        "data.shape"
      ],
      "execution_count": 12,
      "outputs": [
        {
          "output_type": "execute_result",
          "data": {
            "text/plain": [
              "(25, 4)"
            ]
          },
          "metadata": {
            "tags": []
          },
          "execution_count": 12
        }
      ]
    },
    {
      "metadata": {
        "colab_type": "text",
        "id": "GAl1Yid1H9dS"
      },
      "cell_type": "markdown",
      "source": [
        "#### [1] 25명 전체 데이터를 훈련 데이터로 지정한다."
      ]
    },
    {
      "metadata": {
        "colab_type": "code",
        "id": "GquBBZB9H9dT",
        "colab": {}
      },
      "cell_type": "code",
      "source": [
        "# LinearRegression\n",
        "from sklearn.linear_model import LinearRegression\n",
        "\n",
        "# 25명 전체 데이터를 훈련 데이터로 지정한다.\n",
        "data_X = data[:, 0:-1]\n",
        "data_y = data[:,[-1]]"
      ],
      "execution_count": 0,
      "outputs": []
    },
    {
      "metadata": {
        "colab_type": "code",
        "id": "ASsWVzKyH9dU",
        "outputId": "b0bd758c-7d3b-427b-9e13-35e41bb434c4",
        "colab": {
          "base_uri": "https://localhost:8080/",
          "height": 35
        }
      },
      "cell_type": "code",
      "source": [
        "data_X.shape, data_y.shape"
      ],
      "execution_count": 14,
      "outputs": [
        {
          "output_type": "execute_result",
          "data": {
            "text/plain": [
              "((25, 3), (25, 1))"
            ]
          },
          "metadata": {
            "tags": []
          },
          "execution_count": 14
        }
      ]
    },
    {
      "metadata": {
        "colab_type": "code",
        "id": "jLr9y1AOH9dX",
        "outputId": "aa2b3700-a341-42ad-fdeb-eb85903141ad",
        "colab": {
          "base_uri": "https://localhost:8080/",
          "height": 899
        }
      },
      "cell_type": "code",
      "source": [
        "data_X,data_y  # 영역별 점수와 수능점수"
      ],
      "execution_count": 15,
      "outputs": [
        {
          "output_type": "execute_result",
          "data": {
            "text/plain": [
              "(array([[ 73.,  80.,  75.],\n",
              "        [ 93.,  88.,  93.],\n",
              "        [ 89.,  91.,  90.],\n",
              "        [ 96.,  98., 100.],\n",
              "        [ 73.,  66.,  70.],\n",
              "        [ 53.,  46.,  55.],\n",
              "        [ 69.,  74.,  77.],\n",
              "        [ 47.,  56.,  60.],\n",
              "        [ 87.,  79.,  90.],\n",
              "        [ 79.,  70.,  88.],\n",
              "        [ 69.,  70.,  73.],\n",
              "        [ 70.,  65.,  74.],\n",
              "        [ 93.,  95.,  91.],\n",
              "        [ 79.,  80.,  73.],\n",
              "        [ 70.,  73.,  78.],\n",
              "        [ 93.,  89.,  96.],\n",
              "        [ 78.,  75.,  68.],\n",
              "        [ 81.,  90.,  93.],\n",
              "        [ 88.,  92.,  86.],\n",
              "        [ 78.,  83.,  77.],\n",
              "        [ 82.,  86.,  90.],\n",
              "        [ 86.,  82.,  89.],\n",
              "        [ 78.,  83.,  85.],\n",
              "        [ 76.,  83.,  71.],\n",
              "        [ 96.,  93.,  95.]], dtype=float32), array([[152.],\n",
              "        [185.],\n",
              "        [180.],\n",
              "        [196.],\n",
              "        [142.],\n",
              "        [101.],\n",
              "        [149.],\n",
              "        [115.],\n",
              "        [175.],\n",
              "        [164.],\n",
              "        [141.],\n",
              "        [141.],\n",
              "        [184.],\n",
              "        [152.],\n",
              "        [148.],\n",
              "        [192.],\n",
              "        [147.],\n",
              "        [183.],\n",
              "        [177.],\n",
              "        [159.],\n",
              "        [177.],\n",
              "        [175.],\n",
              "        [175.],\n",
              "        [149.],\n",
              "        [192.]], dtype=float32))"
            ]
          },
          "metadata": {
            "tags": []
          },
          "execution_count": 15
        }
      ]
    },
    {
      "metadata": {
        "colab_type": "code",
        "id": "ynHGNcPcH9da",
        "colab": {}
      },
      "cell_type": "code",
      "source": [
        "# 수능 점수 예측을 위한 트레인 데이터 만들기\n",
        "X_train = data_X\n",
        "y_train = data_y\n",
        "# 선형 회기 모델 만들기\n",
        "lr_model = LinearRegression().fit(X_train, y_train)"
      ],
      "execution_count": 0,
      "outputs": []
    },
    {
      "metadata": {
        "colab_type": "code",
        "id": "26xsVkmyH9dd",
        "outputId": "94ddb805-1ceb-4fb7-8209-e6178a4a73f9",
        "colab": {
          "base_uri": "https://localhost:8080/",
          "height": 35
        }
      },
      "cell_type": "code",
      "source": [
        "lr_model"
      ],
      "execution_count": 17,
      "outputs": [
        {
          "output_type": "execute_result",
          "data": {
            "text/plain": [
              "LinearRegression(copy_X=True, fit_intercept=True, n_jobs=1, normalize=False)"
            ]
          },
          "metadata": {
            "tags": []
          },
          "execution_count": 17
        }
      ]
    },
    {
      "metadata": {
        "colab_type": "code",
        "id": "eZX6CvzIH9dg",
        "outputId": "c22e570e-1193-4965-96d9-0c4e2aff9164",
        "colab": {
          "base_uri": "https://localhost:8080/",
          "height": 53
        }
      },
      "cell_type": "code",
      "source": [
        "# model : coef_, intercept_\n",
        "lr_model.coef_,lr_model.intercept_"
      ],
      "execution_count": 18,
      "outputs": [
        {
          "output_type": "execute_result",
          "data": {
            "text/plain": [
              "(array([[0.35593864, 0.54251873, 1.1674442 ]], dtype=float32),\n",
              " array([-4.336151], dtype=float32))"
            ]
          },
          "metadata": {
            "tags": []
          },
          "execution_count": 18
        }
      ]
    },
    {
      "metadata": {
        "colab_type": "code",
        "id": "4LaRwyzBb3ws",
        "outputId": "666c414a-746c-4007-b181-7ca64050ca71",
        "colab": {
          "base_uri": "https://localhost:8080/",
          "height": 35
        }
      },
      "cell_type": "code",
      "source": [
        "lr_model.coef_.shape,lr_model.intercept_.shape"
      ],
      "execution_count": 19,
      "outputs": [
        {
          "output_type": "execute_result",
          "data": {
            "text/plain": [
              "((1, 3), (1,))"
            ]
          },
          "metadata": {
            "tags": []
          },
          "execution_count": 19
        }
      ]
    },
    {
      "metadata": {
        "colab_type": "code",
        "id": "CFhJbBgBH9dh",
        "outputId": "3e7cf9ac-588c-4798-81ab-457159f3695e",
        "colab": {
          "base_uri": "https://localhost:8080/",
          "height": 35
        }
      },
      "cell_type": "code",
      "source": [
        "# 새로운 3개 영역 점수로 수능 점수 예측 비교\n",
        "test = np.array([100, 98, 81])\n",
        "test.shape"
      ],
      "execution_count": 20,
      "outputs": [
        {
          "output_type": "execute_result",
          "data": {
            "text/plain": [
              "(3,)"
            ]
          },
          "metadata": {
            "tags": []
          },
          "execution_count": 20
        }
      ]
    },
    {
      "metadata": {
        "colab_type": "code",
        "id": "JMr3g7lDH9dj",
        "outputId": "c321e402-c257-4e9c-8a52-814e0e092b25",
        "colab": {
          "base_uri": "https://localhost:8080/",
          "height": 35
        }
      },
      "cell_type": "code",
      "source": [
        "lr_model.predict(test.reshape(1,-1))"
      ],
      "execution_count": 21,
      "outputs": [
        {
          "output_type": "execute_result",
          "data": {
            "text/plain": [
              "array([[178.98753178]])"
            ]
          },
          "metadata": {
            "tags": []
          },
          "execution_count": 21
        }
      ]
    },
    {
      "metadata": {
        "colab_type": "code",
        "id": "poZRzsG8H9dl",
        "outputId": "ac2e8558-8408-40ab-eb02-b3b0c003fb3d",
        "colab": {
          "base_uri": "https://localhost:8080/",
          "height": 35
        }
      },
      "cell_type": "code",
      "source": [
        "# 수능 점수에 대한 선형 회기 모델의 정확도\n",
        "print(\"트레인 세트의 정확도: {:.2f}\".format(lr_model.score(X_train, y_train)))"
      ],
      "execution_count": 22,
      "outputs": [
        {
          "output_type": "stream",
          "text": [
            "트레인 세트의 정확도: 0.99\n"
          ],
          "name": "stdout"
        }
      ]
    },
    {
      "metadata": {
        "colab_type": "text",
        "id": "SHSKUvQNH9dm"
      },
      "cell_type": "markdown",
      "source": [
        "> overfitting!!  --- 과대접합"
      ]
    },
    {
      "metadata": {
        "colab_type": "text",
        "id": "KF0JtyAMH9dm"
      },
      "cell_type": "markdown",
      "source": [
        "***"
      ]
    },
    {
      "metadata": {
        "colab_type": "text",
        "id": "jpsinXMnH9dn"
      },
      "cell_type": "markdown",
      "source": [
        "## [wk11] Homework\n",
        "\n",
        "> 25명 중 20명의 데이터를 훈련 데이터, 나머지 5명을 데스트 데이터로 지정한다.\n",
        "\n",
        "> 모델의 정확도를 계산한다.\n",
        "\n",
        "##### ================== 마감: 2018.11.18(일). 24:00"
      ]
    },
    {
      "metadata": {
        "colab_type": "text",
        "id": "BDbIeNMTH9dn"
      },
      "cell_type": "markdown",
      "source": [
        "> [1] 데이터 구성"
      ]
    },
    {
      "metadata": {
        "colab_type": "code",
        "id": "O11sn8nkH9dn",
        "colab": {}
      },
      "cell_type": "code",
      "source": [
        "# 데이터 구성\n",
        "# LinearRegression\n",
        "# from sklearn.linear_model import LinearRegression\n",
        "# 25명 중 20명의 데이터를 훈련 데이터, 나머지 5명을 데스트 데이터로 지정한다.\n",
        "X_train = data[0:-5, 0:-1]\n",
        "y_train = data[0:-5,[-1]]\n",
        "X_test = data[-5:, 0:-1]\n",
        "y_test = data[-5:,[-1]]"
      ],
      "execution_count": 0,
      "outputs": []
    },
    {
      "metadata": {
        "id": "zmf805iLODOw",
        "colab_type": "code",
        "colab": {}
      },
      "cell_type": "code",
      "source": [
        "# x_train = data[:20, 0:3]   # 트레이닝 데이터로 20개 저장(과목3개)\n",
        "# x_test = data[20:,0:3]     # 테스트 데이터로 5개 저장(과목3개)\n",
        "\n",
        "# y_train = data[:20,[-1]]   # 트레이닝 데이터로 20개 저장(수능점수)\n",
        "# y_test = data[20:,[-1]]    # 테스트 데이터로 5개 저장(수능점수)"
      ],
      "execution_count": 0,
      "outputs": []
    },
    {
      "metadata": {
        "colab_type": "code",
        "id": "XAKmssGsH9do",
        "outputId": "88ab791e-8d98-4ce1-cee5-1b75e7d2aaba",
        "colab": {
          "base_uri": "https://localhost:8080/",
          "height": 35
        }
      },
      "cell_type": "code",
      "source": [
        "X_train.shape, y_train.shape, X_test.shape, y_test.shape, "
      ],
      "execution_count": 24,
      "outputs": [
        {
          "output_type": "execute_result",
          "data": {
            "text/plain": [
              "((20, 3), (20, 1), (5, 3), (5, 1))"
            ]
          },
          "metadata": {
            "tags": []
          },
          "execution_count": 24
        }
      ]
    },
    {
      "metadata": {
        "colab_type": "text",
        "id": "uZFNr8fEH9dp"
      },
      "cell_type": "markdown",
      "source": [
        "> [2] 선형 회기 모델"
      ]
    },
    {
      "metadata": {
        "colab_type": "code",
        "id": "NlXM-ev2H9dp",
        "outputId": "93d49dc8-36d2-4fe5-bb18-accc0b9668e3",
        "colab": {
          "base_uri": "https://localhost:8080/",
          "height": 35
        }
      },
      "cell_type": "code",
      "source": [
        "# 20명의 트레인 데이터 이용\n",
        "# 선형 회기 모델 만들기\n",
        "lr_model_20 = LinearRegression().fit(X_train, y_train)\n",
        "\n",
        "lr_model_20\n"
      ],
      "execution_count": 25,
      "outputs": [
        {
          "output_type": "execute_result",
          "data": {
            "text/plain": [
              "LinearRegression(copy_X=True, fit_intercept=True, n_jobs=1, normalize=False)"
            ]
          },
          "metadata": {
            "tags": []
          },
          "execution_count": 25
        }
      ]
    },
    {
      "metadata": {
        "colab_type": "code",
        "id": "E_Y7uvLzQKLy",
        "outputId": "ab8d065b-c5e4-485d-e636-f6360463ff55",
        "colab": {
          "base_uri": "https://localhost:8080/",
          "height": 53
        }
      },
      "cell_type": "code",
      "source": [
        "# 선형회기 결과 -> 3개 특성(영역별 점수) 계수 및 y-절편(bias)\n",
        "lr_model_20.coef_,lr_model_20.intercept_"
      ],
      "execution_count": 26,
      "outputs": [
        {
          "output_type": "execute_result",
          "data": {
            "text/plain": [
              "(array([[0.4355938, 0.5249363, 1.0842971]], dtype=float32),\n",
              " array([-2.8510742], dtype=float32))"
            ]
          },
          "metadata": {
            "tags": []
          },
          "execution_count": 26
        }
      ]
    },
    {
      "metadata": {
        "colab_type": "text",
        "id": "xPJA8srXH9dp"
      },
      "cell_type": "markdown",
      "source": [
        "> [3] 예측과 정확도 평가"
      ]
    },
    {
      "metadata": {
        "colab_type": "code",
        "id": "PYJxalx7H9dq",
        "outputId": "8762bb76-8785-46b0-c102-ba00cf36715e",
        "colab": {
          "base_uri": "https://localhost:8080/",
          "height": 622
        }
      },
      "cell_type": "code",
      "source": [
        "# 테스트 데이터에 대한 예측과 정확도 평가\n",
        "# 가상적인 3개 영역 점수로 수능 점수 예측\n",
        "test = np.array([100, 98, 81]) # 가상 점수 입력\n",
        "\n",
        "lr_model_20.predict(test)  # Error, why?\n"
      ],
      "execution_count": 27,
      "outputs": [
        {
          "output_type": "error",
          "ename": "ValueError",
          "evalue": "ignored",
          "traceback": [
            "\u001b[0;31m---------------------------------------------------------------------------\u001b[0m",
            "\u001b[0;31mValueError\u001b[0m                                Traceback (most recent call last)",
            "\u001b[0;32m<ipython-input-27-77b85bfb836b>\u001b[0m in \u001b[0;36m<module>\u001b[0;34m()\u001b[0m\n\u001b[1;32m      1\u001b[0m \u001b[0mtest\u001b[0m \u001b[0;34m=\u001b[0m \u001b[0mnp\u001b[0m\u001b[0;34m.\u001b[0m\u001b[0marray\u001b[0m\u001b[0;34m(\u001b[0m\u001b[0;34m[\u001b[0m\u001b[0;36m100\u001b[0m\u001b[0;34m,\u001b[0m \u001b[0;36m98\u001b[0m\u001b[0;34m,\u001b[0m \u001b[0;36m81\u001b[0m\u001b[0;34m]\u001b[0m\u001b[0;34m)\u001b[0m \u001b[0;31m# 가상 점수 입력\u001b[0m\u001b[0;34m\u001b[0m\u001b[0m\n\u001b[1;32m      2\u001b[0m \u001b[0;34m\u001b[0m\u001b[0m\n\u001b[0;32m----> 3\u001b[0;31m \u001b[0mlr_model_20\u001b[0m\u001b[0;34m.\u001b[0m\u001b[0mpredict\u001b[0m\u001b[0;34m(\u001b[0m\u001b[0mtest\u001b[0m\u001b[0;34m)\u001b[0m  \u001b[0;31m# Error, why?\u001b[0m\u001b[0;34m\u001b[0m\u001b[0m\n\u001b[0m",
            "\u001b[0;32m/usr/local/lib/python3.6/dist-packages/sklearn/linear_model/base.py\u001b[0m in \u001b[0;36mpredict\u001b[0;34m(self, X)\u001b[0m\n\u001b[1;32m    254\u001b[0m             \u001b[0mReturns\u001b[0m \u001b[0mpredicted\u001b[0m \u001b[0mvalues\u001b[0m\u001b[0;34m.\u001b[0m\u001b[0;34m\u001b[0m\u001b[0m\n\u001b[1;32m    255\u001b[0m         \"\"\"\n\u001b[0;32m--> 256\u001b[0;31m         \u001b[0;32mreturn\u001b[0m \u001b[0mself\u001b[0m\u001b[0;34m.\u001b[0m\u001b[0m_decision_function\u001b[0m\u001b[0;34m(\u001b[0m\u001b[0mX\u001b[0m\u001b[0;34m)\u001b[0m\u001b[0;34m\u001b[0m\u001b[0m\n\u001b[0m\u001b[1;32m    257\u001b[0m \u001b[0;34m\u001b[0m\u001b[0m\n\u001b[1;32m    258\u001b[0m     \u001b[0m_preprocess_data\u001b[0m \u001b[0;34m=\u001b[0m \u001b[0mstaticmethod\u001b[0m\u001b[0;34m(\u001b[0m\u001b[0m_preprocess_data\u001b[0m\u001b[0;34m)\u001b[0m\u001b[0;34m\u001b[0m\u001b[0m\n",
            "\u001b[0;32m/usr/local/lib/python3.6/dist-packages/sklearn/linear_model/base.py\u001b[0m in \u001b[0;36m_decision_function\u001b[0;34m(self, X)\u001b[0m\n\u001b[1;32m    237\u001b[0m         \u001b[0mcheck_is_fitted\u001b[0m\u001b[0;34m(\u001b[0m\u001b[0mself\u001b[0m\u001b[0;34m,\u001b[0m \u001b[0;34m\"coef_\"\u001b[0m\u001b[0;34m)\u001b[0m\u001b[0;34m\u001b[0m\u001b[0m\n\u001b[1;32m    238\u001b[0m \u001b[0;34m\u001b[0m\u001b[0m\n\u001b[0;32m--> 239\u001b[0;31m         \u001b[0mX\u001b[0m \u001b[0;34m=\u001b[0m \u001b[0mcheck_array\u001b[0m\u001b[0;34m(\u001b[0m\u001b[0mX\u001b[0m\u001b[0;34m,\u001b[0m \u001b[0maccept_sparse\u001b[0m\u001b[0;34m=\u001b[0m\u001b[0;34m[\u001b[0m\u001b[0;34m'csr'\u001b[0m\u001b[0;34m,\u001b[0m \u001b[0;34m'csc'\u001b[0m\u001b[0;34m,\u001b[0m \u001b[0;34m'coo'\u001b[0m\u001b[0;34m]\u001b[0m\u001b[0;34m)\u001b[0m\u001b[0;34m\u001b[0m\u001b[0m\n\u001b[0m\u001b[1;32m    240\u001b[0m         return safe_sparse_dot(X, self.coef_.T,\n\u001b[1;32m    241\u001b[0m                                dense_output=True) + self.intercept_\n",
            "\u001b[0;32m/usr/local/lib/python3.6/dist-packages/sklearn/utils/validation.py\u001b[0m in \u001b[0;36mcheck_array\u001b[0;34m(array, accept_sparse, dtype, order, copy, force_all_finite, ensure_2d, allow_nd, ensure_min_samples, ensure_min_features, warn_on_dtype, estimator)\u001b[0m\n\u001b[1;32m    439\u001b[0m                     \u001b[0;34m\"Reshape your data either using array.reshape(-1, 1) if \"\u001b[0m\u001b[0;34m\u001b[0m\u001b[0m\n\u001b[1;32m    440\u001b[0m                     \u001b[0;34m\"your data has a single feature or array.reshape(1, -1) \"\u001b[0m\u001b[0;34m\u001b[0m\u001b[0m\n\u001b[0;32m--> 441\u001b[0;31m                     \"if it contains a single sample.\".format(array))\n\u001b[0m\u001b[1;32m    442\u001b[0m             \u001b[0marray\u001b[0m \u001b[0;34m=\u001b[0m \u001b[0mnp\u001b[0m\u001b[0;34m.\u001b[0m\u001b[0matleast_2d\u001b[0m\u001b[0;34m(\u001b[0m\u001b[0marray\u001b[0m\u001b[0;34m)\u001b[0m\u001b[0;34m\u001b[0m\u001b[0m\n\u001b[1;32m    443\u001b[0m             \u001b[0;31m# To ensure that array flags are maintained\u001b[0m\u001b[0;34m\u001b[0m\u001b[0;34m\u001b[0m\u001b[0m\n",
            "\u001b[0;31mValueError\u001b[0m: Expected 2D array, got 1D array instead:\narray=[100  98  81].\nReshape your data either using array.reshape(-1, 1) if your data has a single feature or array.reshape(1, -1) if it contains a single sample."
          ]
        }
      ]
    },
    {
      "metadata": {
        "colab_type": "code",
        "id": "M-01nqY9RGKj",
        "outputId": "fe6d21e6-af69-4c5c-a32a-f549a6d808cc",
        "colab": {
          "base_uri": "https://localhost:8080/",
          "height": 35
        }
      },
      "cell_type": "code",
      "source": [
        "lr_model_20.predict(test.reshape(1,-1))"
      ],
      "execution_count": 28,
      "outputs": [
        {
          "output_type": "execute_result",
          "data": {
            "text/plain": [
              "array([[179.98012829]])"
            ]
          },
          "metadata": {
            "tags": []
          },
          "execution_count": 28
        }
      ]
    },
    {
      "metadata": {
        "colab_type": "text",
        "id": "KuDm7wBbRgVQ"
      },
      "cell_type": "markdown",
      "source": [
        "#### lr_model vs. lr_model_20\n",
        "\n",
        "> 전체 데이터를 이용한 모델과 80%의 트레인 데이터를 이용한 모델의 비교"
      ]
    },
    {
      "metadata": {
        "colab_type": "code",
        "id": "y6IDuYceRsYG",
        "outputId": "6889619c-54aa-4445-e2d1-a03e888fa263",
        "colab": {
          "base_uri": "https://localhost:8080/",
          "height": 35
        }
      },
      "cell_type": "code",
      "source": [
        "# lr_model과 lr_model_20의 예측 비교\n",
        "lr_model.predict(test.reshape(1,-1)),lr_model_20.predict(test.reshape(1,-1))"
      ],
      "execution_count": 29,
      "outputs": [
        {
          "output_type": "execute_result",
          "data": {
            "text/plain": [
              "(array([[178.98753178]]), array([[179.98012829]]))"
            ]
          },
          "metadata": {
            "tags": []
          },
          "execution_count": 29
        }
      ]
    },
    {
      "metadata": {
        "colab_type": "text",
        "id": "xbZobZjvSCEt"
      },
      "cell_type": "markdown",
      "source": [
        "#### 테스트 데이터에 대한 예측 성능 평가"
      ]
    },
    {
      "metadata": {
        "colab_type": "code",
        "id": "gnJwv-SwSA0p",
        "outputId": "c48683e7-c6d0-49ef-855d-1dc6755bcfed",
        "colab": {
          "base_uri": "https://localhost:8080/",
          "height": 179
        }
      },
      "cell_type": "code",
      "source": [
        "lr_model_20.predict(X_test), y_test"
      ],
      "execution_count": 30,
      "outputs": [
        {
          "output_type": "execute_result",
          "data": {
            "text/plain": [
              "(array([[175.59888],\n",
              "        [174.15721],\n",
              "        [166.86021],\n",
              "        [150.80887],\n",
              "        [190.79323]], dtype=float32), array([[177.],\n",
              "        [175.],\n",
              "        [175.],\n",
              "        [149.],\n",
              "        [192.]], dtype=float32))"
            ]
          },
          "metadata": {
            "tags": []
          },
          "execution_count": 30
        }
      ]
    },
    {
      "metadata": {
        "colab_type": "code",
        "id": "Kz6YqZrdSVeO",
        "outputId": "55341001-e354-4b55-be3a-2a8477043c53",
        "colab": {
          "base_uri": "https://localhost:8080/",
          "height": 53
        }
      },
      "cell_type": "code",
      "source": [
        "# 수능 점수에 대한 선형 회기 모델의 정확도\n",
        "\n",
        "print(\"트레인 세트의 정확도: {:.2f}\".format(lr_model_20.score(X_train, y_train)))\n",
        "print(\"테스트 세트의 정확도: {:.2f}\".format(lr_model_20.score(X_test, y_test)))\n"
      ],
      "execution_count": 31,
      "outputs": [
        {
          "output_type": "stream",
          "text": [
            "트레인 세트의 정확도: 0.99\n",
            "테스트 세트의 정확도: 0.92\n"
          ],
          "name": "stdout"
        }
      ]
    },
    {
      "metadata": {
        "id": "V0QhFDnJODPI",
        "colab_type": "text"
      },
      "cell_type": "markdown",
      "source": [
        "***"
      ]
    },
    {
      "metadata": {
        "colab_type": "text",
        "id": "ciTzquUZc4jx"
      },
      "cell_type": "markdown",
      "source": [
        "## pandas의 데이터프레임을 이용한 수능 성적 회기 분석"
      ]
    },
    {
      "metadata": {
        "colab_type": "text",
        "id": "4boVk_xeTq7r"
      },
      "cell_type": "markdown",
      "source": [
        "### 수능 데이터로 데이터프레임 구성 - pandas"
      ]
    },
    {
      "metadata": {
        "colab_type": "code",
        "id": "Y3eZ4ziYT0XO",
        "outputId": "a416aaba-523f-437b-e1ae-8030a2248bb7",
        "colab": {
          "base_uri": "https://localhost:8080/",
          "height": 824
        }
      },
      "cell_type": "code",
      "source": [
        "# Make dataframe\n",
        "import pandas as pd\n",
        "\n",
        "df = pd.DataFrame(data, columns=['S1','S2','S3','Final'])\n",
        "df"
      ],
      "execution_count": 32,
      "outputs": [
        {
          "output_type": "execute_result",
          "data": {
            "text/html": [
              "<div>\n",
              "<style scoped>\n",
              "    .dataframe tbody tr th:only-of-type {\n",
              "        vertical-align: middle;\n",
              "    }\n",
              "\n",
              "    .dataframe tbody tr th {\n",
              "        vertical-align: top;\n",
              "    }\n",
              "\n",
              "    .dataframe thead th {\n",
              "        text-align: right;\n",
              "    }\n",
              "</style>\n",
              "<table border=\"1\" class=\"dataframe\">\n",
              "  <thead>\n",
              "    <tr style=\"text-align: right;\">\n",
              "      <th></th>\n",
              "      <th>S1</th>\n",
              "      <th>S2</th>\n",
              "      <th>S3</th>\n",
              "      <th>Final</th>\n",
              "    </tr>\n",
              "  </thead>\n",
              "  <tbody>\n",
              "    <tr>\n",
              "      <th>0</th>\n",
              "      <td>73.0</td>\n",
              "      <td>80.0</td>\n",
              "      <td>75.0</td>\n",
              "      <td>152.0</td>\n",
              "    </tr>\n",
              "    <tr>\n",
              "      <th>1</th>\n",
              "      <td>93.0</td>\n",
              "      <td>88.0</td>\n",
              "      <td>93.0</td>\n",
              "      <td>185.0</td>\n",
              "    </tr>\n",
              "    <tr>\n",
              "      <th>2</th>\n",
              "      <td>89.0</td>\n",
              "      <td>91.0</td>\n",
              "      <td>90.0</td>\n",
              "      <td>180.0</td>\n",
              "    </tr>\n",
              "    <tr>\n",
              "      <th>3</th>\n",
              "      <td>96.0</td>\n",
              "      <td>98.0</td>\n",
              "      <td>100.0</td>\n",
              "      <td>196.0</td>\n",
              "    </tr>\n",
              "    <tr>\n",
              "      <th>4</th>\n",
              "      <td>73.0</td>\n",
              "      <td>66.0</td>\n",
              "      <td>70.0</td>\n",
              "      <td>142.0</td>\n",
              "    </tr>\n",
              "    <tr>\n",
              "      <th>5</th>\n",
              "      <td>53.0</td>\n",
              "      <td>46.0</td>\n",
              "      <td>55.0</td>\n",
              "      <td>101.0</td>\n",
              "    </tr>\n",
              "    <tr>\n",
              "      <th>6</th>\n",
              "      <td>69.0</td>\n",
              "      <td>74.0</td>\n",
              "      <td>77.0</td>\n",
              "      <td>149.0</td>\n",
              "    </tr>\n",
              "    <tr>\n",
              "      <th>7</th>\n",
              "      <td>47.0</td>\n",
              "      <td>56.0</td>\n",
              "      <td>60.0</td>\n",
              "      <td>115.0</td>\n",
              "    </tr>\n",
              "    <tr>\n",
              "      <th>8</th>\n",
              "      <td>87.0</td>\n",
              "      <td>79.0</td>\n",
              "      <td>90.0</td>\n",
              "      <td>175.0</td>\n",
              "    </tr>\n",
              "    <tr>\n",
              "      <th>9</th>\n",
              "      <td>79.0</td>\n",
              "      <td>70.0</td>\n",
              "      <td>88.0</td>\n",
              "      <td>164.0</td>\n",
              "    </tr>\n",
              "    <tr>\n",
              "      <th>10</th>\n",
              "      <td>69.0</td>\n",
              "      <td>70.0</td>\n",
              "      <td>73.0</td>\n",
              "      <td>141.0</td>\n",
              "    </tr>\n",
              "    <tr>\n",
              "      <th>11</th>\n",
              "      <td>70.0</td>\n",
              "      <td>65.0</td>\n",
              "      <td>74.0</td>\n",
              "      <td>141.0</td>\n",
              "    </tr>\n",
              "    <tr>\n",
              "      <th>12</th>\n",
              "      <td>93.0</td>\n",
              "      <td>95.0</td>\n",
              "      <td>91.0</td>\n",
              "      <td>184.0</td>\n",
              "    </tr>\n",
              "    <tr>\n",
              "      <th>13</th>\n",
              "      <td>79.0</td>\n",
              "      <td>80.0</td>\n",
              "      <td>73.0</td>\n",
              "      <td>152.0</td>\n",
              "    </tr>\n",
              "    <tr>\n",
              "      <th>14</th>\n",
              "      <td>70.0</td>\n",
              "      <td>73.0</td>\n",
              "      <td>78.0</td>\n",
              "      <td>148.0</td>\n",
              "    </tr>\n",
              "    <tr>\n",
              "      <th>15</th>\n",
              "      <td>93.0</td>\n",
              "      <td>89.0</td>\n",
              "      <td>96.0</td>\n",
              "      <td>192.0</td>\n",
              "    </tr>\n",
              "    <tr>\n",
              "      <th>16</th>\n",
              "      <td>78.0</td>\n",
              "      <td>75.0</td>\n",
              "      <td>68.0</td>\n",
              "      <td>147.0</td>\n",
              "    </tr>\n",
              "    <tr>\n",
              "      <th>17</th>\n",
              "      <td>81.0</td>\n",
              "      <td>90.0</td>\n",
              "      <td>93.0</td>\n",
              "      <td>183.0</td>\n",
              "    </tr>\n",
              "    <tr>\n",
              "      <th>18</th>\n",
              "      <td>88.0</td>\n",
              "      <td>92.0</td>\n",
              "      <td>86.0</td>\n",
              "      <td>177.0</td>\n",
              "    </tr>\n",
              "    <tr>\n",
              "      <th>19</th>\n",
              "      <td>78.0</td>\n",
              "      <td>83.0</td>\n",
              "      <td>77.0</td>\n",
              "      <td>159.0</td>\n",
              "    </tr>\n",
              "    <tr>\n",
              "      <th>20</th>\n",
              "      <td>82.0</td>\n",
              "      <td>86.0</td>\n",
              "      <td>90.0</td>\n",
              "      <td>177.0</td>\n",
              "    </tr>\n",
              "    <tr>\n",
              "      <th>21</th>\n",
              "      <td>86.0</td>\n",
              "      <td>82.0</td>\n",
              "      <td>89.0</td>\n",
              "      <td>175.0</td>\n",
              "    </tr>\n",
              "    <tr>\n",
              "      <th>22</th>\n",
              "      <td>78.0</td>\n",
              "      <td>83.0</td>\n",
              "      <td>85.0</td>\n",
              "      <td>175.0</td>\n",
              "    </tr>\n",
              "    <tr>\n",
              "      <th>23</th>\n",
              "      <td>76.0</td>\n",
              "      <td>83.0</td>\n",
              "      <td>71.0</td>\n",
              "      <td>149.0</td>\n",
              "    </tr>\n",
              "    <tr>\n",
              "      <th>24</th>\n",
              "      <td>96.0</td>\n",
              "      <td>93.0</td>\n",
              "      <td>95.0</td>\n",
              "      <td>192.0</td>\n",
              "    </tr>\n",
              "  </tbody>\n",
              "</table>\n",
              "</div>"
            ],
            "text/plain": [
              "      S1    S2     S3  Final\n",
              "0   73.0  80.0   75.0  152.0\n",
              "1   93.0  88.0   93.0  185.0\n",
              "2   89.0  91.0   90.0  180.0\n",
              "3   96.0  98.0  100.0  196.0\n",
              "4   73.0  66.0   70.0  142.0\n",
              "5   53.0  46.0   55.0  101.0\n",
              "6   69.0  74.0   77.0  149.0\n",
              "7   47.0  56.0   60.0  115.0\n",
              "8   87.0  79.0   90.0  175.0\n",
              "9   79.0  70.0   88.0  164.0\n",
              "10  69.0  70.0   73.0  141.0\n",
              "11  70.0  65.0   74.0  141.0\n",
              "12  93.0  95.0   91.0  184.0\n",
              "13  79.0  80.0   73.0  152.0\n",
              "14  70.0  73.0   78.0  148.0\n",
              "15  93.0  89.0   96.0  192.0\n",
              "16  78.0  75.0   68.0  147.0\n",
              "17  81.0  90.0   93.0  183.0\n",
              "18  88.0  92.0   86.0  177.0\n",
              "19  78.0  83.0   77.0  159.0\n",
              "20  82.0  86.0   90.0  177.0\n",
              "21  86.0  82.0   89.0  175.0\n",
              "22  78.0  83.0   85.0  175.0\n",
              "23  76.0  83.0   71.0  149.0\n",
              "24  96.0  93.0   95.0  192.0"
            ]
          },
          "metadata": {
            "tags": []
          },
          "execution_count": 32
        }
      ]
    },
    {
      "metadata": {
        "colab_type": "code",
        "id": "Xl6uVB7QUx2Z",
        "outputId": "0a6961d8-08a0-4e2f-b8b6-2480da17ba46",
        "colab": {
          "base_uri": "https://localhost:8080/",
          "height": 35
        }
      },
      "cell_type": "code",
      "source": [
        "# 데이터프레임 길이 정보\n",
        "df.shape,len(df),df.size"
      ],
      "execution_count": 33,
      "outputs": [
        {
          "output_type": "execute_result",
          "data": {
            "text/plain": [
              "((25, 4), 25, 100)"
            ]
          },
          "metadata": {
            "tags": []
          },
          "execution_count": 33
        }
      ]
    },
    {
      "metadata": {
        "colab_type": "code",
        "id": "hBnNVfkVb3yF",
        "colab": {}
      },
      "cell_type": "code",
      "source": [
        "### 데이터프레임을 이용한 그래프 그리기"
      ],
      "execution_count": 0,
      "outputs": []
    },
    {
      "metadata": {
        "colab_type": "code",
        "id": "u8BFHBGxU7Zo",
        "outputId": "801ebaab-9394-4b5e-cf3c-821cabc65160",
        "colab": {
          "base_uri": "https://localhost:8080/",
          "height": 354
        }
      },
      "cell_type": "code",
      "source": [
        "# Bar graph of S1\n",
        "df['S1'].plot.bar(figsize=(10,5), title=\"S1\")"
      ],
      "execution_count": 34,
      "outputs": [
        {
          "output_type": "execute_result",
          "data": {
            "text/plain": [
              "<matplotlib.axes._subplots.AxesSubplot at 0x7fe0a1fb08d0>"
            ]
          },
          "metadata": {
            "tags": []
          },
          "execution_count": 34
        },
        {
          "output_type": "display_data",
          "data": {
            "image/png": "[encoded data removed]",
            "text/plain": [
              "<matplotlib.figure.Figure at 0x7fe0a1fb0e48>"
            ]
          },
          "metadata": {
            "tags": []
          }
        }
      ]
    },
    {
      "metadata": {
        "colab_type": "code",
        "id": "Pf1huIseXIZs",
        "outputId": "b82164e4-1445-4598-d1ba-8a98a1bee6be",
        "colab": {
          "base_uri": "https://localhost:8080/",
          "height": 35
        }
      },
      "cell_type": "code",
      "source": [
        "df.columns"
      ],
      "execution_count": 35,
      "outputs": [
        {
          "output_type": "execute_result",
          "data": {
            "text/plain": [
              "Index(['S1', 'S2', 'S3', 'Final'], dtype='object')"
            ]
          },
          "metadata": {
            "tags": []
          },
          "execution_count": 35
        }
      ]
    },
    {
      "metadata": {
        "colab_type": "code",
        "id": "13923lrBW6xD",
        "outputId": "ac08fb56-116b-4006-d66b-6af86999b735",
        "colab": {
          "base_uri": "https://localhost:8080/",
          "height": 441
        }
      },
      "cell_type": "code",
      "source": [
        "# Multiple plots\n",
        "series_labels = df.columns # ['S1', 'S2', 'S3', 'Final']\n",
        "\n",
        "# 2x2의 그래프를 그리는 준비\n",
        "fig, axs = plt.subplots(2, 2, figsize=(10, 6)) #, sharex=True, sharey=False)\n",
        "\n",
        "# 세 개 영역 점수와 수능 점수 그래프\n",
        "for axi, idx in zip(axs.ravel(), list(range(4))):\n",
        "    \n",
        "    # 예측결과 그래프와 테스트 데이터 점을 그림\n",
        "    df[series_labels[idx]].plot.bar(ax=axi)\n",
        "    axi.set(ylabel='', xlabel='student-id',\n",
        "           title=series_labels[idx])\n",
        "\n",
        "plt.tight_layout()"
      ],
      "execution_count": 36,
      "outputs": [
        {
          "output_type": "display_data",
          "data": {
            "image/png": "[encoded data removed]",
            "text/plain": [
              "<matplotlib.figure.Figure at 0x7fe0a1f53cf8>"
            ]
          },
          "metadata": {
            "tags": []
          }
        }
      ]
    },
    {
      "metadata": {
        "colab_type": "code",
        "id": "2FvsdX6mZ-qx",
        "outputId": "9997d985-242a-4085-ed9c-762b5dee4606",
        "colab": {
          "base_uri": "https://localhost:8080/",
          "height": 441
        }
      },
      "cell_type": "code",
      "source": [
        "# sharex, sharey 설정\n",
        "fig, axs = plt.subplots(2, 2, figsize=(10, 6), sharex=False, sharey=False)  # True or False\n",
        "\n",
        "# 세 개 영역 점수와 수능 점수 그래프\n",
        "for axi, idx in zip(axs.ravel(), list(range(4))):\n",
        "    \n",
        "    # 예측결과 그래프와 테스트 데이터 점을 그림\n",
        "    df[series_labels[idx]].plot.bar(ax=axi)\n",
        "    axi.set(ylabel='', xlabel='student-id',\n",
        "           title=series_labels[idx])\n",
        "\n",
        "plt.tight_layout()"
      ],
      "execution_count": 42,
      "outputs": [
        {
          "output_type": "display_data",
          "data": {
            "image/png": "[encoded data removed]",
            "text/plain": [
              "<matplotlib.figure.Figure at 0x7fe0a1599860>"
            ]
          },
          "metadata": {
            "tags": []
          }
        }
      ]
    },
    {
      "metadata": {
        "colab_type": "code",
        "id": "JI_VIMCysjby",
        "outputId": "c4532454-e1e8-4af6-e986-77348953b525",
        "colab": {
          "base_uri": "https://localhost:8080/",
          "height": 301
        }
      },
      "cell_type": "code",
      "source": [
        "# 영역평균 그래프\n",
        "df[['S1', 'S2', 'S3']].mean().plot.bar(title='Mean of three sections')"
      ],
      "execution_count": 43,
      "outputs": [
        {
          "output_type": "execute_result",
          "data": {
            "text/plain": [
              "<matplotlib.axes._subplots.AxesSubplot at 0x7fe0a1562588>"
            ]
          },
          "metadata": {
            "tags": []
          },
          "execution_count": 43
        },
        {
          "output_type": "display_data",
          "data": {
            "image/png": "[encoded data removed]",
            "text/plain": [
              "<matplotlib.figure.Figure at 0x7fe0a14a4e80>"
            ]
          },
          "metadata": {
            "tags": []
          }
        }
      ]
    },
    {
      "metadata": {
        "colab_type": "text",
        "id": "fzwJSRmjdN8-"
      },
      "cell_type": "markdown",
      "source": [
        "#### 다변수 선형회기 분석"
      ]
    },
    {
      "metadata": {
        "colab_type": "code",
        "id": "kJPZ1A6bdn7J",
        "outputId": "c1913d99-73e4-4bb7-c074-eecdff6814e5",
        "colab": {
          "base_uri": "https://localhost:8080/",
          "height": 935
        }
      },
      "cell_type": "code",
      "source": [
        "# 입력 데이터 배열과 출력 벡터 분리\n",
        "df[['S1','S2','S3']],df['Final']"
      ],
      "execution_count": 44,
      "outputs": [
        {
          "output_type": "execute_result",
          "data": {
            "text/plain": [
              "(      S1    S2     S3\n",
              " 0   73.0  80.0   75.0\n",
              " 1   93.0  88.0   93.0\n",
              " 2   89.0  91.0   90.0\n",
              " 3   96.0  98.0  100.0\n",
              " 4   73.0  66.0   70.0\n",
              " 5   53.0  46.0   55.0\n",
              " 6   69.0  74.0   77.0\n",
              " 7   47.0  56.0   60.0\n",
              " 8   87.0  79.0   90.0\n",
              " 9   79.0  70.0   88.0\n",
              " 10  69.0  70.0   73.0\n",
              " 11  70.0  65.0   74.0\n",
              " 12  93.0  95.0   91.0\n",
              " 13  79.0  80.0   73.0\n",
              " 14  70.0  73.0   78.0\n",
              " 15  93.0  89.0   96.0\n",
              " 16  78.0  75.0   68.0\n",
              " 17  81.0  90.0   93.0\n",
              " 18  88.0  92.0   86.0\n",
              " 19  78.0  83.0   77.0\n",
              " 20  82.0  86.0   90.0\n",
              " 21  86.0  82.0   89.0\n",
              " 22  78.0  83.0   85.0\n",
              " 23  76.0  83.0   71.0\n",
              " 24  96.0  93.0   95.0, 0     152.0\n",
              " 1     185.0\n",
              " 2     180.0\n",
              " 3     196.0\n",
              " 4     142.0\n",
              " 5     101.0\n",
              " 6     149.0\n",
              " 7     115.0\n",
              " 8     175.0\n",
              " 9     164.0\n",
              " 10    141.0\n",
              " 11    141.0\n",
              " 12    184.0\n",
              " 13    152.0\n",
              " 14    148.0\n",
              " 15    192.0\n",
              " 16    147.0\n",
              " 17    183.0\n",
              " 18    177.0\n",
              " 19    159.0\n",
              " 20    177.0\n",
              " 21    175.0\n",
              " 22    175.0\n",
              " 23    149.0\n",
              " 24    192.0\n",
              " Name: Final, dtype: float32)"
            ]
          },
          "metadata": {
            "tags": []
          },
          "execution_count": 44
        }
      ]
    },
    {
      "metadata": {
        "colab_type": "code",
        "id": "I_TzZ0-BdMjJ",
        "colab": {}
      },
      "cell_type": "code",
      "source": [
        "# 트레인/테스트 데이터 분리\n",
        "from sklearn.model_selection import train_test_split\n",
        "\n",
        "X_train, X_test, y_train, y_test = train_test_split(df[['S1','S2','S3']], df['Final'], \n",
        "                                                    test_size=0.2, random_state=0)"
      ],
      "execution_count": 0,
      "outputs": []
    },
    {
      "metadata": {
        "colab_type": "code",
        "id": "LjcuMdmeehpZ",
        "outputId": "dbfb699e-7326-4929-f0e5-118e06fd87f0",
        "colab": {
          "base_uri": "https://localhost:8080/",
          "height": 35
        }
      },
      "cell_type": "code",
      "source": [
        "X_train.shape, X_test.shape, y_train.shape, y_test.shape"
      ],
      "execution_count": 46,
      "outputs": [
        {
          "output_type": "execute_result",
          "data": {
            "text/plain": [
              "((20, 3), (5, 3), (20,), (5,))"
            ]
          },
          "metadata": {
            "tags": []
          },
          "execution_count": 46
        }
      ]
    },
    {
      "metadata": {
        "colab_type": "code",
        "id": "ORciIQsvg5Nj",
        "outputId": "d45cb6e4-8aaf-46f4-ba0e-aabd1783ea37",
        "colab": {
          "base_uri": "https://localhost:8080/",
          "height": 35
        }
      },
      "cell_type": "code",
      "source": [
        "# 선형회기 모델\n",
        "# LinearRegression\n",
        "from sklearn.linear_model import LinearRegression\n",
        "\n",
        "# 선형 회기 모델 만들기: 테스트 데이터 이용\n",
        "model = LinearRegression().fit(X_train, y_train)\n",
        "model"
      ],
      "execution_count": 47,
      "outputs": [
        {
          "output_type": "execute_result",
          "data": {
            "text/plain": [
              "LinearRegression(copy_X=True, fit_intercept=True, n_jobs=1, normalize=False)"
            ]
          },
          "metadata": {
            "tags": []
          },
          "execution_count": 47
        }
      ]
    },
    {
      "metadata": {
        "colab_type": "code",
        "id": "wTiYvw6ohNTa",
        "outputId": "f751abc7-a2d1-42ee-ebd2-69c8d0b47333",
        "colab": {
          "base_uri": "https://localhost:8080/",
          "height": 35
        }
      },
      "cell_type": "code",
      "source": [
        "# 선형회기 모델 확인\n",
        "# 선형회기 결과 -> 3개 특성(영역별 점수) 계수 및 y-절편(bias)\n",
        "\n",
        "model.coef_,model.intercept_\n"
      ],
      "execution_count": 48,
      "outputs": [
        {
          "output_type": "execute_result",
          "data": {
            "text/plain": [
              "(array([0.32701108, 0.47623563, 1.2409751 ], dtype=float32), -2.69104)"
            ]
          },
          "metadata": {
            "tags": []
          },
          "execution_count": 48
        }
      ]
    },
    {
      "metadata": {
        "colab_type": "code",
        "id": "vCEtv4GJiPmk",
        "outputId": "16dea5e6-6ce1-4b05-8c27-3170590ad333",
        "colab": {
          "base_uri": "https://localhost:8080/",
          "height": 143
        }
      },
      "cell_type": "code",
      "source": [
        "model.predict(X_test),y_test"
      ],
      "execution_count": 49,
      "outputs": [
        {
          "output_type": "execute_result",
          "data": {
            "text/plain": [
              "(array([104.80102, 181.43814, 157.89847, 142.9198 , 142.98721],\n",
              "       dtype=float32), 5     101.0\n",
              " 2     180.0\n",
              " 19    159.0\n",
              " 16    147.0\n",
              " 11    141.0\n",
              " Name: Final, dtype: float32)"
            ]
          },
          "metadata": {
            "tags": []
          },
          "execution_count": 49
        }
      ]
    },
    {
      "metadata": {
        "colab_type": "code",
        "id": "LUN-yeCkhsOA",
        "outputId": "484ba86a-3c38-4244-96a7-301896f9747d",
        "colab": {
          "base_uri": "https://localhost:8080/",
          "height": 53
        }
      },
      "cell_type": "code",
      "source": [
        "# 수능 점수에 대한 선형 회기 모델의 정확도\n",
        "\n",
        "print(\"트레인 세트의 정확도: {:.2f}\".format(model.score(X_train, y_train)))\n",
        "print(\"테스트 세트의 정확도: {:.2f}\".format(model.score(X_test, y_test)))\n"
      ],
      "execution_count": 50,
      "outputs": [
        {
          "output_type": "stream",
          "text": [
            "트레인 세트의 정확도: 0.99\n",
            "테스트 세트의 정확도: 0.99\n"
          ],
          "name": "stdout"
        }
      ]
    },
    {
      "metadata": {
        "id": "nAc0U8DuODPo",
        "colab_type": "text"
      },
      "cell_type": "markdown",
      "source": [
        "***"
      ]
    },
    {
      "metadata": {
        "id": "wpJm_kzQODPp",
        "colab_type": "text"
      },
      "cell_type": "markdown",
      "source": [
        "### 분류와 회기 모델의 정확도는 어떻게 평가?"
      ]
    },
    {
      "metadata": {
        "id": "NEJLSaxuODPp",
        "colab_type": "text"
      },
      "cell_type": "markdown",
      "source": [
        "1. 분류: \n",
        "    > 테스트 데이터의 원래 label(y)과 예측 label($\\hat y$)과의 비교\n",
        "    \n",
        "2. 회기:\n",
        "    > $R^{2}$\n",
        "    \n",
        "    > $R^{2} = 1 - \\frac {\\sum_{i}(y_{i} - \\hat y_{i})^2} {\\sum_{i}(y_{i} - \\bar y)^2}$"
      ]
    },
    {
      "metadata": {
        "colab_type": "text",
        "id": "WLjYsq74H9dr"
      },
      "cell_type": "markdown",
      "source": [
        "## [wk13] Study again!\n",
        "\n",
        "> 다음 Youtube 강의 3편를 들으면서 linear regression을 공부하시오.\n",
        "\n",
        "> 특히, 세번째 동영상 linear regression III를 이번 연습과 연관해서 공부하시오.\n"
      ]
    },
    {
      "metadata": {
        "colab_type": "code",
        "id": "udxQCBV2H9dr",
        "colab": {}
      },
      "cell_type": "code",
      "source": [
        "from IPython.lib.display import YouTubeVideo\n",
        "YouTubeVideo('uk7UfDgVKrU')  # linear regression I"
      ],
      "execution_count": 0,
      "outputs": []
    },
    {
      "metadata": {
        "colab_type": "code",
        "id": "yR6dHVsEH9ds",
        "colab": {}
      },
      "cell_type": "code",
      "source": [
        "YouTubeVideo('q0pQ_AdphDo')  # linear regression II"
      ],
      "execution_count": 0,
      "outputs": []
    },
    {
      "metadata": {
        "colab_type": "code",
        "id": "uFszrcTtH9dv",
        "colab": {}
      },
      "cell_type": "code",
      "source": [
        "YouTubeVideo('Aw-E-jw3WaE')  # linear regression III"
      ],
      "execution_count": 0,
      "outputs": []
    },
    {
      "metadata": {
        "colab_type": "text",
        "id": "y03BHvzMH9dx"
      },
      "cell_type": "markdown",
      "source": [
        "***"
      ]
    }
  ]
}