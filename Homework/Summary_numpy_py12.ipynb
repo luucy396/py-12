{
  "nbformat": 4,
  "nbformat_minor": 0,
  "metadata": {
    "colab": {
      "name": "Summary_numpy_py12.ipynb",
      "version": "0.3.2",
      "provenance": [],
      "collapsed_sections": [],
      "include_colab_link": true
    },
    "kernelspec": {
      "name": "python3",
      "display_name": "Python 3"
    }
  },
  "cells": [
    {
      "cell_type": "markdown",
      "metadata": {
        "id": "view-in-github",
        "colab_type": "text"
      },
      "source": [
        "<a href=\"https://colab.research.google.com/github/sangeunlim/py-12/blob/master/Homework/Summary_numpy_py12.ipynb\" target=\"_parent\"><img src=\"https://colab.research.google.com/assets/colab-badge.svg\" alt=\"Open In Colab\"/></a>"
      ]
    },
    {
      "metadata": {
        "id": "KQXu2k6QYCxe",
        "colab_type": "toc"
      },
      "cell_type": "markdown",
      "source": [
        ">>[라이브러리-overview](#updateTitle=true&folderId=1I-mKsst3XRGgBrZkZRWgFh2Gm98rzEj0&scrollTo=W-zP7IysFaau)\n",
        "\n",
        ">>>[파이썬 코드에서 라이브러리 사용법](#updateTitle=true&folderId=1I-mKsst3XRGgBrZkZRWgFh2Gm98rzEj0&scrollTo=07PHYQGNFtRW)\n",
        "\n",
        ">>[라이브러리-numpy](#updateTitle=true&folderId=1I-mKsst3XRGgBrZkZRWgFh2Gm98rzEj0&scrollTo=72WBxcW0HCyt)\n",
        "\n",
        ">>>[numpy](#updateTitle=true&folderId=1I-mKsst3XRGgBrZkZRWgFh2Gm98rzEj0&scrollTo=S-HFCnJqHGrd)\n",
        "\n",
        ">>>[numpy vs list](#updateTitle=true&folderId=1I-mKsst3XRGgBrZkZRWgFh2Gm98rzEj0&scrollTo=LsOiN438LzNs)\n",
        "\n",
        ">>[라이브러리-numpy vector(1차원 배열)](#updateTitle=true&folderId=1I-mKsst3XRGgBrZkZRWgFh2Gm98rzEj0&scrollTo=RezQclzPIhRq)\n",
        "\n",
        ">>>[벡터(vector)생성](#updateTitle=true&folderId=1I-mKsst3XRGgBrZkZRWgFh2Gm98rzEj0&scrollTo=cFZCphkZInsc)\n",
        "\n",
        ">>>[벡터(vector)산술연산](#updateTitle=true&folderId=1I-mKsst3XRGgBrZkZRWgFh2Gm98rzEj0&scrollTo=hXnETshRMBOE)\n",
        "\n",
        ">>[라이브러리- numpy matrix(행렬)](#updateTitle=true&folderId=1I-mKsst3XRGgBrZkZRWgFh2Gm98rzEj0&scrollTo=zG12mvheLIFQ)\n",
        "\n",
        ">>>[행렬(matrix)생성](#updateTitle=true&folderId=1I-mKsst3XRGgBrZkZRWgFh2Gm98rzEj0&scrollTo=fZtfV2xuLMpB)\n",
        "\n",
        ">>>[형 변환(reshape)](#updateTitle=true&folderId=1I-mKsst3XRGgBrZkZRWgFh2Gm98rzEj0&scrollTo=LTrYsrxBMw0o)\n",
        "\n",
        ">>[라이브러리-numpy 행렬 곱(dot product)(1)](#updateTitle=true&folderId=1I-mKsst3XRGgBrZkZRWgFh2Gm98rzEj0&scrollTo=JMmN6jwgNjFI)\n",
        "\n",
        ">>>[행렬 곱(dot product)](#updateTitle=true&folderId=1I-mKsst3XRGgBrZkZRWgFh2Gm98rzEj0&scrollTo=iip47T-yNqmH)\n",
        "\n",
        ">>[라이브러리-numpy 행렬 곱(dot product)(2)](#updateTitle=true&folderId=1I-mKsst3XRGgBrZkZRWgFh2Gm98rzEj0&scrollTo=N2SXRf-xPQ0f)\n",
        "\n",
        ">>>[행렬 곱(dot product)](#updateTitle=true&folderId=1I-mKsst3XRGgBrZkZRWgFh2Gm98rzEj0&scrollTo=U6ReyZXPPZ4R)\n",
        "\n",
        ">>[라이브러리-numpy broadcast](#updateTitle=true&folderId=1I-mKsst3XRGgBrZkZRWgFh2Gm98rzEj0&scrollTo=tHcL3gb1Qdfc)\n",
        "\n",
        ">>[라이브러리-numpy 전치행렬(transpose)](#updateTitle=true&folderId=1I-mKsst3XRGgBrZkZRWgFh2Gm98rzEj0&scrollTo=O5SjyxayRcOi)\n",
        "\n",
        ">>>[전치행렬(transpose)](#updateTitle=true&folderId=1I-mKsst3XRGgBrZkZRWgFh2Gm98rzEj0&scrollTo=CUwufUUuRsAB)\n",
        "\n",
        ">>[라이브러리-numpy 행렬 indexing/slicing](#updateTitle=true&folderId=1I-mKsst3XRGgBrZkZRWgFh2Gm98rzEj0&scrollTo=PopFpNw-Ti9H)\n",
        "\n",
        ">>>[행렬 원소 접근(1)](#updateTitle=true&folderId=1I-mKsst3XRGgBrZkZRWgFh2Gm98rzEj0&scrollTo=onapnMKwTowo)\n",
        "\n",
        ">>[라이브러리-numpy 행렬 iterator](#updateTitle=true&folderId=1I-mKsst3XRGgBrZkZRWgFh2Gm98rzEj0&scrollTo=Y8eZ0E7LWJIX)\n",
        "\n",
        ">>>[행렬 원소 접근(2)](#updateTitle=true&folderId=1I-mKsst3XRGgBrZkZRWgFh2Gm98rzEj0&scrollTo=bEsChNPTWOqY)\n",
        "\n"
      ]
    },
    {
      "metadata": {
        "id": "W-zP7IysFaau",
        "colab_type": "text"
      },
      "cell_type": "markdown",
      "source": [
        "## 라이브러리 - overview\n",
        "### 라이브러리 설치 \n",
        " pip install <라이브러리 이름>"
      ]
    },
    {
      "metadata": {
        "id": "DoaBTxPJFH7N",
        "colab_type": "code",
        "colab": {}
      },
      "cell_type": "code",
      "source": [
        "import numpy\n",
        "\n",
        "A=numpy.array([1,2])\n",
        "\n",
        "print(\"A ==\",A, \", type ==\",type(A))"
      ],
      "execution_count": 0,
      "outputs": []
    },
    {
      "metadata": {
        "id": "EAtzwggLGBtn",
        "colab_type": "code",
        "colab": {}
      },
      "cell_type": "code",
      "source": [
        "import numpy as np\n",
        "\n",
        "A=np.array([1,2])\n",
        "\n",
        "print(\"A ==\",A, \", type ==\", type(A))"
      ],
      "execution_count": 0,
      "outputs": []
    },
    {
      "metadata": {
        "id": "4qkgqt5LGR3v",
        "colab_type": "code",
        "colab": {}
      },
      "cell_type": "code",
      "source": [
        "from numpy import exp\n",
        "\n",
        "result = exp(1)\n",
        "\n",
        "print(\"result ==\",result, \", type ==\",type(result))"
      ],
      "execution_count": 0,
      "outputs": []
    },
    {
      "metadata": {
        "id": "2K5iyM9UGjFK",
        "colab_type": "code",
        "colab": {}
      },
      "cell_type": "code",
      "source": [
        "from numpy import *\n",
        "\n",
        "result = exp(1) + log(1.7) + sqrt(2)\n",
        "\n",
        "print(\"result ==\",result, \", type ==\",type(result))"
      ],
      "execution_count": 0,
      "outputs": []
    },
    {
      "metadata": {
        "id": "72WBxcW0HCyt",
        "colab_type": "text"
      },
      "cell_type": "markdown",
      "source": [
        "## 라이브러리 - numpy\n",
        "\n",
        "### 머신러닝 코드 개발 경우 자주 사용되는 벡터, 행렬 등을 표현하고 연산할 때 반드시 필요\n",
        "\n",
        "\n",
        "\n",
        "*  숫자, 사람, 동물 등의 인식을 하기 위해서 \n",
        "이미지데이터를 행렬로 변환하는것이 중요\n",
        "\n",
        "*   행렬 연산을 위해서는 리스트를 사용할 수도 있지만 \n",
        "오류가능성이 높기 때문에,  numpy 사용이 필수"
      ]
    },
    {
      "metadata": {
        "id": "pMhZMRfaG2Dw",
        "colab_type": "code",
        "colab": {}
      },
      "cell_type": "code",
      "source": [
        "import numpy as np"
      ],
      "execution_count": 0,
      "outputs": []
    },
    {
      "metadata": {
        "id": "qQRlCEJ5IB5t",
        "colab_type": "code",
        "colab": {}
      },
      "cell_type": "code",
      "source": [
        "# 리스트로 행렬 표현\n",
        "\n",
        "A = [[1, 0], [0, 1]]\n",
        "B = [[1, 1], [1, 1]]\n",
        "\n",
        "A + B        # 행렬 연산이 아닌 리스트 연산"
      ],
      "execution_count": 0,
      "outputs": []
    },
    {
      "metadata": {
        "id": "aOV5cwJcINe1",
        "colab_type": "code",
        "colab": {}
      },
      "cell_type": "code",
      "source": [
        "# numpy matrix, 직관적임\n",
        "\n",
        "A = np.array([ [1, 0], [0, 1] ])\n",
        "B = np.array([ [1, 1], [1, 1] ])\n",
        "\n",
        "A + B     # 행렬 연산"
      ],
      "execution_count": 0,
      "outputs": []
    },
    {
      "metadata": {
        "id": "as58v-9CFXzp",
        "colab_type": "text"
      },
      "cell_type": "markdown",
      "source": [
        "## 라이브러리 - numpy vector(1차원 배열)\n",
        "\n",
        "### 연산을 위해서 vector, matrix 등의 형상, 차원을 확인하는 것이 필요\n",
        "=> 벡터는 np.array([⋯])를 사용하여 생성\n"
      ]
    },
    {
      "metadata": {
        "id": "NOGyrc0QIdOu",
        "colab_type": "code",
        "colab": {}
      },
      "cell_type": "code",
      "source": [
        "A=np.array([1,2,3])\n",
        "B=np.array([4,5,6])"
      ],
      "execution_count": 0,
      "outputs": []
    },
    {
      "metadata": {
        "id": "bITA9SqhKJvG",
        "colab_type": "code",
        "colab": {}
      },
      "cell_type": "code",
      "source": [
        "# vector A, B 출력\n",
        "\n",
        "print(\"A ==\", A, \", B ==\", B)"
      ],
      "execution_count": 0,
      "outputs": []
    },
    {
      "metadata": {
        "id": "p6wrSKSPKUVJ",
        "colab_type": "code",
        "colab": {}
      },
      "cell_type": "code",
      "source": [
        "# vector A, B 형상 출력 => shape\n",
        "\n",
        "print(\"A.shape ==\", A.shape, \", B.shape ==\", B.shape)"
      ],
      "execution_count": 0,
      "outputs": []
    },
    {
      "metadata": {
        "id": "jPD1-bNhKlTh",
        "colab_type": "code",
        "colab": {}
      },
      "cell_type": "code",
      "source": [
        "# vector A, B 차원 출력 => ndim\n",
        "\n",
        "print(\"A.ndim ==\", A.ndim, \", B.dim ==\", B.ndim)"
      ],
      "execution_count": 0,
      "outputs": []
    },
    {
      "metadata": {
        "id": "LOTUx18BMADT",
        "colab_type": "text"
      },
      "cell_type": "markdown",
      "source": [
        "###  벡터 산술연산\n",
        "\n",
        " =>  벡터의 각각의 원소에 대해서 행해짐\n",
        "\n"
      ]
    },
    {
      "metadata": {
        "id": "wGp3Ir48KyGD",
        "colab_type": "code",
        "colab": {}
      },
      "cell_type": "code",
      "source": [
        "#vector 산술 연산\n",
        "\n",
        "print(\"A + B ==\", A+B)\n",
        "print(\"A - B ==\", A-B)\n",
        "print(\"A * B ==\", A*B)\n",
        "print(\"A / B ==\", A/B)"
      ],
      "execution_count": 0,
      "outputs": []
    },
    {
      "metadata": {
        "id": "WNc4xpQEF7vy",
        "colab_type": "text"
      },
      "cell_type": "markdown",
      "source": [
        "## 라이브러리 - numpy matrix (행렬)\n",
        "=> np.array([ [⋯], [⋯], ⋯ ])를 사용하여 생성"
      ]
    },
    {
      "metadata": {
        "id": "1dVi9iCBLBzT",
        "colab_type": "code",
        "colab": {}
      },
      "cell_type": "code",
      "source": [
        "A = np.array([ [1, 2, 3], [4, 5, 6] ])\n",
        "B = np.array([ [-1, -2, -3], [-4, -5, -6] ])"
      ],
      "execution_count": 0,
      "outputs": []
    },
    {
      "metadata": {
        "id": "s3zJzLhJMSZM",
        "colab_type": "code",
        "colab": {}
      },
      "cell_type": "code",
      "source": [
        "# matrix A, B 형상 출력 => shape\n",
        "\n",
        "print(\"A.shape ==\", A.shape, \", B.shape ==\", B.shape)"
      ],
      "execution_count": 0,
      "outputs": []
    },
    {
      "metadata": {
        "id": "c4hVynPGMh98",
        "colab_type": "code",
        "colab": {}
      },
      "cell_type": "code",
      "source": [
        "# matrix A, B 차원 출력 => ndim\n",
        "\n",
        "print(\"A.ndim ==\", A.ndim, \"B.ndim ==\", B.ndim)"
      ],
      "execution_count": 0,
      "outputs": []
    },
    {
      "metadata": {
        "id": "QvTd1NKtGMep",
        "colab_type": "text"
      },
      "cell_type": "markdown",
      "source": [
        "### 형 변환 (reshape)\n",
        "=> 벡터를 행렬로 변경하거나 행렬을 다른 형상의 행렬로 변경하기 위해서는 reshape() 사용하여 행렬의 shape 을 변경"
      ]
    },
    {
      "metadata": {
        "id": "YkkQ3hNQMvSF",
        "colab_type": "code",
        "colab": {}
      },
      "cell_type": "code",
      "source": [
        "# vector 생성\n",
        "\n",
        "C = np.array([1, 2, 3])"
      ],
      "execution_count": 0,
      "outputs": []
    },
    {
      "metadata": {
        "id": "PV2dKyXcNHUn",
        "colab_type": "code",
        "colab": {}
      },
      "cell_type": "code",
      "source": [
        "# vector C 형상 출력 => shape\n",
        "\n",
        "print(\"C.shape ==\", C.shape)"
      ],
      "execution_count": 0,
      "outputs": []
    },
    {
      "metadata": {
        "id": "XittWyLJNQSe",
        "colab_type": "code",
        "colab": {}
      },
      "cell_type": "code",
      "source": [
        "# vector를 (1,3) 행렬로 형 변환\n",
        "\n",
        "C = C.reshape(1, 3)\n",
        "\n",
        "print(\"C.shape ==\", C.shape)"
      ],
      "execution_count": 0,
      "outputs": []
    },
    {
      "metadata": {
        "id": "VDy3wu1DGhMS",
        "colab_type": "text"
      },
      "cell_type": "markdown",
      "source": [
        "## 라이브러리 - numpy 행렬 곱(dot product) (1)\n",
        "### reshape 또는 전치행렬 등을 사용하여 형 변환을 한 후에 행렬 곱 실행해야 함\n",
        "\n",
        "=> A 행렬과 B 행렬의 행렬 곱은 np.dot(A,B)로 나타냄\n",
        "A행렬의 열벡터와 B 행렬의 행벡터가 같아야함."
      ]
    },
    {
      "metadata": {
        "id": "JBGDP2w4NdOa",
        "colab_type": "code",
        "colab": {}
      },
      "cell_type": "code",
      "source": [
        "A = np.array([ [1, 2, 3], [4, 5, 6] ])   # 2X3 행렬\n",
        "B = np.array([ [-1, -2], [-3, -4], [-5, -6] ])   #3X2 행렬"
      ],
      "execution_count": 0,
      "outputs": []
    },
    {
      "metadata": {
        "id": "AI3WDIZ0OgdE",
        "colab_type": "code",
        "colab": {}
      },
      "cell_type": "code",
      "source": [
        "# (2X3) dot product (3X2) == (2X2) 행렬\n",
        "\n",
        "C = np.dot(A, B)    # 행렬 곱 수행"
      ],
      "execution_count": 0,
      "outputs": []
    },
    {
      "metadata": {
        "id": "Tmg-MVVbOuNh",
        "colab_type": "code",
        "colab": {}
      },
      "cell_type": "code",
      "source": [
        "# matrix A, B 형상 출력 => shape\n",
        "\n",
        "print(\"A.shape ==\", A.shape, \", B.shape ==\", B.shape)\n",
        "print(\"C.shape ==\", C.shape)\n",
        "print(C)"
      ],
      "execution_count": 0,
      "outputs": []
    },
    {
      "metadata": {
        "id": "N2SXRf-xPQ0f",
        "colab_type": "text"
      },
      "cell_type": "markdown",
      "source": [
        "## 라이브러리 - numpy 행렬 곱(dot product) (2)\n",
        "=> 행렬곱 조건을 만족하는 다양한 크기의 행렬을 연속으로 만들고 행렬 곱을 연속으로 계산하면서 결과 값을 만들 수 있기 때문에 머신러닝과 이미지 프로세싱 분야에서 자주 사용됨"
      ]
    },
    {
      "metadata": {
        "id": "tHcL3gb1Qdfc",
        "colab_type": "text"
      },
      "cell_type": "markdown",
      "source": [
        "## 라이브러리 - numpy broadcast\n",
        "### numpy 에서는 크기가 다른 두 행렬 간에도 사칙연산을 할 수 있는데 이를 브로드캐스트라고 지칭 \n",
        "### => 차원이 작은 쪽이 큰 쪽의 행 단위로 반복적으로 크기를 맞춘 후에 계산"
      ]
    },
    {
      "metadata": {
        "id": "xwaEM2oPPDzR",
        "colab_type": "code",
        "colab": {}
      },
      "cell_type": "code",
      "source": [
        "A = np.array([ [1, 2], [3, 4] ])\n",
        "b = 5\n",
        "\n",
        "print(A+b)"
      ],
      "execution_count": 0,
      "outputs": []
    },
    {
      "metadata": {
        "id": "ijxaQq32RMa6",
        "colab_type": "code",
        "colab": {}
      },
      "cell_type": "code",
      "source": [
        "C = np.array([ [1, 2], [3, 4] ])\n",
        "D = np.array([4, 5])\n",
        "\n",
        "print(C+D)"
      ],
      "execution_count": 0,
      "outputs": []
    },
    {
      "metadata": {
        "id": "O5SjyxayRcOi",
        "colab_type": "text"
      },
      "cell_type": "markdown",
      "source": [
        "## 라이브러리 - numpy 전치행렬 (transpose)\n",
        "\n",
        "=> 원본 행렬의 열은 행으로, 행은 열로 바꾼것 \n",
        "원본 행렬을 A 라고하면 전치행렬은 A^T 로 나타냄"
      ]
    },
    {
      "metadata": {
        "id": "-KQ1_sE5RYib",
        "colab_type": "code",
        "colab": {}
      },
      "cell_type": "code",
      "source": [
        "A = np.array([ [1, 2], [3, 4], [5, 6] ])   # 3X2 행렬\n",
        "\n",
        "B = A.T    # A의 전치행렬, 2X3 행렬"
      ],
      "execution_count": 0,
      "outputs": []
    },
    {
      "metadata": {
        "id": "DfiZiG_FHVAJ",
        "colab_type": "code",
        "outputId": "ea5b8ba0-235d-495f-9964-a568c813d036",
        "colab": {
          "base_uri": "https://localhost:8080/",
          "height": 129
        }
      },
      "cell_type": "code",
      "source": [
        "print(\"A.shape ==\", A.shape, \", B.shape ==\", B.shape)\n",
        "print(A)\n",
        "print(B)"
      ],
      "execution_count": 0,
      "outputs": [
        {
          "output_type": "stream",
          "text": [
            "A.shape == (3, 2) , B.shape == (2, 3)\n",
            "[[1 2]\n",
            " [3 4]\n",
            " [5 6]]\n",
            "[[1 3 5]\n",
            " [2 4 6]]\n"
          ],
          "name": "stdout"
        }
      ]
    },
    {
      "metadata": {
        "id": "5jq-U-5MHbmU",
        "colab_type": "code",
        "colab": {}
      },
      "cell_type": "code",
      "source": [
        "# vector 전치행렬\n",
        "\n",
        "C = np.array([1, 2, 3, 4, 5])   #vector, matrix 아님\n",
        "D = C.T           # C는 벡터이므로 transpose 안됨"
      ],
      "execution_count": 0,
      "outputs": []
    },
    {
      "metadata": {
        "id": "6q1Hds7aHedZ",
        "colab_type": "code",
        "colab": {}
      },
      "cell_type": "code",
      "source": [
        "E = C.reshape(1, 5)    # 1X5 matrix\n",
        "F = E.T     # E의 전치행렬"
      ],
      "execution_count": 0,
      "outputs": []
    },
    {
      "metadata": {
        "id": "Su3sIULDHe-V",
        "colab_type": "code",
        "outputId": "66d7810e-b0ab-4082-8d4f-f205a9a3366a",
        "colab": {
          "base_uri": "https://localhost:8080/",
          "height": 148
        }
      },
      "cell_type": "code",
      "source": [
        "print(\"C.shape ==\", C.shape, \", D.shape ==\", D.shape)\n",
        "print(\"E.shape ==\", E.shape, \", F.shape ==\", F.shape)\n",
        "print(F)"
      ],
      "execution_count": 0,
      "outputs": [
        {
          "output_type": "stream",
          "text": [
            "C.shape == (5,) , D.shape == (5,)\n",
            "E.shape == (1, 5) , F.shape == (5, 1)\n",
            "[[1]\n",
            " [2]\n",
            " [3]\n",
            " [4]\n",
            " [5]]\n"
          ],
          "name": "stdout"
        }
      ]
    },
    {
      "metadata": {
        "id": "PopFpNw-Ti9H",
        "colab_type": "text"
      },
      "cell_type": "markdown",
      "source": [
        "## 라이브러리 - numpy 행렬 indexing / slicing\n",
        "\n",
        "### 행렬 원소 접근 (1)\n",
        "\n",
        "\n",
        "*   행렬 원소를 명시적으로 접근하기 위해서는 리스트처럼 인덱싱 / 슬리이싱 사용가능\n"
      ]
    },
    {
      "metadata": {
        "id": "aN_jPyrmTX0c",
        "colab_type": "code",
        "colab": {}
      },
      "cell_type": "code",
      "source": [
        "A = np.array([10, 20, 30, 40, 50, 60]).reshape(3, 2)\n",
        "\n",
        "print(\"A.shape ==\", A.shape)\n",
        "print(A)"
      ],
      "execution_count": 0,
      "outputs": []
    },
    {
      "metadata": {
        "id": "KWn-8K5NUDih",
        "colab_type": "code",
        "colab": {}
      },
      "cell_type": "code",
      "source": [
        "print(\"A[0, 0] ==\", A[0, 0], \", A[0][0] ==\", A[0][0])  # 1행 1열\n",
        "print(\"A[2, 1] ==\", A[2, 1], \", A[2][1] ==\", A[2][1])  # 3행 2열"
      ],
      "execution_count": 0,
      "outputs": []
    },
    {
      "metadata": {
        "id": "V0xTEwslUrpV",
        "colab_type": "code",
        "colab": {}
      },
      "cell_type": "code",
      "source": [
        "print(\"A[0:-1, 1:2] ==\", A[0:-1, 1:2])   # 인덱스 0인 1행부터, -1-1=-2인 2행까지의 모든 데이터\n",
        "                                         # 인덱스 1인 2열부터 2-1=1인 2열까지의 모든 데이터"
      ],
      "execution_count": 0,
      "outputs": []
    },
    {
      "metadata": {
        "id": "YZP0jraiU1Yn",
        "colab_type": "code",
        "colab": {}
      },
      "cell_type": "code",
      "source": [
        "print(\"A[ :, 0] ==\", A[:, 0])   # 모든 행 1열\n",
        "print(\"A[ :, :] ==\", A[:, :])   # 모든 행, 모든 열"
      ],
      "execution_count": 0,
      "outputs": []
    },
    {
      "metadata": {
        "id": "Y8eZ0E7LWJIX",
        "colab_type": "text"
      },
      "cell_type": "markdown",
      "source": [
        "## 라이브러리 - numpy 행렬 iterator\n",
        "### 행렬 원소 접근(2)\n",
        "=> 행렬 모든 원소를 access 하는 경우에는 iterator 사용가능\n",
        "\n",
        "\n",
        "=> C++, Java iterator 처럼 next() 메소드를 통해 데이터 값을 처음부터 끝까지 순차적으로 읽어들이는 방법을 제공"
      ]
    },
    {
      "metadata": {
        "id": "OOPu-EQrJK0N",
        "colab_type": "code",
        "colab": {}
      },
      "cell_type": "code",
      "source": [
        "import numpy as np\n",
        "\n",
        "A = np.array([ [10, 20, 30, 40], [50, 60, 70, 80] ])"
      ],
      "execution_count": 0,
      "outputs": []
    },
    {
      "metadata": {
        "id": "2P-qO7l9VA_3",
        "colab_type": "code",
        "colab": {}
      },
      "cell_type": "code",
      "source": [
        "print(A, \"\\n\")\n",
        "print(\"A.shape ==\", A.shape, \"\\n\")"
      ],
      "execution_count": 0,
      "outputs": []
    },
    {
      "metadata": {
        "id": "MTpyBS3xW-qX",
        "colab_type": "code",
        "colab": {}
      },
      "cell_type": "code",
      "source": [
        "# 행렬 A의 iterator 생성\n",
        "\n",
        "it = np.nditer(A, flags=['multi_index'], op_flags=['readwrite'])\n",
        "\n",
        "while not it.finished:\n",
        "  \n",
        "  idx = it.multi_index\n",
        "  \n",
        "  print(\"current value => \", A[idx])\n",
        "  \n",
        "  it.iternext()"
      ],
      "execution_count": 0,
      "outputs": []
    },
    {
      "metadata": {
        "id": "66GRzmq_Xkg9",
        "colab_type": "code",
        "colab": {}
      },
      "cell_type": "code",
      "source": [
        ""
      ],
      "execution_count": 0,
      "outputs": []
    }
  ]
}