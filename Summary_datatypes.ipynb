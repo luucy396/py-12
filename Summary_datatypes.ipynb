{
  "nbformat": 4,
  "nbformat_minor": 0,
  "metadata": {
    "colab": {
      "name": "Summary_datatypes.ipynb",
      "version": "0.3.2",
      "provenance": [],
      "collapsed_sections": [],
      "include_colab_link": true
    },
    "kernelspec": {
      "name": "python3",
      "display_name": "Python 3"
    }
  },
  "cells": [
    {
      "cell_type": "markdown",
      "metadata": {
        "id": "view-in-github",
        "colab_type": "text"
      },
      "source": [
        "[View in Colaboratory](https://colab.research.google.com/github/sangeunlim/py-12/blob/master/Summary_datatypes.ipynb)"
      ]
    },
    {
      "metadata": {
        "id": "yaQ76DCq6Bo3",
        "colab_type": "text"
      },
      "cell_type": "markdown",
      "source": [
        "##Summary of datatypes in Python\n",
        "\n",
        "*   list\n",
        "\n",
        "*  tuple\n",
        "\n",
        "*   dictionary\n",
        "\n",
        "*  string\n",
        "\n",
        "\n",
        "\n",
        "\n",
        "\n"
      ]
    },
    {
      "metadata": {
        "id": "6xzteWB-6sW3",
        "colab_type": "text"
      },
      "cell_type": "markdown",
      "source": [
        "###리스트 생성 및 항목 추가"
      ]
    },
    {
      "metadata": {
        "id": "Wg2vpvFv5xuO",
        "colab_type": "code",
        "colab": {}
      },
      "cell_type": "code",
      "source": [
        "a = [10,20,30,40,50]"
      ],
      "execution_count": 0,
      "outputs": []
    },
    {
      "metadata": {
        "id": "YVNiRjyA7QK8",
        "colab_type": "code",
        "colab": {}
      },
      "cell_type": "code",
      "source": [
        "print(\"a[0] == \",a[0],\",a[2] ==\",a[2],\"a[4] ==\",a[4])\n",
        "print(\"a[-1] == \",a[-1],\",a[-2] ==\",a[-2],\"a[-5] ==\",a[-5])"
      ],
      "execution_count": 0,
      "outputs": []
    },
    {
      "metadata": {
        "id": "IYhhml357tl1",
        "colab_type": "code",
        "colab": {}
      },
      "cell_type": "code",
      "source": [
        "b=[10,20,\"Hello\", [True,3.14] ]"
      ],
      "execution_count": 0,
      "outputs": []
    },
    {
      "metadata": {
        "id": "WWD-RXC972gN",
        "colab_type": "code",
        "colab": {}
      },
      "cell_type": "code",
      "source": [
        "print(\"b[0] == \",b[0],\",b[2] ==\",b[2],\"b[3] ==\",b[3])\n",
        "print(\"b[-1] == \",b[-1],\",b[-2] ==\",b[-2],\"b[-4] ==\",b[-4])"
      ],
      "execution_count": 0,
      "outputs": []
    },
    {
      "metadata": {
        "id": "vzK17klS8QE1",
        "colab_type": "code",
        "colab": {}
      },
      "cell_type": "code",
      "source": [
        "print(\"b[3][0] == \",b[3][0],\",b[3][1] ==\",b[3][1])\n",
        "print(\"b[-1][-1] == \",b[-1][-1],\",b[-1][-2] ==\",b[-1][-2])"
      ],
      "execution_count": 0,
      "outputs": []
    },
    {
      "metadata": {
        "id": "Ck5eGfzI9odL",
        "colab_type": "code",
        "colab": {}
      },
      "cell_type": "code",
      "source": [
        "print(\"b[-2][-2] == \",b[-2][-2])"
      ],
      "execution_count": 0,
      "outputs": []
    },
    {
      "metadata": {
        "id": "jvHWn1lF_JTr",
        "colab_type": "code",
        "colab": {}
      },
      "cell_type": "code",
      "source": [
        "print(\"a[0:2] == \",a[0:2],\",a[1:] ==\",a[1:])\n",
        "print(\"a[:3] == \",a[:3],\",a[:-2] ==\",a[:-2])\n",
        "print(\"a[:] == \",a[:])"
      ],
      "execution_count": 0,
      "outputs": []
    },
    {
      "metadata": {
        "id": "ZppJ7GTRB4Yg",
        "colab_type": "text"
      },
      "cell_type": "markdown",
      "source": [
        "###tuple"
      ]
    },
    {
      "metadata": {
        "id": "Ttnb3dVjCuHQ",
        "colab_type": "code",
        "colab": {}
      },
      "cell_type": "code",
      "source": [
        "a=(10,20,30,40,50)"
      ],
      "execution_count": 0,
      "outputs": []
    },
    {
      "metadata": {
        "id": "sM6t3Ot-_pWC",
        "colab_type": "code",
        "colab": {}
      },
      "cell_type": "code",
      "source": [
        "print(\"a[0] == \",a[0],\",a[-2] ==\",a[-2],\",a[:] ==\",a[:])\n",
        "print(\"a[0:2] == \",a[0:2],\",a[1:] ==\",a[1:])"
      ],
      "execution_count": 0,
      "outputs": []
    },
    {
      "metadata": {
        "id": "rxjB43HZCP_T",
        "colab_type": "code",
        "colab": {}
      },
      "cell_type": "code",
      "source": [
        "a[0]=100"
      ],
      "execution_count": 0,
      "outputs": []
    },
    {
      "metadata": {
        "id": "YH1ea_3eCyeZ",
        "colab_type": "text"
      },
      "cell_type": "markdown",
      "source": [
        "###dictionary"
      ]
    },
    {
      "metadata": {
        "id": "7C7WEhO1CmBG",
        "colab_type": "code",
        "colab": {}
      },
      "cell_type": "code",
      "source": [
        "score ={\"KIM\":90, \"LEE\":85, \"JUN\":95}"
      ],
      "execution_count": 0,
      "outputs": []
    },
    {
      "metadata": {
        "id": "jROatZilDMoO",
        "colab_type": "code",
        "colab": {}
      },
      "cell_type": "code",
      "source": [
        "print(\"score['KIM'] ==\",score['KIM'])"
      ],
      "execution_count": 0,
      "outputs": []
    },
    {
      "metadata": {
        "id": "eAyAbuTzDWXl",
        "colab_type": "code",
        "colab": {}
      },
      "cell_type": "code",
      "source": [
        "score['HAN'] = 100\n",
        "\n",
        "print(score)"
      ],
      "execution_count": 0,
      "outputs": []
    },
    {
      "metadata": {
        "id": "gEjKf8zdDaIw",
        "colab_type": "code",
        "colab": {}
      },
      "cell_type": "code",
      "source": [
        "print(\"score key == \",score.keys())\n",
        "print(\"score value == \",score.values())\n",
        "print(\"score items == \",score.items())"
      ],
      "execution_count": 0,
      "outputs": []
    },
    {
      "metadata": {
        "id": "e1l8ZjtJDxHG",
        "colab_type": "code",
        "colab": {}
      },
      "cell_type": "code",
      "source": [
        "a = 'A73 , CD'"
      ],
      "execution_count": 0,
      "outputs": []
    },
    {
      "metadata": {
        "id": "Sy9IznFYEmCy",
        "colab_type": "code",
        "colab": {}
      },
      "cell_type": "code",
      "source": [
        "a[1]"
      ],
      "execution_count": 0,
      "outputs": []
    },
    {
      "metadata": {
        "id": "QBV5PIdAFGSH",
        "colab_type": "code",
        "colab": {}
      },
      "cell_type": "code",
      "source": [
        "a= a+',EFG'\n",
        "a"
      ],
      "execution_count": 0,
      "outputs": []
    },
    {
      "metadata": {
        "id": "LX6CvBxSFK9S",
        "colab_type": "code",
        "colab": {}
      },
      "cell_type": "code",
      "source": [
        "b= a.split(',')\n",
        "print(b)"
      ],
      "execution_count": 0,
      "outputs": []
    },
    {
      "metadata": {
        "id": "egh_5nd0FS58",
        "colab_type": "code",
        "colab": {}
      },
      "cell_type": "code",
      "source": [
        "a = [10,20,30,40,50] #리스트\n",
        "b=(10,20,30,40,50) #튜플\n",
        "c={\"KIM\":90,\"LEE\":80} #딕셔너리\n",
        "d='Seoul, Korea'\n",
        "e=[[100,200],[300,400],[500,600]] #이중 리스트\n",
        "\n",
        "print(type(a),type(b),type(c),type(d),type(e))\n",
        "print(len(a),len(b),len(c),len(d),len(e))\n",
        "print(size(e)) #리스트에서는 size 라는 것을 받아들이지 않음"
      ],
      "execution_count": 0,
      "outputs": []
    },
    {
      "metadata": {
        "id": "jVULMwjFG-gH",
        "colab_type": "code",
        "colab": {}
      },
      "cell_type": "code",
      "source": [
        "a = 'Hello'\n",
        "b = {\"KIM\":90,\"LEE\":80}\n",
        "print(list(a),list(b.keys()),list(b.values()),list(b.items()))"
      ],
      "execution_count": 0,
      "outputs": []
    },
    {
      "metadata": {
        "id": "9nanuOpcIAhH",
        "colab_type": "code",
        "colab": {}
      },
      "cell_type": "code",
      "source": [
        "str(3.14)"
      ],
      "execution_count": 0,
      "outputs": []
    },
    {
      "metadata": {
        "id": "O3uMlTUxId_t",
        "colab_type": "code",
        "colab": {}
      },
      "cell_type": "code",
      "source": [
        "str('100')"
      ],
      "execution_count": 0,
      "outputs": []
    },
    {
      "metadata": {
        "id": "gORaEt52IfdF",
        "colab_type": "code",
        "colab": {}
      },
      "cell_type": "code",
      "source": [
        "str([1,2,3])"
      ],
      "execution_count": 0,
      "outputs": []
    },
    {
      "metadata": {
        "id": "9dW-bBavIjna",
        "colab_type": "code",
        "colab": {}
      },
      "cell_type": "code",
      "source": [
        "int('100')"
      ],
      "execution_count": 0,
      "outputs": []
    },
    {
      "metadata": {
        "id": "HmA4RVlPIlKY",
        "colab_type": "code",
        "colab": {}
      },
      "cell_type": "code",
      "source": [
        "int(3.14)"
      ],
      "execution_count": 0,
      "outputs": []
    },
    {
      "metadata": {
        "id": "cAf9V_O6Imkv",
        "colab_type": "code",
        "colab": {}
      },
      "cell_type": "code",
      "source": [
        ""
      ],
      "execution_count": 0,
      "outputs": []
    }
  ]
}